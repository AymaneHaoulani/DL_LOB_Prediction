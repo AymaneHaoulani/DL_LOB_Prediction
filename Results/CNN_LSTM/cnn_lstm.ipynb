{
 "cells": [
  {
   "cell_type": "code",
   "execution_count": 1,
   "id": "5d5ca9e0-eb82-4e73-b130-003b0722791c",
   "metadata": {},
   "outputs": [],
   "source": [
    "import pandas as pd\n",
    "import os\n",
    "import sys\n",
    "import numpy as np\n",
    "\n",
    "current_dir = os.getcwd()\n",
    "parent_dir = os.path.abspath(os.path.join(current_dir, '../..'))\n",
    "sys.path.append(parent_dir)\n",
    "from src.testing import * "
   ]
  },
  {
   "cell_type": "markdown",
   "id": "d0ae35f8-81fb-4cee-8951-086e3e2e7b28",
   "metadata": {},
   "source": [
    "## CNN-LSTM Architecture\n",
    "\n",
    "**Overview:**  \n",
    "The CNN-LSTM hybrid model combines the strengths of CNNs and LSTMs. The CNN layer captures local patterns across the time dimension, while the LSTM layers model longer-term dependencies. This design allows the model to learn both short-term and long-term patterns more effectively than an LSTM alone.\n",
    "\n",
    "We have chosen the pretrained hyperparameters from the research article by **Omole and Enke (2024)**, titled *Deep Learning for Bitcoin Price Direction Prediction: Models and Trading Strategies Empirically Compared* ([Omole & Enke, 2024](https://doi.org/10.1186/s40854-024-00643-1)). Their work demonstrated that this configuration provides a good balance between prediction accuracy and computational efficiency when applied to financial time-series data.\n",
    "\n",
    "**Architecture:**  \n",
    "\n",
    "![CNN-LSTM Architecture](../../images/CNN_LSTM_architecture.png)\n",
    "\n",
    "1. **Input:** Sequence of vectors from time $t-T-1$ to $t$ (with T the sequence length). \n",
    "2. **CNN Block:** A 1D convolution layer followed by ReLU, BatchNorm, and Pooling.\n",
    "3. **LSTM Blocks:** Features are passed to stacked LSTM layers after CNN downsampling.\n",
    "4. **Dropout:** A dropout rate of 0.5 is used to reduce overfitting.\n",
    "5. **Fully Connected Layer:** used before applying softmax function\n",
    "6. **Softmax function**: for multi-class classification\n",
    "7. **Output**: Down (D), Stable (S), or Up (U) predictions.\n",
    "\n",
    "**Optimization**: Cross-Entropy Loss & Adam Optimizer\n",
    "\n",
    "**General Hyperparameters:**  \n",
    "- `sequence_length`: $10$\n",
    "- `batch_size`: $64$  \n",
    "\n",
    "**Specific Hyperparameters:**  \n",
    "- `lstm_hidden_dim`: $512$ for the first LSTM layer, $320$ for the second  \n",
    "- `dropout_rate`: $0.5$ \n",
    "- `learning_rate`: $0.001$\n",
    "- `num_epochs`: $2$\n"
   ]
  },
  {
   "cell_type": "code",
   "execution_count": 2,
   "id": "8c723943-0579-4e2a-b10e-2a0e6030d0fe",
   "metadata": {},
   "outputs": [
    {
     "name": "stdout",
     "output_type": "stream",
     "text": [
      "Starting tests for CNN_LSTM model.\n",
      "\n",
      "=== Predictions for CNN_LSTM Model | Horizon = 10 ===\n",
      "Scaler loaded from ../trained_models/model\\CNN_LSTM\\scaler_cnn_lstm_horizon_10.pkl\n",
      "CNN_LSTM model loaded from ../trained_models/model\\CNN_LSTM\\cnn_lstm_horizon_10.pth\n"
     ]
    },
    {
     "name": "stderr",
     "output_type": "stream",
     "text": [
      "Making Predictions CNN_LSTM Horizon 10: 39818it [06:25, 103.42it/s]\n"
     ]
    },
    {
     "name": "stdout",
     "output_type": "stream",
     "text": [
      "--- CNN_LSTM Model | Horizon = 10 ---\n",
      "Accuracy: 0.945836\n",
      "Weighted F1 Score: 0.945706\n",
      "\n",
      "Classification Report:\n",
      "              precision    recall  f1-score   support\n",
      "\n",
      "           D       0.84      0.81      0.83    251726\n",
      "           S       0.97      0.98      0.97   2053299\n",
      "           U       0.82      0.83      0.82    242633\n",
      "\n",
      "    accuracy                           0.95   2547658\n",
      "   macro avg       0.88      0.87      0.88   2547658\n",
      "weighted avg       0.95      0.95      0.95   2547658\n",
      "\n",
      "\n",
      "--------------------------------------------------\n",
      "\n",
      "=== Predictions for CNN_LSTM Model | Horizon = 20 ===\n",
      "Scaler loaded from ../trained_models/model\\CNN_LSTM\\scaler_cnn_lstm_horizon_20.pkl\n",
      "CNN_LSTM model loaded from ../trained_models/model\\CNN_LSTM\\cnn_lstm_horizon_20.pth\n"
     ]
    },
    {
     "name": "stderr",
     "output_type": "stream",
     "text": [
      "Making Predictions CNN_LSTM Horizon 20: 39817it [06:26, 103.03it/s]\n"
     ]
    },
    {
     "name": "stdout",
     "output_type": "stream",
     "text": [
      "--- CNN_LSTM Model | Horizon = 20 ---\n",
      "Accuracy: 0.948355\n",
      "Weighted F1 Score: 0.947557\n",
      "\n",
      "Classification Report:\n",
      "              precision    recall  f1-score   support\n",
      "\n",
      "           D       0.92      0.84      0.88    409499\n",
      "           S       0.97      0.99      0.98   1745124\n",
      "           U       0.90      0.88      0.89    393025\n",
      "\n",
      "    accuracy                           0.95   2547648\n",
      "   macro avg       0.93      0.90      0.91   2547648\n",
      "weighted avg       0.95      0.95      0.95   2547648\n",
      "\n",
      "\n",
      "--------------------------------------------------\n",
      "\n",
      "=== Predictions for CNN_LSTM Model | Horizon = 50 ===\n",
      "Scaler loaded from ../trained_models/model\\CNN_LSTM\\scaler_cnn_lstm_horizon_50.pkl\n",
      "CNN_LSTM model loaded from ../trained_models/model\\CNN_LSTM\\cnn_lstm_horizon_50.pth\n"
     ]
    },
    {
     "name": "stderr",
     "output_type": "stream",
     "text": [
      "Making Predictions CNN_LSTM Horizon 50: 39817it [06:22, 104.00it/s]\n"
     ]
    },
    {
     "name": "stdout",
     "output_type": "stream",
     "text": [
      "--- CNN_LSTM Model | Horizon = 50 ---\n",
      "Accuracy: 0.779322\n",
      "Weighted F1 Score: 0.780357\n",
      "\n",
      "Classification Report:\n",
      "              precision    recall  f1-score   support\n",
      "\n",
      "           D       0.65      0.71      0.68    686217\n",
      "           S       0.83      0.84      0.84   1200712\n",
      "           U       0.85      0.73      0.78    660689\n",
      "\n",
      "    accuracy                           0.78   2547618\n",
      "   macro avg       0.77      0.76      0.77   2547618\n",
      "weighted avg       0.78      0.78      0.78   2547618\n",
      "\n",
      "\n",
      "--------------------------------------------------\n",
      "\n",
      "=== Predictions for CNN_LSTM Model | Horizon = 100 ===\n",
      "Scaler loaded from ../trained_models/model\\CNN_LSTM\\scaler_cnn_lstm_horizon_100.pkl\n",
      "CNN_LSTM model loaded from ../trained_models/model\\CNN_LSTM\\cnn_lstm_horizon_100.pth\n"
     ]
    },
    {
     "name": "stderr",
     "output_type": "stream",
     "text": [
      "Making Predictions CNN_LSTM Horizon 100: 39816it [06:24, 103.62it/s]\n"
     ]
    },
    {
     "name": "stdout",
     "output_type": "stream",
     "text": [
      "--- CNN_LSTM Model | Horizon = 100 ---\n",
      "Accuracy: 0.787082\n",
      "Weighted F1 Score: 0.781506\n",
      "\n",
      "Classification Report:\n",
      "              precision    recall  f1-score   support\n",
      "\n",
      "           D       0.73      0.74      0.73    819038\n",
      "           S       0.83      0.96      0.89    930007\n",
      "           U       0.80      0.63      0.71    798523\n",
      "\n",
      "    accuracy                           0.79   2547568\n",
      "   macro avg       0.78      0.78      0.78   2547568\n",
      "weighted avg       0.79      0.79      0.78   2547568\n",
      "\n",
      "\n",
      "--------------------------------------------------\n",
      "\n",
      "=== Metrics Summary - CNN_LSTM ===\n",
      "Model_Type Horizon  Accuracy  Weighted_F1\n",
      "  CNN_LSTM      10  0.945836     0.945706\n",
      "  CNN_LSTM      20  0.948355     0.947557\n",
      "  CNN_LSTM      50  0.779322     0.780357\n",
      "  CNN_LSTM     100  0.787082     0.781506\n",
      "\n",
      "==================================================\n",
      "\n",
      "CNN_LSTM metrics summary saved at: ../trained_models/model\\cnn_lstm_summary_metrics.csv\n",
      "\n"
     ]
    }
   ],
   "source": [
    "test_cnn_lstm_model()"
   ]
  }
 ],
 "metadata": {
  "kernelspec": {
   "display_name": "Python 3 (ipykernel)",
   "language": "python",
   "name": "python3"
  },
  "language_info": {
   "codemirror_mode": {
    "name": "ipython",
    "version": 3
   },
   "file_extension": ".py",
   "mimetype": "text/x-python",
   "name": "python",
   "nbconvert_exporter": "python",
   "pygments_lexer": "ipython3",
   "version": "3.12.7"
  }
 },
 "nbformat": 4,
 "nbformat_minor": 5
}
