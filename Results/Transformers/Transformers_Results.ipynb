{
 "cells": [
  {
   "cell_type": "code",
   "execution_count": 28,
   "metadata": {},
   "outputs": [],
   "source": [
    "import math\n",
    "import torch\n",
    "import torch.nn as nn\n",
    "import numpy as np\n",
    "import pandas as pd\n",
    "import matplotlib.pyplot as plt\n",
    "from sklearn.manifold import TSNE\n",
    "from sklearn.manifold import TSNE\n",
    "import time\n",
    "from sklearn.utils.class_weight import compute_class_weight"
   ]
  },
  {
   "cell_type": "code",
   "execution_count": 1,
   "metadata": {},
   "outputs": [],
   "source": [
    "import sys\n",
    "import os\n",
    "sys.path.append(os.path.abspath(os.path.join(os.getcwd(), '../..')))\n",
    "from Models.Transformers.Embeddings import *\n",
    "from Models.Transformers.tAPETransformer.model import *\n",
    "from src.Preprocessing.DataImport import *\n",
    "from src.Preprocessing.Preprocessing import *\n",
    "from src.Training.Transformers.train import *\n",
    "from src.Evaluation.Transformers.evaluate import *\n",
    "from Models.Transformers.RegularTransformer.model import *\n"
   ]
  },
  {
   "cell_type": "markdown",
   "metadata": {},
   "source": [
    "# Baseline Architecture"
   ]
  },
  {
   "cell_type": "markdown",
   "metadata": {},
   "source": [
    "The proposed architecture is a streamlined Transformer model designed for time-series classification tasks. It features a positional encoding layer that maps input data to a high-dimensional space (d_model = 64) while incorporating normalization and dropout to improve convergence and generalization. The core of the model is a Transformer encoder, built with two layers and four attention heads per layer, enabling it to capture intricate temporal dependencies and relationships within the input sequence. The classification head employs a lightweight feedforward network, combining a reduced hidden dimension and non-linear activation to transform the encoded features into class predictions. The architecture is intentionally minimalistic, focusing on efficiency and interpretability while maintaining sufficient capacity to model complex time-series data. Regularization techniques, such as dropout and weight decay, are employed to enhance robustness, making the model a strong candidate for practical applications and baseline comparisons."
   ]
  },
  {
   "cell_type": "markdown",
   "metadata": {},
   "source": [
    "![Image description](../../images/Transformer_Architecture.png)"
   ]
  },
  {
   "cell_type": "code",
   "execution_count": null,
   "metadata": {},
   "outputs": [],
   "source": [
    "# Definition of the method that performs our main experiment (7 days training + 3 days of testing on multiple horizons k={10,20,50,100})\n",
    "def benchmark(combined_data, model, config,model_name):\n",
    "    horizons = [10,20,50,100]\n",
    "    results = []\n",
    "\n",
    "    for horizon in horizons:\n",
    "        print(f\"\\nEvaluating model with horizon: {horizon}\")\n",
    "\n",
    "        # Generate dataset with the correct horizon\n",
    "        current_data = feature_engineering_and_labels_generation(combined_data,horizon)\n",
    "\n",
    "        # Load and split data\n",
    "        train_data, test_data = split_data(current_data, train_size=0.7)\n",
    "        print(\"The number of data points in the testing set is:\",len(test_data))\n",
    "\n",
    "        # Train Model on chunks\n",
    "          # We use a subset of the testing set as validation\n",
    "            # Determine the maximum starting index (so we don't exceed the DataFrame length)\n",
    "        max_start_index = len(test_data) - 500000\n",
    "            # Randomly choose a starting index\n",
    "        start_idx = np.random.randint(0, max_start_index)\n",
    "            # Select the consecutive 500000 rows starting from the chosen index\n",
    "        test_data_subset = test_data[start_idx:start_idx + 500000]\n",
    "          # Training\n",
    "        model = train_model_in_chunks(model, train_data, test_data_subset, config, chunk_size=500000)\n",
    "\n",
    "        # Save the model\n",
    "        model_name = model_name+f\"{horizon}_horizon_transformer.pth\"\n",
    "        torch.save(model.state_dict(), f\"../Pretrained/Transformer/{model_name}\")\n",
    "\n",
    "        # Evaluate the model\n",
    "        final_metrics = evaluate_model_in_chunks(model, test_data, config, chunk_size=500000)\n",
    "        final_metrics['Horizon'] = horizon\n",
    "        results.append(final_metrics)\n",
    "\n",
    "    # Convert results to DataFrame\n",
    "    results_df = pd.DataFrame(results)\n",
    "    print(\"\\nFinal Results:\")\n",
    "    print(results_df)"
   ]
  },
  {
   "cell_type": "code",
   "execution_count": null,
   "metadata": {},
   "outputs": [
    {
     "name": "stdout",
     "output_type": "stream",
     "text": [
      "\n",
      "Evaluating model with horizon: 10\n"
     ]
    },
    {
     "name": "stderr",
     "output_type": "stream",
     "text": [
      "/usr/local/lib/python3.10/dist-packages/torch/nn/modules/transformer.py:379: UserWarning: enable_nested_tensor is True, but self.use_nested_tensor is False because encoder_layer.self_attn.batch_first was not True(use batch_first for better inference performance)\n",
      "  warnings.warn(\n"
     ]
    },
    {
     "name": "stdout",
     "output_type": "stream",
     "text": [
      "\n",
      "Training on chunk 0 finished\n",
      "\n",
      "Training on chunk 1 finished\n",
      "\n",
      "Training on chunk 2 finished\n",
      "\n",
      "Training on chunk 3 finished\n",
      "\n",
      "Training on chunk 4 finished\n",
      "\n",
      "Training on chunk 5 finished\n",
      "\n",
      "Training on chunk 6 finished\n",
      "\n",
      "Training on chunk 7 finished\n",
      "\n",
      "Training on chunk 8 finished\n",
      "\n",
      "Training on chunk 9 finished\n",
      "\n",
      "Training on chunk 10 finished\n",
      "\n",
      "Training on chunk 11 finished\n",
      "\n",
      "Training on chunk 12 finished\n",
      "\n",
      "Training on chunk 13 finished\n",
      "Epoch [1/2]\n",
      "Train Loss: 0.0018, Accuracy: 96.73%\n",
      "Val Loss: 0.0027, Accuracy: 94.51%\n",
      "\n",
      "Training on chunk 0 finished\n",
      "\n",
      "Training on chunk 1 finished\n",
      "\n",
      "Training on chunk 2 finished\n",
      "\n",
      "Training on chunk 3 finished\n",
      "\n",
      "Training on chunk 4 finished\n",
      "\n",
      "Training on chunk 5 finished\n",
      "\n",
      "Training on chunk 6 finished\n",
      "\n",
      "Training on chunk 7 finished\n",
      "\n",
      "Training on chunk 8 finished\n",
      "\n",
      "Training on chunk 9 finished\n",
      "\n",
      "Training on chunk 10 finished\n",
      "\n",
      "Training on chunk 11 finished\n",
      "\n",
      "Training on chunk 12 finished\n",
      "\n",
      "Training on chunk 13 finished\n",
      "Epoch [2/2]\n",
      "Train Loss: 0.0016, Accuracy: 97.01%\n",
      "Val Loss: 0.0027, Accuracy: 95.02%\n",
      "\n",
      "Evaluation on chunk 0 finished\n",
      "\n",
      "Evaluation on chunk 1 finished\n",
      "\n",
      "Evaluation on chunk 2 finished\n",
      "\n",
      "Evaluation on chunk 3 finished\n",
      "\n",
      "Evaluation on chunk 4 finished\n",
      "\n",
      "Evaluation on chunk 5 finished\n",
      "Overall Accuracy: 88.23%\n",
      "Overall F1 Score: 0.8898\n",
      "Overall Recall: 0.8823\n",
      "Overall Precision: 0.9103\n",
      "\n",
      "Evaluating model with horizon: 20\n"
     ]
    },
    {
     "name": "stderr",
     "output_type": "stream",
     "text": [
      "/usr/local/lib/python3.10/dist-packages/torch/nn/modules/transformer.py:379: UserWarning: enable_nested_tensor is True, but self.use_nested_tensor is False because encoder_layer.self_attn.batch_first was not True(use batch_first for better inference performance)\n",
      "  warnings.warn(\n"
     ]
    },
    {
     "name": "stdout",
     "output_type": "stream",
     "text": [
      "\n",
      "Training on chunk 0 finished\n",
      "\n",
      "Training on chunk 1 finished\n",
      "\n",
      "Training on chunk 2 finished\n",
      "\n",
      "Training on chunk 3 finished\n",
      "\n",
      "Training on chunk 4 finished\n",
      "\n",
      "Training on chunk 5 finished\n",
      "\n",
      "Training on chunk 6 finished\n",
      "\n",
      "Training on chunk 7 finished\n",
      "\n",
      "Training on chunk 8 finished\n",
      "\n",
      "Training on chunk 9 finished\n",
      "\n",
      "Training on chunk 10 finished\n",
      "\n",
      "Training on chunk 11 finished\n",
      "\n",
      "Training on chunk 12 finished\n",
      "\n",
      "Training on chunk 13 finished\n",
      "Epoch [1/2]\n",
      "Train Loss: 0.0015, Accuracy: 97.39%\n",
      "Val Loss: 0.0186, Accuracy: 72.11%\n",
      "\n",
      "Training on chunk 0 finished\n",
      "\n",
      "Training on chunk 1 finished\n",
      "\n",
      "Training on chunk 2 finished\n",
      "\n",
      "Training on chunk 3 finished\n",
      "\n",
      "Training on chunk 4 finished\n",
      "\n",
      "Training on chunk 5 finished\n",
      "\n",
      "Training on chunk 6 finished\n",
      "\n",
      "Training on chunk 7 finished\n",
      "\n",
      "Training on chunk 8 finished\n",
      "\n",
      "Training on chunk 9 finished\n",
      "\n",
      "Training on chunk 10 finished\n",
      "\n",
      "Training on chunk 11 finished\n",
      "\n",
      "Training on chunk 12 finished\n",
      "\n",
      "Training on chunk 13 finished\n",
      "Epoch [2/2]\n",
      "Train Loss: 0.0012, Accuracy: 97.93%\n",
      "Val Loss: 0.0625, Accuracy: 33.93%\n",
      "\n",
      "Evaluation on chunk 0 finished\n",
      "\n",
      "Evaluation on chunk 1 finished\n",
      "\n",
      "Evaluation on chunk 2 finished\n",
      "\n",
      "Evaluation on chunk 3 finished\n",
      "\n",
      "Evaluation on chunk 4 finished\n",
      "\n",
      "Evaluation on chunk 5 finished\n",
      "Overall Accuracy: 57.52%\n",
      "Overall F1 Score: 0.5684\n",
      "Overall Recall: 0.5752\n",
      "Overall Precision: 0.7968\n",
      "\n",
      "Evaluating model with horizon: 50\n"
     ]
    },
    {
     "name": "stderr",
     "output_type": "stream",
     "text": [
      "/usr/local/lib/python3.10/dist-packages/torch/nn/modules/transformer.py:379: UserWarning: enable_nested_tensor is True, but self.use_nested_tensor is False because encoder_layer.self_attn.batch_first was not True(use batch_first for better inference performance)\n",
      "  warnings.warn(\n"
     ]
    },
    {
     "name": "stdout",
     "output_type": "stream",
     "text": [
      "\n",
      "Training on chunk 0 finished\n",
      "\n",
      "Training on chunk 1 finished\n",
      "\n",
      "Training on chunk 2 finished\n",
      "\n",
      "Training on chunk 3 finished\n",
      "\n",
      "Training on chunk 4 finished\n",
      "\n",
      "Training on chunk 5 finished\n",
      "\n",
      "Training on chunk 6 finished\n",
      "\n",
      "Training on chunk 7 finished\n",
      "\n",
      "Training on chunk 8 finished\n",
      "\n",
      "Training on chunk 9 finished\n",
      "\n",
      "Training on chunk 10 finished\n",
      "\n",
      "Training on chunk 11 finished\n",
      "\n",
      "Training on chunk 12 finished\n",
      "\n",
      "Training on chunk 13 finished\n",
      "Epoch [1/2]\n",
      "Train Loss: 0.0023, Accuracy: 95.05%\n",
      "Val Loss: 0.0662, Accuracy: 36.48%\n",
      "\n",
      "Training on chunk 0 finished\n",
      "\n",
      "Training on chunk 1 finished\n",
      "\n",
      "Training on chunk 2 finished\n",
      "\n",
      "Training on chunk 3 finished\n",
      "\n",
      "Training on chunk 4 finished\n",
      "\n",
      "Training on chunk 5 finished\n",
      "\n",
      "Training on chunk 6 finished\n",
      "\n",
      "Training on chunk 7 finished\n",
      "\n",
      "Training on chunk 8 finished\n",
      "\n",
      "Training on chunk 9 finished\n",
      "\n",
      "Training on chunk 10 finished\n",
      "\n",
      "Training on chunk 11 finished\n",
      "\n",
      "Training on chunk 12 finished\n",
      "\n",
      "Training on chunk 13 finished\n",
      "Epoch [2/2]\n",
      "Train Loss: 0.0017, Accuracy: 96.44%\n",
      "Val Loss: 0.0644, Accuracy: 35.76%\n",
      "\n",
      "Evaluation on chunk 0 finished\n",
      "\n",
      "Evaluation on chunk 1 finished\n",
      "\n",
      "Evaluation on chunk 2 finished\n",
      "\n",
      "Evaluation on chunk 3 finished\n",
      "\n",
      "Evaluation on chunk 4 finished\n",
      "\n",
      "Evaluation on chunk 5 finished\n",
      "Overall Accuracy: 52.39%\n",
      "Overall F1 Score: 0.4099\n",
      "Overall Recall: 0.5239\n",
      "Overall Precision: 0.7122\n",
      "\n",
      "Evaluating model with horizon: 100\n"
     ]
    },
    {
     "name": "stderr",
     "output_type": "stream",
     "text": [
      "/usr/local/lib/python3.10/dist-packages/torch/nn/modules/transformer.py:379: UserWarning: enable_nested_tensor is True, but self.use_nested_tensor is False because encoder_layer.self_attn.batch_first was not True(use batch_first for better inference performance)\n",
      "  warnings.warn(\n"
     ]
    },
    {
     "name": "stdout",
     "output_type": "stream",
     "text": [
      "\n",
      "Training on chunk 0 finished\n",
      "\n",
      "Training on chunk 1 finished\n",
      "\n",
      "Training on chunk 2 finished\n",
      "\n",
      "Training on chunk 3 finished\n",
      "\n",
      "Training on chunk 4 finished\n",
      "\n",
      "Training on chunk 5 finished\n",
      "\n",
      "Training on chunk 6 finished\n",
      "\n",
      "Training on chunk 7 finished\n",
      "\n",
      "Training on chunk 8 finished\n",
      "\n",
      "Training on chunk 9 finished\n",
      "\n",
      "Training on chunk 10 finished\n",
      "\n",
      "Training on chunk 11 finished\n",
      "\n",
      "Training on chunk 12 finished\n",
      "\n",
      "Training on chunk 13 finished\n",
      "Epoch [1/2]\n",
      "Train Loss: 0.0025, Accuracy: 94.07%\n",
      "Val Loss: 0.0087, Accuracy: 73.49%\n",
      "\n",
      "Training on chunk 0 finished\n",
      "\n",
      "Training on chunk 1 finished\n",
      "\n",
      "Training on chunk 2 finished\n",
      "\n",
      "Training on chunk 3 finished\n",
      "\n",
      "Training on chunk 4 finished\n",
      "\n",
      "Training on chunk 5 finished\n",
      "\n",
      "Training on chunk 6 finished\n",
      "\n",
      "Training on chunk 7 finished\n",
      "\n",
      "Training on chunk 8 finished\n",
      "\n",
      "Training on chunk 9 finished\n",
      "\n",
      "Training on chunk 10 finished\n",
      "\n",
      "Training on chunk 11 finished\n",
      "\n",
      "Training on chunk 12 finished\n",
      "\n",
      "Training on chunk 13 finished\n",
      "Epoch [2/2]\n",
      "Train Loss: 0.0017, Accuracy: 96.16%\n",
      "Val Loss: 0.0091, Accuracy: 72.06%\n",
      "\n",
      "Evaluation on chunk 0 finished\n",
      "\n",
      "Evaluation on chunk 1 finished\n",
      "\n",
      "Evaluation on chunk 2 finished\n",
      "\n",
      "Evaluation on chunk 3 finished\n",
      "\n",
      "Evaluation on chunk 4 finished\n",
      "\n",
      "Evaluation on chunk 5 finished\n",
      "Overall Accuracy: 70.76%\n",
      "Overall F1 Score: 0.6605\n",
      "Overall Recall: 0.7076\n",
      "Overall Precision: 0.7459\n",
      "\n",
      "Final Results:\n",
      "       loss   accuracy        f1    recall  precision  Horizon\n",
      "0  0.004713  88.232531  0.889801  0.882325   0.910344       10\n",
      "1  0.039200  57.522211  0.568365  0.575222   0.796781       20\n",
      "2  0.041243  52.387480  0.409913  0.523874   0.712235       50\n",
      "3  0.010685  70.758605  0.660511  0.707586   0.745910      100\n",
      "Evaluation results saved to: /content/drive/My Drive/transformers_comparison_for_various_horizons.csv\n"
     ]
    }
   ],
   "source": [
    "# Data Retrieval\n",
    "combined_data = import_data()\n",
    "\n",
    "# Configuration\n",
    "config = TrainingConfig(combined_data)\n",
    "\n",
    "# We set the sequence length at 10 (common choice in LOB data experiences)\n",
    "config.seq_len = 10\n",
    "\n",
    "# Definition of the baseline transformer model\n",
    "model = TimeSeriesTransformerWrapper(\n",
    "            input_dim=config.input_dim,\n",
    "            seq_len=config.seq_len,\n",
    "            num_classes=config.num_classes\n",
    "            ).to(config.device)\n",
    "\n",
    "# Results time!\n",
    "benchmark(combined_data, model, config,\"baseline_transformer\")"
   ]
  },
  {
   "cell_type": "markdown",
   "metadata": {},
   "source": [
    "# Improving the embedding technique"
   ]
  },
  {
   "cell_type": "markdown",
   "metadata": {},
   "source": [
    "A key area for improvement is the embedding layer. The baseline architecture does not incorporate advanced positional encoding, which is particularly useful for time series data. To address this, we explored three main methods: random/no particular positional encoding and a novel method introduced in 2023 for time series data called Time Absolute Position Encoding (tAPE)."
   ]
  },
  {
   "cell_type": "code",
   "execution_count": null,
   "metadata": {},
   "outputs": [],
   "source": [
    "def prepare_benchmark_data(data, sequence_length=10, device=\"cuda\"):\n",
    "    \n",
    "    # Remove non-feature columns\n",
    "    features = [col for col in data.columns if col not in ['label', 'UpdateID', 'Timestamp']]\n",
    "    X = data[features].values\n",
    "\n",
    "    # Normalize features\n",
    "    mean = X.mean(axis=0)\n",
    "    std = X.std(axis=0)\n",
    "    std = np.where(std == 0, 1e-8, std)  # Avoid division by zero in case of constant features\n",
    "    X_normalized = (X - mean) / std\n",
    "\n",
    "    # Convert to PyTorch tensor and move to the GPU\n",
    "    X_tensor = torch.tensor(X_normalized, dtype=torch.float32, device=device).unsqueeze(0)\n",
    "\n",
    "    return X_tensor\n"
   ]
  },
  {
   "cell_type": "markdown",
   "metadata": {},
   "source": [
    "Rather than simply training separate models to determine the best approach, we employ unsupervised learning techniques like t-SNE to visualize the embeddings in a low-dimensional space. This will allow us to assess whether the embeddings effectively capture temporal relationships in the data."
   ]
  },
  {
   "cell_type": "code",
   "execution_count": null,
   "metadata": {},
   "outputs": [],
   "source": [
    "def benchmark_embeddings(df, d_model=64, device=\"cuda\"):\n",
    "    \n",
    "    # Prepare input data\n",
    "    input_data = prepare_benchmark_data(df, device=device)\n",
    "    input_dim = input_data.shape[2]  # Number of input features\n",
    "\n",
    "    # Define embedding models, moved to GPU\n",
    "    models = {\n",
    "        'Linear Positional Encoder': LinearPositionalEncoder(input_dim, d_model).to(device),\n",
    "        'Time-Adaptive PE': tAPE(input_dim=input_dim, d_model=d_model).to(device)\n",
    "    }\n",
    "\n",
    "    embeddings_results = {}\n",
    "\n",
    "    # Compute embeddings\n",
    "    for name, model in models.items():\n",
    "        with torch.no_grad():\n",
    "            embeddings = model(input_data)  # Embedding computation on GPU\n",
    "        embeddings_results[name] = embeddings.cpu()  # Move back to CPU for further processing\n",
    "\n",
    "        ## Visualization and Analysis using t-sne\n",
    "    tsne = TSNE(n_components=2, perplexity=30, random_state=42)\n",
    "\n",
    "    for name, embeddings in embeddings_results.items():\n",
    "        print(f\"Current Model: {name}\")\n",
    "        # Squeeze out batch dimension for visualization\n",
    "        embeddings_squeezed = embeddings.squeeze(0)\n",
    "        embeddings_np = embeddings_squeezed.numpy()  # Convert to NumPy\n",
    "        embeddings_2d = tsne.fit_transform(embeddings_np)  # GPU-accelerated t-SNE\n",
    "\n",
    "        # Plot for each embedding method\n",
    "        plt.figure(figsize=(9, 6))\n",
    "        plt.scatter(\n",
    "            embeddings_2d[:, 0], embeddings_2d[:, 1],\n",
    "            c=np.arange(len(embeddings_2d)),  # Temporal sequence\n",
    "            cmap='viridis', alpha=0.7\n",
    "        )\n",
    "        plt.colorbar(label='Temporal Sequence')  # Add color bar to represent time\n",
    "        plt.title(f't-SNE Visualization of {name}')\n",
    "        plt.xlabel('Component 1')\n",
    "        plt.ylabel('Component 2')\n",
    "        plt.tight_layout()\n",
    "        plt.show()"
   ]
  },
  {
   "cell_type": "code",
   "execution_count": null,
   "metadata": {},
   "outputs": [
    {
     "name": "stdout",
     "output_type": "stream",
     "text": [
      "Current Model: Linear Positional Encoder\n"
     ]
    },
    {
     "data": {
      "image/png": "[encoded data removed]",
      "text/plain": [
       "<Figure size 900x600 with 2 Axes>"
      ]
     },
     "metadata": {},
     "output_type": "display_data"
    },
    {
     "name": "stdout",
     "output_type": "stream",
     "text": [
      "Current Model: Time-Adaptive PE\n"
     ]
    },
    {
     "data": {
      "image/png": "[encoded data removed]",
      "text/plain": [
       "<Figure size 900x600 with 2 Axes>"
      ]
     },
     "metadata": {},
     "output_type": "display_data"
    }
   ],
   "source": [
    "# Perform Benchmark\n",
    "df = pd.read_csv('../data/bid_ask_data_BTCUSDT_20241015.csv')\n",
    "# Take a sample of the data since t-SNE's complexity is enormous\n",
    "data = df[:100000]\n",
    "embeddings_2d = benchmark_embeddings(data)"
   ]
  },
  {
   "cell_type": "markdown",
   "metadata": {},
   "source": [
    "As shown in the figures, the tAPE method successfully captures temporal relationships, clustering close time frames together. This will likely enable the attention mechanism to identify relevant patterns more effectively compared to a simple projection. Let's test this hypothesis!"
   ]
  },
  {
   "cell_type": "code",
   "execution_count": null,
   "metadata": {},
   "outputs": [
    {
     "name": "stdout",
     "output_type": "stream",
     "text": [
      "\n",
      "Evaluating model with horizon: 10\n",
      "2563905\n"
     ]
    },
    {
     "name": "stderr",
     "output_type": "stream",
     "text": [
      "/usr/local/lib/python3.10/dist-packages/torch/nn/modules/transformer.py:379: UserWarning: enable_nested_tensor is True, but self.use_nested_tensor is False because encoder_layer.self_attn.batch_first was not True(use batch_first for better inference performance)\n",
      "  warnings.warn(\n"
     ]
    },
    {
     "name": "stdout",
     "output_type": "stream",
     "text": [
      "\n",
      "Training on chunk 0 finished\n",
      "\n",
      "Training on chunk 1 finished\n",
      "\n",
      "Training on chunk 2 finished\n",
      "\n",
      "Training on chunk 3 finished\n",
      "\n",
      "Training on chunk 4 finished\n",
      "\n",
      "Training on chunk 5 finished\n",
      "\n",
      "Training on chunk 6 finished\n",
      "\n",
      "Training on chunk 7 finished\n",
      "\n",
      "Training on chunk 8 finished\n",
      "\n",
      "Training on chunk 9 finished\n",
      "\n",
      "Training on chunk 10 finished\n",
      "\n",
      "Training on chunk 11 finished\n",
      "Epoch [1/2]\n",
      "Train Loss: 0.0016, Accuracy: 97.29%\n",
      "Val Loss: 0.0018, Accuracy: 96.98%\n",
      "\n",
      "Training on chunk 0 finished\n",
      "\n",
      "Training on chunk 1 finished\n",
      "\n",
      "Training on chunk 2 finished\n",
      "\n",
      "Training on chunk 3 finished\n",
      "\n",
      "Training on chunk 4 finished\n",
      "\n",
      "Training on chunk 5 finished\n",
      "\n",
      "Training on chunk 6 finished\n",
      "\n",
      "Training on chunk 7 finished\n",
      "\n",
      "Training on chunk 8 finished\n",
      "\n",
      "Training on chunk 9 finished\n",
      "\n",
      "Training on chunk 10 finished\n",
      "\n",
      "Training on chunk 11 finished\n",
      "Epoch [2/2]\n",
      "Train Loss: 0.0015, Accuracy: 97.50%\n",
      "Val Loss: 0.0019, Accuracy: 97.06%\n",
      "\n",
      "Evaluation on chunk 0 finished\n",
      "\n",
      "Evaluation on chunk 1 finished\n",
      "\n",
      "Evaluation on chunk 2 finished\n",
      "\n",
      "Evaluation on chunk 3 finished\n",
      "\n",
      "Evaluation on chunk 4 finished\n",
      "\n",
      "Evaluation on chunk 5 finished\n",
      "Overall Accuracy: 97.54%\n",
      "Overall F1 Score: 0.9748\n",
      "Overall Recall: 0.9754\n",
      "Overall Precision: 0.9753\n",
      "\n",
      "Evaluating model with horizon: 20\n",
      "2563905\n"
     ]
    },
    {
     "name": "stderr",
     "output_type": "stream",
     "text": [
      "/usr/local/lib/python3.10/dist-packages/torch/nn/modules/transformer.py:379: UserWarning: enable_nested_tensor is True, but self.use_nested_tensor is False because encoder_layer.self_attn.batch_first was not True(use batch_first for better inference performance)\n",
      "  warnings.warn(\n"
     ]
    },
    {
     "name": "stdout",
     "output_type": "stream",
     "text": [
      "\n",
      "Training on chunk 0 finished\n",
      "\n",
      "Training on chunk 1 finished\n",
      "\n",
      "Training on chunk 2 finished\n",
      "\n",
      "Training on chunk 3 finished\n",
      "\n",
      "Training on chunk 4 finished\n",
      "\n",
      "Training on chunk 5 finished\n",
      "\n",
      "Training on chunk 6 finished\n",
      "\n",
      "Training on chunk 7 finished\n",
      "\n",
      "Training on chunk 8 finished\n",
      "\n",
      "Training on chunk 9 finished\n",
      "\n",
      "Training on chunk 10 finished\n",
      "\n",
      "Training on chunk 11 finished\n",
      "Epoch [1/2]\n",
      "Train Loss: 0.0016, Accuracy: 97.21%\n",
      "Val Loss: 0.0017, Accuracy: 97.06%\n",
      "\n",
      "Training on chunk 0 finished\n",
      "\n",
      "Training on chunk 1 finished\n",
      "\n",
      "Training on chunk 2 finished\n",
      "\n",
      "Training on chunk 3 finished\n",
      "\n",
      "Training on chunk 4 finished\n",
      "\n",
      "Training on chunk 5 finished\n",
      "\n",
      "Training on chunk 6 finished\n",
      "\n",
      "Training on chunk 7 finished\n",
      "\n",
      "Training on chunk 8 finished\n",
      "\n",
      "Training on chunk 9 finished\n",
      "\n",
      "Training on chunk 10 finished\n",
      "\n",
      "Training on chunk 11 finished\n",
      "Epoch [2/2]\n",
      "Train Loss: 0.0013, Accuracy: 97.67%\n",
      "Val Loss: 0.0015, Accuracy: 97.44%\n",
      "\n",
      "Evaluation on chunk 0 finished\n",
      "\n",
      "Evaluation on chunk 1 finished\n",
      "\n",
      "Evaluation on chunk 2 finished\n",
      "\n",
      "Evaluation on chunk 3 finished\n",
      "\n",
      "Evaluation on chunk 4 finished\n",
      "\n",
      "Evaluation on chunk 5 finished\n",
      "Overall Accuracy: 97.58%\n",
      "Overall F1 Score: 0.9756\n",
      "Overall Recall: 0.9758\n",
      "Overall Precision: 0.9757\n",
      "\n",
      "Evaluating model with horizon: 50\n",
      "2563905\n"
     ]
    },
    {
     "name": "stderr",
     "output_type": "stream",
     "text": [
      "/usr/local/lib/python3.10/dist-packages/torch/nn/modules/transformer.py:379: UserWarning: enable_nested_tensor is True, but self.use_nested_tensor is False because encoder_layer.self_attn.batch_first was not True(use batch_first for better inference performance)\n",
      "  warnings.warn(\n"
     ]
    },
    {
     "name": "stdout",
     "output_type": "stream",
     "text": [
      "\n",
      "Training on chunk 0 finished\n",
      "\n",
      "Training on chunk 1 finished\n",
      "\n",
      "Training on chunk 2 finished\n",
      "\n",
      "Training on chunk 3 finished\n",
      "\n",
      "Training on chunk 4 finished\n",
      "\n",
      "Training on chunk 5 finished\n",
      "\n",
      "Training on chunk 6 finished\n",
      "\n",
      "Training on chunk 7 finished\n",
      "\n",
      "Training on chunk 8 finished\n",
      "\n",
      "Training on chunk 9 finished\n",
      "\n",
      "Training on chunk 10 finished\n",
      "\n",
      "Training on chunk 11 finished\n",
      "Epoch [1/2]\n",
      "Train Loss: 0.0023, Accuracy: 94.91%\n",
      "Val Loss: 0.0216, Accuracy: 55.16%\n",
      "\n",
      "Training on chunk 0 finished\n",
      "\n",
      "Training on chunk 1 finished\n",
      "\n",
      "Training on chunk 2 finished\n",
      "\n",
      "Training on chunk 3 finished\n",
      "\n",
      "Training on chunk 4 finished\n",
      "\n",
      "Training on chunk 5 finished\n",
      "\n",
      "Training on chunk 6 finished\n",
      "\n",
      "Training on chunk 7 finished\n",
      "\n",
      "Training on chunk 8 finished\n",
      "\n",
      "Training on chunk 9 finished\n",
      "\n",
      "Training on chunk 10 finished\n",
      "\n",
      "Training on chunk 11 finished\n",
      "Epoch [2/2]\n",
      "Train Loss: 0.0018, Accuracy: 96.32%\n",
      "Val Loss: 0.0399, Accuracy: 48.54%\n",
      "\n",
      "Evaluation on chunk 0 finished\n",
      "\n",
      "Evaluation on chunk 1 finished\n",
      "\n",
      "Evaluation on chunk 2 finished\n",
      "\n",
      "Evaluation on chunk 3 finished\n",
      "\n",
      "Evaluation on chunk 4 finished\n",
      "\n",
      "Evaluation on chunk 5 finished\n",
      "Overall Accuracy: 65.66%\n",
      "Overall F1 Score: 0.6262\n",
      "Overall Recall: 0.6566\n",
      "Overall Precision: 0.7605\n",
      "\n",
      "Evaluating model with horizon: 100\n",
      "2563905\n"
     ]
    },
    {
     "name": "stderr",
     "output_type": "stream",
     "text": [
      "/usr/local/lib/python3.10/dist-packages/torch/nn/modules/transformer.py:379: UserWarning: enable_nested_tensor is True, but self.use_nested_tensor is False because encoder_layer.self_attn.batch_first was not True(use batch_first for better inference performance)\n",
      "  warnings.warn(\n"
     ]
    },
    {
     "name": "stdout",
     "output_type": "stream",
     "text": [
      "\n",
      "Training on chunk 0 finished\n",
      "\n",
      "Training on chunk 1 finished\n",
      "\n",
      "Training on chunk 2 finished\n",
      "\n",
      "Training on chunk 3 finished\n",
      "\n",
      "Training on chunk 4 finished\n",
      "\n",
      "Training on chunk 5 finished\n",
      "\n",
      "Training on chunk 6 finished\n",
      "\n",
      "Training on chunk 7 finished\n",
      "\n",
      "Training on chunk 8 finished\n",
      "\n",
      "Training on chunk 9 finished\n",
      "\n",
      "Training on chunk 10 finished\n",
      "\n",
      "Training on chunk 11 finished\n",
      "Epoch [1/2]\n",
      "Train Loss: 0.0026, Accuracy: 93.88%\n",
      "Val Loss: 0.0144, Accuracy: 59.36%\n",
      "\n",
      "Training on chunk 0 finished\n",
      "\n",
      "Training on chunk 1 finished\n",
      "\n",
      "Training on chunk 2 finished\n",
      "\n",
      "Training on chunk 3 finished\n",
      "\n",
      "Training on chunk 4 finished\n",
      "\n",
      "Training on chunk 5 finished\n",
      "\n",
      "Training on chunk 6 finished\n",
      "\n",
      "Training on chunk 7 finished\n",
      "\n",
      "Training on chunk 8 finished\n",
      "\n",
      "Training on chunk 9 finished\n",
      "\n",
      "Training on chunk 10 finished\n",
      "\n",
      "Training on chunk 11 finished\n",
      "Epoch [2/2]\n",
      "Train Loss: 0.0017, Accuracy: 96.15%\n",
      "Val Loss: 0.0068, Accuracy: 84.16%\n",
      "\n",
      "Evaluation on chunk 0 finished\n",
      "\n",
      "Evaluation on chunk 1 finished\n",
      "\n",
      "Evaluation on chunk 2 finished\n",
      "\n",
      "Evaluation on chunk 3 finished\n",
      "\n",
      "Evaluation on chunk 4 finished\n",
      "\n",
      "Evaluation on chunk 5 finished\n",
      "Overall Accuracy: 91.20%\n",
      "Overall F1 Score: 0.9121\n",
      "Overall Recall: 0.9120\n",
      "Overall Precision: 0.9161\n",
      "\n",
      "Final Results:\n",
      "       loss   accuracy        f1    recall  precision  Horizon\n",
      "0  0.001556  97.540929  0.974846  0.975409   0.975261       10\n",
      "1  0.001433  97.581052  0.975603  0.975811   0.975663       20\n",
      "2  0.029699  65.657256  0.626175  0.656573   0.760490       50\n",
      "3  0.004253  91.201832  0.912064  0.912018   0.916075      100\n",
      "Evaluation results saved to: /content/drive/My Drive/tape.csv\n"
     ]
    }
   ],
   "source": [
    "# Data Retrieval\n",
    "combined_data = import_data()\n",
    "\n",
    "# Configuration\n",
    "config = TrainingConfig(combined_data)\n",
    "\n",
    "# We set the sequence length at 10 (common choice in LOB data experiences)\n",
    "config.seq_len = 10\n",
    "\n",
    "# Definition of the transformer model : We set the use_tape parameter to True\n",
    "model = BiTranWrapper(\n",
    "            input_dim=config.input_dim,\n",
    "            seq_len=config.seq_len,\n",
    "            num_classes=config.num_classes,\n",
    "            use_tape=True\n",
    "        ).to(config.device)\n",
    "\n",
    "# Results time!\n",
    "benchmark(combined_data, model, config,'tAPE')"
   ]
  },
  {
   "cell_type": "markdown",
   "metadata": {},
   "source": [
    "It is clear from the results that the chosen embedding technique improved performances a lot. Let's see if we can get even better results!"
   ]
  },
  {
   "cell_type": "markdown",
   "metadata": {},
   "source": [
    "# Optimal number of attention heads"
   ]
  },
  {
   "cell_type": "markdown",
   "metadata": {},
   "source": [
    "At this stage, we will be looking for the optimal number of attention heads using grid search while making sure the model's dimension divide this value!\n",
    "\n",
    "We choose the horizon k=50 as our testing setup since it revealed itself as the horizon where our baseline architecture struggles the most!"
   ]
  },
  {
   "cell_type": "code",
   "execution_count": null,
   "metadata": {},
   "outputs": [],
   "source": [
    "def grid_search_of_attention_heads():\n",
    "    attention_heads = [1,2,4,8,16,32]\n",
    "    results = []\n",
    "    # Generate dataset with the correct horizon\n",
    "    current_data = feature_engineering_and_labels_generation(combined_data, 51)\n",
    "\n",
    "    for attention_head in attention_heads:\n",
    "        print(f\"\\nEvaluating model with attention head: {attention_head}\")\n",
    "\n",
    "        # Configuration\n",
    "        config = TrainingConfig(current_data)\n",
    "        config.seq_len = 10\n",
    "        config.num_epochs = 1\n",
    "\n",
    "        # Load and split data\n",
    "        train_data, test_data = split_data(current_data, train_size=0.7)\n",
    "        print(\"The number of data points in the testing set is:\", len(test_data))\n",
    "\n",
    "        # Get class weights\n",
    "        training_labels = train_data['label']\n",
    "        class_weights = compute_class_weight(\n",
    "            class_weight='balanced',\n",
    "            classes=np.unique(training_labels),\n",
    "            y=training_labels\n",
    "        )\n",
    "\n",
    "        # Convert class weights to tensor\n",
    "        class_weights = torch.tensor(class_weights, dtype=torch.float).to(config.device)\n",
    "\n",
    "        # Model Initialization\n",
    "        model = BiTranWrapper(\n",
    "            input_dim=config.input_dim,\n",
    "            seq_len=config.seq_len,\n",
    "            num_classes=config.num_classes,\n",
    "            use_tape=True,\n",
    "            n_heads=attention_head\n",
    "        ).to(config.device)\n",
    "\n",
    "        # Train Model on chunks\n",
    "        # We use a subset of the testing set as validation\n",
    "        max_start_index = len(test_data) - 500000\n",
    "        start_idx = np.random.randint(0, max_start_index)\n",
    "        test_data_subset = test_data[start_idx:start_idx + 500000]\n",
    "\n",
    "        model = train_model_in_chunks(\n",
    "            model, class_weights, train_data, test_data_subset, config, chunk_size=500000\n",
    "        )\n",
    "\n",
    "        # Evaluate the model\n",
    "        final_metrics = evaluate_model_in_chunks(\n",
    "            model, test_data, config, chunk_size=500000\n",
    "        )\n",
    "        final_metrics['Number of attention heads'] = attention_head\n",
    "        results.append(final_metrics)\n",
    "\n",
    "    # Convert results to DataFrame\n",
    "    results_df = pd.DataFrame(results)\n",
    "    print(\"\\nFinal Results:\")\n",
    "    print(results_df)"
   ]
  },
  {
   "cell_type": "code",
   "execution_count": null,
   "metadata": {},
   "outputs": [
    {
     "name": "stdout",
     "output_type": "stream",
     "text": [
      "\n",
      "Evaluating model with attention head: 1\n",
      "The number of data points in the testing set is: 2563905\n"
     ]
    },
    {
     "name": "stderr",
     "output_type": "stream",
     "text": [
      "/usr/local/lib/python3.10/dist-packages/torch/nn/modules/transformer.py:379: UserWarning: enable_nested_tensor is True, but self.use_nested_tensor is False because encoder_layer.self_attn.num_heads is odd\n",
      "  warnings.warn(\n",
      "<ipython-input-15-c7c579f16c99>:10: UserWarning: To copy construct from a tensor, it is recommended to use sourceTensor.clone().detach() or sourceTensor.clone().detach().requires_grad_(True), rather than torch.tensor(sourceTensor).\n",
      "  criterion = nn.CrossEntropyLoss(weight=torch.tensor(class_weights, dtype=torch.float).to(config.device))\n"
     ]
    },
    {
     "name": "stdout",
     "output_type": "stream",
     "text": [
      "\n",
      "Training on chunk 0 finished\n"
     ]
    },
    {
     "name": "stderr",
     "output_type": "stream",
     "text": [
      "<ipython-input-15-c7c579f16c99>:10: UserWarning: To copy construct from a tensor, it is recommended to use sourceTensor.clone().detach() or sourceTensor.clone().detach().requires_grad_(True), rather than torch.tensor(sourceTensor).\n",
      "  criterion = nn.CrossEntropyLoss(weight=torch.tensor(class_weights, dtype=torch.float).to(config.device))\n"
     ]
    },
    {
     "name": "stdout",
     "output_type": "stream",
     "text": [
      "\n",
      "Training on chunk 1 finished\n"
     ]
    },
    {
     "name": "stderr",
     "output_type": "stream",
     "text": [
      "<ipython-input-15-c7c579f16c99>:10: UserWarning: To copy construct from a tensor, it is recommended to use sourceTensor.clone().detach() or sourceTensor.clone().detach().requires_grad_(True), rather than torch.tensor(sourceTensor).\n",
      "  criterion = nn.CrossEntropyLoss(weight=torch.tensor(class_weights, dtype=torch.float).to(config.device))\n"
     ]
    },
    {
     "name": "stdout",
     "output_type": "stream",
     "text": [
      "\n",
      "Training on chunk 2 finished\n"
     ]
    },
    {
     "name": "stderr",
     "output_type": "stream",
     "text": [
      "<ipython-input-15-c7c579f16c99>:10: UserWarning: To copy construct from a tensor, it is recommended to use sourceTensor.clone().detach() or sourceTensor.clone().detach().requires_grad_(True), rather than torch.tensor(sourceTensor).\n",
      "  criterion = nn.CrossEntropyLoss(weight=torch.tensor(class_weights, dtype=torch.float).to(config.device))\n"
     ]
    },
    {
     "name": "stdout",
     "output_type": "stream",
     "text": [
      "\n",
      "Training on chunk 3 finished\n"
     ]
    },
    {
     "name": "stderr",
     "output_type": "stream",
     "text": [
      "<ipython-input-15-c7c579f16c99>:10: UserWarning: To copy construct from a tensor, it is recommended to use sourceTensor.clone().detach() or sourceTensor.clone().detach().requires_grad_(True), rather than torch.tensor(sourceTensor).\n",
      "  criterion = nn.CrossEntropyLoss(weight=torch.tensor(class_weights, dtype=torch.float).to(config.device))\n"
     ]
    },
    {
     "name": "stdout",
     "output_type": "stream",
     "text": [
      "\n",
      "Training on chunk 4 finished\n"
     ]
    },
    {
     "name": "stderr",
     "output_type": "stream",
     "text": [
      "<ipython-input-15-c7c579f16c99>:10: UserWarning: To copy construct from a tensor, it is recommended to use sourceTensor.clone().detach() or sourceTensor.clone().detach().requires_grad_(True), rather than torch.tensor(sourceTensor).\n",
      "  criterion = nn.CrossEntropyLoss(weight=torch.tensor(class_weights, dtype=torch.float).to(config.device))\n"
     ]
    },
    {
     "name": "stdout",
     "output_type": "stream",
     "text": [
      "\n",
      "Training on chunk 5 finished\n"
     ]
    },
    {
     "name": "stderr",
     "output_type": "stream",
     "text": [
      "<ipython-input-15-c7c579f16c99>:10: UserWarning: To copy construct from a tensor, it is recommended to use sourceTensor.clone().detach() or sourceTensor.clone().detach().requires_grad_(True), rather than torch.tensor(sourceTensor).\n",
      "  criterion = nn.CrossEntropyLoss(weight=torch.tensor(class_weights, dtype=torch.float).to(config.device))\n"
     ]
    },
    {
     "name": "stdout",
     "output_type": "stream",
     "text": [
      "\n",
      "Training on chunk 6 finished\n"
     ]
    },
    {
     "name": "stderr",
     "output_type": "stream",
     "text": [
      "<ipython-input-15-c7c579f16c99>:10: UserWarning: To copy construct from a tensor, it is recommended to use sourceTensor.clone().detach() or sourceTensor.clone().detach().requires_grad_(True), rather than torch.tensor(sourceTensor).\n",
      "  criterion = nn.CrossEntropyLoss(weight=torch.tensor(class_weights, dtype=torch.float).to(config.device))\n"
     ]
    },
    {
     "name": "stdout",
     "output_type": "stream",
     "text": [
      "\n",
      "Training on chunk 7 finished\n"
     ]
    },
    {
     "name": "stderr",
     "output_type": "stream",
     "text": [
      "<ipython-input-15-c7c579f16c99>:10: UserWarning: To copy construct from a tensor, it is recommended to use sourceTensor.clone().detach() or sourceTensor.clone().detach().requires_grad_(True), rather than torch.tensor(sourceTensor).\n",
      "  criterion = nn.CrossEntropyLoss(weight=torch.tensor(class_weights, dtype=torch.float).to(config.device))\n"
     ]
    },
    {
     "name": "stdout",
     "output_type": "stream",
     "text": [
      "\n",
      "Training on chunk 8 finished\n"
     ]
    },
    {
     "name": "stderr",
     "output_type": "stream",
     "text": [
      "<ipython-input-15-c7c579f16c99>:10: UserWarning: To copy construct from a tensor, it is recommended to use sourceTensor.clone().detach() or sourceTensor.clone().detach().requires_grad_(True), rather than torch.tensor(sourceTensor).\n",
      "  criterion = nn.CrossEntropyLoss(weight=torch.tensor(class_weights, dtype=torch.float).to(config.device))\n"
     ]
    },
    {
     "name": "stdout",
     "output_type": "stream",
     "text": [
      "\n",
      "Training on chunk 9 finished\n"
     ]
    },
    {
     "name": "stderr",
     "output_type": "stream",
     "text": [
      "<ipython-input-15-c7c579f16c99>:10: UserWarning: To copy construct from a tensor, it is recommended to use sourceTensor.clone().detach() or sourceTensor.clone().detach().requires_grad_(True), rather than torch.tensor(sourceTensor).\n",
      "  criterion = nn.CrossEntropyLoss(weight=torch.tensor(class_weights, dtype=torch.float).to(config.device))\n"
     ]
    },
    {
     "name": "stdout",
     "output_type": "stream",
     "text": [
      "\n",
      "Training on chunk 10 finished\n"
     ]
    },
    {
     "name": "stderr",
     "output_type": "stream",
     "text": [
      "<ipython-input-15-c7c579f16c99>:10: UserWarning: To copy construct from a tensor, it is recommended to use sourceTensor.clone().detach() or sourceTensor.clone().detach().requires_grad_(True), rather than torch.tensor(sourceTensor).\n",
      "  criterion = nn.CrossEntropyLoss(weight=torch.tensor(class_weights, dtype=torch.float).to(config.device))\n"
     ]
    },
    {
     "name": "stdout",
     "output_type": "stream",
     "text": [
      "\n",
      "Training on chunk 11 finished\n",
      "Epoch [1/1]\n",
      "Train Loss: 0.0030, Accuracy: 94.15%\n",
      "Val Loss: 0.0037, Accuracy: 92.68%\n",
      "\n",
      "Evaluation on chunk 0 finished\n",
      "\n",
      "Evaluation on chunk 1 finished\n",
      "\n",
      "Evaluation on chunk 2 finished\n",
      "\n",
      "Evaluation on chunk 3 finished\n",
      "\n",
      "Evaluation on chunk 4 finished\n",
      "\n",
      "Evaluation on chunk 5 finished\n",
      "Overall Accuracy: 87.62%\n",
      "Overall F1 Score: 0.8773\n",
      "Overall Recall: 0.8762\n",
      "Overall Precision: 0.8803\n",
      "\n",
      "Evaluating model with attention head: 2\n",
      "The number of data points in the testing set is: 2563905\n"
     ]
    },
    {
     "name": "stderr",
     "output_type": "stream",
     "text": [
      "<ipython-input-15-c7c579f16c99>:10: UserWarning: To copy construct from a tensor, it is recommended to use sourceTensor.clone().detach() or sourceTensor.clone().detach().requires_grad_(True), rather than torch.tensor(sourceTensor).\n",
      "  criterion = nn.CrossEntropyLoss(weight=torch.tensor(class_weights, dtype=torch.float).to(config.device))\n"
     ]
    },
    {
     "name": "stdout",
     "output_type": "stream",
     "text": [
      "\n",
      "Training on chunk 0 finished\n"
     ]
    },
    {
     "name": "stderr",
     "output_type": "stream",
     "text": [
      "<ipython-input-15-c7c579f16c99>:10: UserWarning: To copy construct from a tensor, it is recommended to use sourceTensor.clone().detach() or sourceTensor.clone().detach().requires_grad_(True), rather than torch.tensor(sourceTensor).\n",
      "  criterion = nn.CrossEntropyLoss(weight=torch.tensor(class_weights, dtype=torch.float).to(config.device))\n"
     ]
    },
    {
     "name": "stdout",
     "output_type": "stream",
     "text": [
      "\n",
      "Training on chunk 1 finished\n"
     ]
    },
    {
     "name": "stderr",
     "output_type": "stream",
     "text": [
      "<ipython-input-15-c7c579f16c99>:10: UserWarning: To copy construct from a tensor, it is recommended to use sourceTensor.clone().detach() or sourceTensor.clone().detach().requires_grad_(True), rather than torch.tensor(sourceTensor).\n",
      "  criterion = nn.CrossEntropyLoss(weight=torch.tensor(class_weights, dtype=torch.float).to(config.device))\n"
     ]
    },
    {
     "name": "stdout",
     "output_type": "stream",
     "text": [
      "\n",
      "Training on chunk 2 finished\n"
     ]
    },
    {
     "name": "stderr",
     "output_type": "stream",
     "text": [
      "<ipython-input-15-c7c579f16c99>:10: UserWarning: To copy construct from a tensor, it is recommended to use sourceTensor.clone().detach() or sourceTensor.clone().detach().requires_grad_(True), rather than torch.tensor(sourceTensor).\n",
      "  criterion = nn.CrossEntropyLoss(weight=torch.tensor(class_weights, dtype=torch.float).to(config.device))\n"
     ]
    },
    {
     "name": "stdout",
     "output_type": "stream",
     "text": [
      "\n",
      "Training on chunk 3 finished\n"
     ]
    },
    {
     "name": "stderr",
     "output_type": "stream",
     "text": [
      "<ipython-input-15-c7c579f16c99>:10: UserWarning: To copy construct from a tensor, it is recommended to use sourceTensor.clone().detach() or sourceTensor.clone().detach().requires_grad_(True), rather than torch.tensor(sourceTensor).\n",
      "  criterion = nn.CrossEntropyLoss(weight=torch.tensor(class_weights, dtype=torch.float).to(config.device))\n"
     ]
    },
    {
     "name": "stdout",
     "output_type": "stream",
     "text": [
      "\n",
      "Training on chunk 4 finished\n"
     ]
    },
    {
     "name": "stderr",
     "output_type": "stream",
     "text": [
      "<ipython-input-15-c7c579f16c99>:10: UserWarning: To copy construct from a tensor, it is recommended to use sourceTensor.clone().detach() or sourceTensor.clone().detach().requires_grad_(True), rather than torch.tensor(sourceTensor).\n",
      "  criterion = nn.CrossEntropyLoss(weight=torch.tensor(class_weights, dtype=torch.float).to(config.device))\n"
     ]
    },
    {
     "name": "stdout",
     "output_type": "stream",
     "text": [
      "\n",
      "Training on chunk 5 finished\n"
     ]
    },
    {
     "name": "stderr",
     "output_type": "stream",
     "text": [
      "<ipython-input-15-c7c579f16c99>:10: UserWarning: To copy construct from a tensor, it is recommended to use sourceTensor.clone().detach() or sourceTensor.clone().detach().requires_grad_(True), rather than torch.tensor(sourceTensor).\n",
      "  criterion = nn.CrossEntropyLoss(weight=torch.tensor(class_weights, dtype=torch.float).to(config.device))\n"
     ]
    },
    {
     "name": "stdout",
     "output_type": "stream",
     "text": [
      "\n",
      "Training on chunk 6 finished\n"
     ]
    },
    {
     "name": "stderr",
     "output_type": "stream",
     "text": [
      "<ipython-input-15-c7c579f16c99>:10: UserWarning: To copy construct from a tensor, it is recommended to use sourceTensor.clone().detach() or sourceTensor.clone().detach().requires_grad_(True), rather than torch.tensor(sourceTensor).\n",
      "  criterion = nn.CrossEntropyLoss(weight=torch.tensor(class_weights, dtype=torch.float).to(config.device))\n"
     ]
    },
    {
     "name": "stdout",
     "output_type": "stream",
     "text": [
      "\n",
      "Training on chunk 7 finished\n"
     ]
    },
    {
     "name": "stderr",
     "output_type": "stream",
     "text": [
      "<ipython-input-15-c7c579f16c99>:10: UserWarning: To copy construct from a tensor, it is recommended to use sourceTensor.clone().detach() or sourceTensor.clone().detach().requires_grad_(True), rather than torch.tensor(sourceTensor).\n",
      "  criterion = nn.CrossEntropyLoss(weight=torch.tensor(class_weights, dtype=torch.float).to(config.device))\n"
     ]
    },
    {
     "name": "stdout",
     "output_type": "stream",
     "text": [
      "\n",
      "Training on chunk 8 finished\n"
     ]
    },
    {
     "name": "stderr",
     "output_type": "stream",
     "text": [
      "<ipython-input-15-c7c579f16c99>:10: UserWarning: To copy construct from a tensor, it is recommended to use sourceTensor.clone().detach() or sourceTensor.clone().detach().requires_grad_(True), rather than torch.tensor(sourceTensor).\n",
      "  criterion = nn.CrossEntropyLoss(weight=torch.tensor(class_weights, dtype=torch.float).to(config.device))\n"
     ]
    },
    {
     "name": "stdout",
     "output_type": "stream",
     "text": [
      "\n",
      "Training on chunk 9 finished\n"
     ]
    },
    {
     "name": "stderr",
     "output_type": "stream",
     "text": [
      "<ipython-input-15-c7c579f16c99>:10: UserWarning: To copy construct from a tensor, it is recommended to use sourceTensor.clone().detach() or sourceTensor.clone().detach().requires_grad_(True), rather than torch.tensor(sourceTensor).\n",
      "  criterion = nn.CrossEntropyLoss(weight=torch.tensor(class_weights, dtype=torch.float).to(config.device))\n"
     ]
    },
    {
     "name": "stdout",
     "output_type": "stream",
     "text": [
      "\n",
      "Training on chunk 10 finished\n"
     ]
    },
    {
     "name": "stderr",
     "output_type": "stream",
     "text": [
      "<ipython-input-15-c7c579f16c99>:10: UserWarning: To copy construct from a tensor, it is recommended to use sourceTensor.clone().detach() or sourceTensor.clone().detach().requires_grad_(True), rather than torch.tensor(sourceTensor).\n",
      "  criterion = nn.CrossEntropyLoss(weight=torch.tensor(class_weights, dtype=torch.float).to(config.device))\n"
     ]
    },
    {
     "name": "stdout",
     "output_type": "stream",
     "text": [
      "\n",
      "Training on chunk 11 finished\n",
      "Epoch [1/1]\n",
      "Train Loss: 0.0028, Accuracy: 94.45%\n",
      "Val Loss: 0.0069, Accuracy: 85.43%\n",
      "\n",
      "Evaluation on chunk 0 finished\n",
      "\n",
      "Evaluation on chunk 1 finished\n",
      "\n",
      "Evaluation on chunk 2 finished\n",
      "\n",
      "Evaluation on chunk 3 finished\n",
      "\n",
      "Evaluation on chunk 4 finished\n",
      "\n",
      "Evaluation on chunk 5 finished\n",
      "Overall Accuracy: 81.70%\n",
      "Overall F1 Score: 0.8208\n",
      "Overall Recall: 0.8170\n",
      "Overall Precision: 0.8298\n",
      "\n",
      "Evaluating model with attention head: 4\n",
      "The number of data points in the testing set is: 2563905\n"
     ]
    },
    {
     "name": "stderr",
     "output_type": "stream",
     "text": [
      "<ipython-input-15-c7c579f16c99>:10: UserWarning: To copy construct from a tensor, it is recommended to use sourceTensor.clone().detach() or sourceTensor.clone().detach().requires_grad_(True), rather than torch.tensor(sourceTensor).\n",
      "  criterion = nn.CrossEntropyLoss(weight=torch.tensor(class_weights, dtype=torch.float).to(config.device))\n"
     ]
    },
    {
     "name": "stdout",
     "output_type": "stream",
     "text": [
      "\n",
      "Training on chunk 0 finished\n"
     ]
    },
    {
     "name": "stderr",
     "output_type": "stream",
     "text": [
      "<ipython-input-15-c7c579f16c99>:10: UserWarning: To copy construct from a tensor, it is recommended to use sourceTensor.clone().detach() or sourceTensor.clone().detach().requires_grad_(True), rather than torch.tensor(sourceTensor).\n",
      "  criterion = nn.CrossEntropyLoss(weight=torch.tensor(class_weights, dtype=torch.float).to(config.device))\n"
     ]
    },
    {
     "name": "stdout",
     "output_type": "stream",
     "text": [
      "\n",
      "Training on chunk 1 finished\n"
     ]
    },
    {
     "name": "stderr",
     "output_type": "stream",
     "text": [
      "<ipython-input-15-c7c579f16c99>:10: UserWarning: To copy construct from a tensor, it is recommended to use sourceTensor.clone().detach() or sourceTensor.clone().detach().requires_grad_(True), rather than torch.tensor(sourceTensor).\n",
      "  criterion = nn.CrossEntropyLoss(weight=torch.tensor(class_weights, dtype=torch.float).to(config.device))\n"
     ]
    },
    {
     "name": "stdout",
     "output_type": "stream",
     "text": [
      "\n",
      "Training on chunk 2 finished\n"
     ]
    },
    {
     "name": "stderr",
     "output_type": "stream",
     "text": [
      "<ipython-input-15-c7c579f16c99>:10: UserWarning: To copy construct from a tensor, it is recommended to use sourceTensor.clone().detach() or sourceTensor.clone().detach().requires_grad_(True), rather than torch.tensor(sourceTensor).\n",
      "  criterion = nn.CrossEntropyLoss(weight=torch.tensor(class_weights, dtype=torch.float).to(config.device))\n"
     ]
    },
    {
     "name": "stdout",
     "output_type": "stream",
     "text": [
      "\n",
      "Training on chunk 3 finished\n"
     ]
    },
    {
     "name": "stderr",
     "output_type": "stream",
     "text": [
      "<ipython-input-15-c7c579f16c99>:10: UserWarning: To copy construct from a tensor, it is recommended to use sourceTensor.clone().detach() or sourceTensor.clone().detach().requires_grad_(True), rather than torch.tensor(sourceTensor).\n",
      "  criterion = nn.CrossEntropyLoss(weight=torch.tensor(class_weights, dtype=torch.float).to(config.device))\n"
     ]
    },
    {
     "name": "stdout",
     "output_type": "stream",
     "text": [
      "\n",
      "Training on chunk 4 finished\n"
     ]
    },
    {
     "name": "stderr",
     "output_type": "stream",
     "text": [
      "<ipython-input-15-c7c579f16c99>:10: UserWarning: To copy construct from a tensor, it is recommended to use sourceTensor.clone().detach() or sourceTensor.clone().detach().requires_grad_(True), rather than torch.tensor(sourceTensor).\n",
      "  criterion = nn.CrossEntropyLoss(weight=torch.tensor(class_weights, dtype=torch.float).to(config.device))\n"
     ]
    },
    {
     "name": "stdout",
     "output_type": "stream",
     "text": [
      "\n",
      "Training on chunk 5 finished\n"
     ]
    },
    {
     "name": "stderr",
     "output_type": "stream",
     "text": [
      "<ipython-input-15-c7c579f16c99>:10: UserWarning: To copy construct from a tensor, it is recommended to use sourceTensor.clone().detach() or sourceTensor.clone().detach().requires_grad_(True), rather than torch.tensor(sourceTensor).\n",
      "  criterion = nn.CrossEntropyLoss(weight=torch.tensor(class_weights, dtype=torch.float).to(config.device))\n"
     ]
    },
    {
     "name": "stdout",
     "output_type": "stream",
     "text": [
      "\n",
      "Training on chunk 6 finished\n"
     ]
    },
    {
     "name": "stderr",
     "output_type": "stream",
     "text": [
      "<ipython-input-15-c7c579f16c99>:10: UserWarning: To copy construct from a tensor, it is recommended to use sourceTensor.clone().detach() or sourceTensor.clone().detach().requires_grad_(True), rather than torch.tensor(sourceTensor).\n",
      "  criterion = nn.CrossEntropyLoss(weight=torch.tensor(class_weights, dtype=torch.float).to(config.device))\n"
     ]
    },
    {
     "name": "stdout",
     "output_type": "stream",
     "text": [
      "\n",
      "Training on chunk 7 finished\n"
     ]
    },
    {
     "name": "stderr",
     "output_type": "stream",
     "text": [
      "<ipython-input-15-c7c579f16c99>:10: UserWarning: To copy construct from a tensor, it is recommended to use sourceTensor.clone().detach() or sourceTensor.clone().detach().requires_grad_(True), rather than torch.tensor(sourceTensor).\n",
      "  criterion = nn.CrossEntropyLoss(weight=torch.tensor(class_weights, dtype=torch.float).to(config.device))\n"
     ]
    },
    {
     "name": "stdout",
     "output_type": "stream",
     "text": [
      "\n",
      "Training on chunk 8 finished\n"
     ]
    },
    {
     "name": "stderr",
     "output_type": "stream",
     "text": [
      "<ipython-input-15-c7c579f16c99>:10: UserWarning: To copy construct from a tensor, it is recommended to use sourceTensor.clone().detach() or sourceTensor.clone().detach().requires_grad_(True), rather than torch.tensor(sourceTensor).\n",
      "  criterion = nn.CrossEntropyLoss(weight=torch.tensor(class_weights, dtype=torch.float).to(config.device))\n"
     ]
    },
    {
     "name": "stdout",
     "output_type": "stream",
     "text": [
      "\n",
      "Training on chunk 9 finished\n"
     ]
    },
    {
     "name": "stderr",
     "output_type": "stream",
     "text": [
      "<ipython-input-15-c7c579f16c99>:10: UserWarning: To copy construct from a tensor, it is recommended to use sourceTensor.clone().detach() or sourceTensor.clone().detach().requires_grad_(True), rather than torch.tensor(sourceTensor).\n",
      "  criterion = nn.CrossEntropyLoss(weight=torch.tensor(class_weights, dtype=torch.float).to(config.device))\n"
     ]
    },
    {
     "name": "stdout",
     "output_type": "stream",
     "text": [
      "\n",
      "Training on chunk 10 finished\n"
     ]
    },
    {
     "name": "stderr",
     "output_type": "stream",
     "text": [
      "<ipython-input-15-c7c579f16c99>:10: UserWarning: To copy construct from a tensor, it is recommended to use sourceTensor.clone().detach() or sourceTensor.clone().detach().requires_grad_(True), rather than torch.tensor(sourceTensor).\n",
      "  criterion = nn.CrossEntropyLoss(weight=torch.tensor(class_weights, dtype=torch.float).to(config.device))\n"
     ]
    },
    {
     "name": "stdout",
     "output_type": "stream",
     "text": [
      "\n",
      "Training on chunk 11 finished\n",
      "Epoch [1/1]\n",
      "Train Loss: 0.0029, Accuracy: 94.28%\n",
      "Val Loss: 0.0032, Accuracy: 94.00%\n",
      "\n",
      "Evaluation on chunk 0 finished\n",
      "\n",
      "Evaluation on chunk 1 finished\n",
      "\n",
      "Evaluation on chunk 2 finished\n",
      "\n",
      "Evaluation on chunk 3 finished\n",
      "\n",
      "Evaluation on chunk 4 finished\n",
      "\n",
      "Evaluation on chunk 5 finished\n",
      "Overall Accuracy: 86.22%\n",
      "Overall F1 Score: 0.8648\n",
      "Overall Recall: 0.8622\n",
      "Overall Precision: 0.8788\n",
      "\n",
      "Evaluating model with attention head: 8\n",
      "The number of data points in the testing set is: 2563905\n"
     ]
    },
    {
     "name": "stderr",
     "output_type": "stream",
     "text": [
      "<ipython-input-15-c7c579f16c99>:10: UserWarning: To copy construct from a tensor, it is recommended to use sourceTensor.clone().detach() or sourceTensor.clone().detach().requires_grad_(True), rather than torch.tensor(sourceTensor).\n",
      "  criterion = nn.CrossEntropyLoss(weight=torch.tensor(class_weights, dtype=torch.float).to(config.device))\n"
     ]
    },
    {
     "name": "stdout",
     "output_type": "stream",
     "text": [
      "\n",
      "Training on chunk 0 finished\n"
     ]
    },
    {
     "name": "stderr",
     "output_type": "stream",
     "text": [
      "<ipython-input-15-c7c579f16c99>:10: UserWarning: To copy construct from a tensor, it is recommended to use sourceTensor.clone().detach() or sourceTensor.clone().detach().requires_grad_(True), rather than torch.tensor(sourceTensor).\n",
      "  criterion = nn.CrossEntropyLoss(weight=torch.tensor(class_weights, dtype=torch.float).to(config.device))\n"
     ]
    },
    {
     "name": "stdout",
     "output_type": "stream",
     "text": [
      "\n",
      "Training on chunk 1 finished\n"
     ]
    },
    {
     "name": "stderr",
     "output_type": "stream",
     "text": [
      "<ipython-input-15-c7c579f16c99>:10: UserWarning: To copy construct from a tensor, it is recommended to use sourceTensor.clone().detach() or sourceTensor.clone().detach().requires_grad_(True), rather than torch.tensor(sourceTensor).\n",
      "  criterion = nn.CrossEntropyLoss(weight=torch.tensor(class_weights, dtype=torch.float).to(config.device))\n"
     ]
    },
    {
     "name": "stdout",
     "output_type": "stream",
     "text": [
      "\n",
      "Training on chunk 2 finished\n"
     ]
    },
    {
     "name": "stderr",
     "output_type": "stream",
     "text": [
      "<ipython-input-15-c7c579f16c99>:10: UserWarning: To copy construct from a tensor, it is recommended to use sourceTensor.clone().detach() or sourceTensor.clone().detach().requires_grad_(True), rather than torch.tensor(sourceTensor).\n",
      "  criterion = nn.CrossEntropyLoss(weight=torch.tensor(class_weights, dtype=torch.float).to(config.device))\n"
     ]
    },
    {
     "name": "stdout",
     "output_type": "stream",
     "text": [
      "\n",
      "Training on chunk 3 finished\n"
     ]
    },
    {
     "name": "stderr",
     "output_type": "stream",
     "text": [
      "<ipython-input-15-c7c579f16c99>:10: UserWarning: To copy construct from a tensor, it is recommended to use sourceTensor.clone().detach() or sourceTensor.clone().detach().requires_grad_(True), rather than torch.tensor(sourceTensor).\n",
      "  criterion = nn.CrossEntropyLoss(weight=torch.tensor(class_weights, dtype=torch.float).to(config.device))\n"
     ]
    },
    {
     "name": "stdout",
     "output_type": "stream",
     "text": [
      "\n",
      "Training on chunk 4 finished\n"
     ]
    },
    {
     "name": "stderr",
     "output_type": "stream",
     "text": [
      "<ipython-input-15-c7c579f16c99>:10: UserWarning: To copy construct from a tensor, it is recommended to use sourceTensor.clone().detach() or sourceTensor.clone().detach().requires_grad_(True), rather than torch.tensor(sourceTensor).\n",
      "  criterion = nn.CrossEntropyLoss(weight=torch.tensor(class_weights, dtype=torch.float).to(config.device))\n"
     ]
    },
    {
     "name": "stdout",
     "output_type": "stream",
     "text": [
      "\n",
      "Training on chunk 5 finished\n"
     ]
    },
    {
     "name": "stderr",
     "output_type": "stream",
     "text": [
      "<ipython-input-15-c7c579f16c99>:10: UserWarning: To copy construct from a tensor, it is recommended to use sourceTensor.clone().detach() or sourceTensor.clone().detach().requires_grad_(True), rather than torch.tensor(sourceTensor).\n",
      "  criterion = nn.CrossEntropyLoss(weight=torch.tensor(class_weights, dtype=torch.float).to(config.device))\n"
     ]
    },
    {
     "name": "stdout",
     "output_type": "stream",
     "text": [
      "\n",
      "Training on chunk 6 finished\n"
     ]
    },
    {
     "name": "stderr",
     "output_type": "stream",
     "text": [
      "<ipython-input-15-c7c579f16c99>:10: UserWarning: To copy construct from a tensor, it is recommended to use sourceTensor.clone().detach() or sourceTensor.clone().detach().requires_grad_(True), rather than torch.tensor(sourceTensor).\n",
      "  criterion = nn.CrossEntropyLoss(weight=torch.tensor(class_weights, dtype=torch.float).to(config.device))\n"
     ]
    },
    {
     "name": "stdout",
     "output_type": "stream",
     "text": [
      "\n",
      "Training on chunk 7 finished\n"
     ]
    },
    {
     "name": "stderr",
     "output_type": "stream",
     "text": [
      "<ipython-input-15-c7c579f16c99>:10: UserWarning: To copy construct from a tensor, it is recommended to use sourceTensor.clone().detach() or sourceTensor.clone().detach().requires_grad_(True), rather than torch.tensor(sourceTensor).\n",
      "  criterion = nn.CrossEntropyLoss(weight=torch.tensor(class_weights, dtype=torch.float).to(config.device))\n"
     ]
    },
    {
     "name": "stdout",
     "output_type": "stream",
     "text": [
      "\n",
      "Training on chunk 8 finished\n"
     ]
    },
    {
     "name": "stderr",
     "output_type": "stream",
     "text": [
      "<ipython-input-15-c7c579f16c99>:10: UserWarning: To copy construct from a tensor, it is recommended to use sourceTensor.clone().detach() or sourceTensor.clone().detach().requires_grad_(True), rather than torch.tensor(sourceTensor).\n",
      "  criterion = nn.CrossEntropyLoss(weight=torch.tensor(class_weights, dtype=torch.float).to(config.device))\n"
     ]
    },
    {
     "name": "stdout",
     "output_type": "stream",
     "text": [
      "\n",
      "Training on chunk 9 finished\n"
     ]
    },
    {
     "name": "stderr",
     "output_type": "stream",
     "text": [
      "<ipython-input-15-c7c579f16c99>:10: UserWarning: To copy construct from a tensor, it is recommended to use sourceTensor.clone().detach() or sourceTensor.clone().detach().requires_grad_(True), rather than torch.tensor(sourceTensor).\n",
      "  criterion = nn.CrossEntropyLoss(weight=torch.tensor(class_weights, dtype=torch.float).to(config.device))\n"
     ]
    },
    {
     "name": "stdout",
     "output_type": "stream",
     "text": [
      "\n",
      "Training on chunk 10 finished\n"
     ]
    },
    {
     "name": "stderr",
     "output_type": "stream",
     "text": [
      "<ipython-input-15-c7c579f16c99>:10: UserWarning: To copy construct from a tensor, it is recommended to use sourceTensor.clone().detach() or sourceTensor.clone().detach().requires_grad_(True), rather than torch.tensor(sourceTensor).\n",
      "  criterion = nn.CrossEntropyLoss(weight=torch.tensor(class_weights, dtype=torch.float).to(config.device))\n"
     ]
    },
    {
     "name": "stdout",
     "output_type": "stream",
     "text": [
      "\n",
      "Training on chunk 11 finished\n",
      "Epoch [1/1]\n",
      "Train Loss: 0.0028, Accuracy: 94.38%\n",
      "Val Loss: 0.0034, Accuracy: 93.44%\n",
      "\n",
      "Evaluation on chunk 0 finished\n",
      "\n",
      "Evaluation on chunk 1 finished\n",
      "\n",
      "Evaluation on chunk 2 finished\n",
      "\n",
      "Evaluation on chunk 3 finished\n",
      "\n",
      "Evaluation on chunk 4 finished\n",
      "\n",
      "Evaluation on chunk 5 finished\n",
      "Overall Accuracy: 91.82%\n",
      "Overall F1 Score: 0.9180\n",
      "Overall Recall: 0.9182\n",
      "Overall Precision: 0.9190\n",
      "\n",
      "Evaluating model with attention head: 16\n",
      "The number of data points in the testing set is: 2563905\n"
     ]
    },
    {
     "name": "stderr",
     "output_type": "stream",
     "text": [
      "<ipython-input-15-c7c579f16c99>:10: UserWarning: To copy construct from a tensor, it is recommended to use sourceTensor.clone().detach() or sourceTensor.clone().detach().requires_grad_(True), rather than torch.tensor(sourceTensor).\n",
      "  criterion = nn.CrossEntropyLoss(weight=torch.tensor(class_weights, dtype=torch.float).to(config.device))\n"
     ]
    },
    {
     "name": "stdout",
     "output_type": "stream",
     "text": [
      "\n",
      "Training on chunk 0 finished\n"
     ]
    },
    {
     "name": "stderr",
     "output_type": "stream",
     "text": [
      "<ipython-input-15-c7c579f16c99>:10: UserWarning: To copy construct from a tensor, it is recommended to use sourceTensor.clone().detach() or sourceTensor.clone().detach().requires_grad_(True), rather than torch.tensor(sourceTensor).\n",
      "  criterion = nn.CrossEntropyLoss(weight=torch.tensor(class_weights, dtype=torch.float).to(config.device))\n"
     ]
    },
    {
     "name": "stdout",
     "output_type": "stream",
     "text": [
      "\n",
      "Training on chunk 1 finished\n"
     ]
    },
    {
     "name": "stderr",
     "output_type": "stream",
     "text": [
      "<ipython-input-15-c7c579f16c99>:10: UserWarning: To copy construct from a tensor, it is recommended to use sourceTensor.clone().detach() or sourceTensor.clone().detach().requires_grad_(True), rather than torch.tensor(sourceTensor).\n",
      "  criterion = nn.CrossEntropyLoss(weight=torch.tensor(class_weights, dtype=torch.float).to(config.device))\n"
     ]
    },
    {
     "name": "stdout",
     "output_type": "stream",
     "text": [
      "\n",
      "Training on chunk 2 finished\n"
     ]
    },
    {
     "name": "stderr",
     "output_type": "stream",
     "text": [
      "<ipython-input-15-c7c579f16c99>:10: UserWarning: To copy construct from a tensor, it is recommended to use sourceTensor.clone().detach() or sourceTensor.clone().detach().requires_grad_(True), rather than torch.tensor(sourceTensor).\n",
      "  criterion = nn.CrossEntropyLoss(weight=torch.tensor(class_weights, dtype=torch.float).to(config.device))\n"
     ]
    },
    {
     "name": "stdout",
     "output_type": "stream",
     "text": [
      "\n",
      "Training on chunk 3 finished\n"
     ]
    },
    {
     "name": "stderr",
     "output_type": "stream",
     "text": [
      "<ipython-input-15-c7c579f16c99>:10: UserWarning: To copy construct from a tensor, it is recommended to use sourceTensor.clone().detach() or sourceTensor.clone().detach().requires_grad_(True), rather than torch.tensor(sourceTensor).\n",
      "  criterion = nn.CrossEntropyLoss(weight=torch.tensor(class_weights, dtype=torch.float).to(config.device))\n"
     ]
    },
    {
     "name": "stdout",
     "output_type": "stream",
     "text": [
      "\n",
      "Training on chunk 4 finished\n"
     ]
    },
    {
     "name": "stderr",
     "output_type": "stream",
     "text": [
      "<ipython-input-15-c7c579f16c99>:10: UserWarning: To copy construct from a tensor, it is recommended to use sourceTensor.clone().detach() or sourceTensor.clone().detach().requires_grad_(True), rather than torch.tensor(sourceTensor).\n",
      "  criterion = nn.CrossEntropyLoss(weight=torch.tensor(class_weights, dtype=torch.float).to(config.device))\n"
     ]
    },
    {
     "name": "stdout",
     "output_type": "stream",
     "text": [
      "\n",
      "Training on chunk 5 finished\n"
     ]
    },
    {
     "name": "stderr",
     "output_type": "stream",
     "text": [
      "<ipython-input-15-c7c579f16c99>:10: UserWarning: To copy construct from a tensor, it is recommended to use sourceTensor.clone().detach() or sourceTensor.clone().detach().requires_grad_(True), rather than torch.tensor(sourceTensor).\n",
      "  criterion = nn.CrossEntropyLoss(weight=torch.tensor(class_weights, dtype=torch.float).to(config.device))\n"
     ]
    },
    {
     "name": "stdout",
     "output_type": "stream",
     "text": [
      "\n",
      "Training on chunk 6 finished\n"
     ]
    },
    {
     "name": "stderr",
     "output_type": "stream",
     "text": [
      "<ipython-input-15-c7c579f16c99>:10: UserWarning: To copy construct from a tensor, it is recommended to use sourceTensor.clone().detach() or sourceTensor.clone().detach().requires_grad_(True), rather than torch.tensor(sourceTensor).\n",
      "  criterion = nn.CrossEntropyLoss(weight=torch.tensor(class_weights, dtype=torch.float).to(config.device))\n"
     ]
    },
    {
     "name": "stdout",
     "output_type": "stream",
     "text": [
      "\n",
      "Training on chunk 7 finished\n"
     ]
    },
    {
     "name": "stderr",
     "output_type": "stream",
     "text": [
      "<ipython-input-15-c7c579f16c99>:10: UserWarning: To copy construct from a tensor, it is recommended to use sourceTensor.clone().detach() or sourceTensor.clone().detach().requires_grad_(True), rather than torch.tensor(sourceTensor).\n",
      "  criterion = nn.CrossEntropyLoss(weight=torch.tensor(class_weights, dtype=torch.float).to(config.device))\n"
     ]
    },
    {
     "name": "stdout",
     "output_type": "stream",
     "text": [
      "\n",
      "Training on chunk 8 finished\n"
     ]
    },
    {
     "name": "stderr",
     "output_type": "stream",
     "text": [
      "<ipython-input-15-c7c579f16c99>:10: UserWarning: To copy construct from a tensor, it is recommended to use sourceTensor.clone().detach() or sourceTensor.clone().detach().requires_grad_(True), rather than torch.tensor(sourceTensor).\n",
      "  criterion = nn.CrossEntropyLoss(weight=torch.tensor(class_weights, dtype=torch.float).to(config.device))\n"
     ]
    },
    {
     "name": "stdout",
     "output_type": "stream",
     "text": [
      "\n",
      "Training on chunk 9 finished\n"
     ]
    },
    {
     "name": "stderr",
     "output_type": "stream",
     "text": [
      "<ipython-input-15-c7c579f16c99>:10: UserWarning: To copy construct from a tensor, it is recommended to use sourceTensor.clone().detach() or sourceTensor.clone().detach().requires_grad_(True), rather than torch.tensor(sourceTensor).\n",
      "  criterion = nn.CrossEntropyLoss(weight=torch.tensor(class_weights, dtype=torch.float).to(config.device))\n"
     ]
    },
    {
     "name": "stdout",
     "output_type": "stream",
     "text": [
      "\n",
      "Training on chunk 10 finished\n"
     ]
    },
    {
     "name": "stderr",
     "output_type": "stream",
     "text": [
      "<ipython-input-15-c7c579f16c99>:10: UserWarning: To copy construct from a tensor, it is recommended to use sourceTensor.clone().detach() or sourceTensor.clone().detach().requires_grad_(True), rather than torch.tensor(sourceTensor).\n",
      "  criterion = nn.CrossEntropyLoss(weight=torch.tensor(class_weights, dtype=torch.float).to(config.device))\n"
     ]
    },
    {
     "name": "stdout",
     "output_type": "stream",
     "text": [
      "\n",
      "Training on chunk 11 finished\n",
      "Epoch [1/1]\n",
      "Train Loss: 0.0028, Accuracy: 94.42%\n",
      "Val Loss: 0.0031, Accuracy: 94.09%\n",
      "\n",
      "Evaluation on chunk 0 finished\n",
      "\n",
      "Evaluation on chunk 1 finished\n",
      "\n",
      "Evaluation on chunk 2 finished\n",
      "\n",
      "Evaluation on chunk 3 finished\n",
      "\n",
      "Evaluation on chunk 4 finished\n",
      "\n",
      "Evaluation on chunk 5 finished\n",
      "Overall Accuracy: 91.45%\n",
      "Overall F1 Score: 0.9137\n",
      "Overall Recall: 0.9145\n",
      "Overall Precision: 0.9143\n",
      "\n",
      "Evaluating model with attention head: 32\n",
      "The number of data points in the testing set is: 2563905\n"
     ]
    },
    {
     "name": "stderr",
     "output_type": "stream",
     "text": [
      "<ipython-input-15-c7c579f16c99>:10: UserWarning: To copy construct from a tensor, it is recommended to use sourceTensor.clone().detach() or sourceTensor.clone().detach().requires_grad_(True), rather than torch.tensor(sourceTensor).\n",
      "  criterion = nn.CrossEntropyLoss(weight=torch.tensor(class_weights, dtype=torch.float).to(config.device))\n"
     ]
    },
    {
     "name": "stdout",
     "output_type": "stream",
     "text": [
      "\n",
      "Training on chunk 0 finished\n"
     ]
    },
    {
     "name": "stderr",
     "output_type": "stream",
     "text": [
      "<ipython-input-15-c7c579f16c99>:10: UserWarning: To copy construct from a tensor, it is recommended to use sourceTensor.clone().detach() or sourceTensor.clone().detach().requires_grad_(True), rather than torch.tensor(sourceTensor).\n",
      "  criterion = nn.CrossEntropyLoss(weight=torch.tensor(class_weights, dtype=torch.float).to(config.device))\n"
     ]
    },
    {
     "name": "stdout",
     "output_type": "stream",
     "text": [
      "\n",
      "Training on chunk 1 finished\n"
     ]
    },
    {
     "name": "stderr",
     "output_type": "stream",
     "text": [
      "<ipython-input-15-c7c579f16c99>:10: UserWarning: To copy construct from a tensor, it is recommended to use sourceTensor.clone().detach() or sourceTensor.clone().detach().requires_grad_(True), rather than torch.tensor(sourceTensor).\n",
      "  criterion = nn.CrossEntropyLoss(weight=torch.tensor(class_weights, dtype=torch.float).to(config.device))\n"
     ]
    },
    {
     "name": "stdout",
     "output_type": "stream",
     "text": [
      "\n",
      "Training on chunk 2 finished\n"
     ]
    },
    {
     "name": "stderr",
     "output_type": "stream",
     "text": [
      "<ipython-input-15-c7c579f16c99>:10: UserWarning: To copy construct from a tensor, it is recommended to use sourceTensor.clone().detach() or sourceTensor.clone().detach().requires_grad_(True), rather than torch.tensor(sourceTensor).\n",
      "  criterion = nn.CrossEntropyLoss(weight=torch.tensor(class_weights, dtype=torch.float).to(config.device))\n"
     ]
    },
    {
     "name": "stdout",
     "output_type": "stream",
     "text": [
      "\n",
      "Training on chunk 3 finished\n"
     ]
    },
    {
     "name": "stderr",
     "output_type": "stream",
     "text": [
      "<ipython-input-15-c7c579f16c99>:10: UserWarning: To copy construct from a tensor, it is recommended to use sourceTensor.clone().detach() or sourceTensor.clone().detach().requires_grad_(True), rather than torch.tensor(sourceTensor).\n",
      "  criterion = nn.CrossEntropyLoss(weight=torch.tensor(class_weights, dtype=torch.float).to(config.device))\n"
     ]
    },
    {
     "name": "stdout",
     "output_type": "stream",
     "text": [
      "\n",
      "Training on chunk 4 finished\n"
     ]
    },
    {
     "name": "stderr",
     "output_type": "stream",
     "text": [
      "<ipython-input-15-c7c579f16c99>:10: UserWarning: To copy construct from a tensor, it is recommended to use sourceTensor.clone().detach() or sourceTensor.clone().detach().requires_grad_(True), rather than torch.tensor(sourceTensor).\n",
      "  criterion = nn.CrossEntropyLoss(weight=torch.tensor(class_weights, dtype=torch.float).to(config.device))\n"
     ]
    },
    {
     "name": "stdout",
     "output_type": "stream",
     "text": [
      "\n",
      "Training on chunk 5 finished\n"
     ]
    },
    {
     "name": "stderr",
     "output_type": "stream",
     "text": [
      "<ipython-input-15-c7c579f16c99>:10: UserWarning: To copy construct from a tensor, it is recommended to use sourceTensor.clone().detach() or sourceTensor.clone().detach().requires_grad_(True), rather than torch.tensor(sourceTensor).\n",
      "  criterion = nn.CrossEntropyLoss(weight=torch.tensor(class_weights, dtype=torch.float).to(config.device))\n"
     ]
    },
    {
     "name": "stdout",
     "output_type": "stream",
     "text": [
      "\n",
      "Training on chunk 6 finished\n"
     ]
    },
    {
     "name": "stderr",
     "output_type": "stream",
     "text": [
      "<ipython-input-15-c7c579f16c99>:10: UserWarning: To copy construct from a tensor, it is recommended to use sourceTensor.clone().detach() or sourceTensor.clone().detach().requires_grad_(True), rather than torch.tensor(sourceTensor).\n",
      "  criterion = nn.CrossEntropyLoss(weight=torch.tensor(class_weights, dtype=torch.float).to(config.device))\n"
     ]
    },
    {
     "name": "stdout",
     "output_type": "stream",
     "text": [
      "\n",
      "Training on chunk 7 finished\n"
     ]
    },
    {
     "name": "stderr",
     "output_type": "stream",
     "text": [
      "<ipython-input-15-c7c579f16c99>:10: UserWarning: To copy construct from a tensor, it is recommended to use sourceTensor.clone().detach() or sourceTensor.clone().detach().requires_grad_(True), rather than torch.tensor(sourceTensor).\n",
      "  criterion = nn.CrossEntropyLoss(weight=torch.tensor(class_weights, dtype=torch.float).to(config.device))\n"
     ]
    },
    {
     "name": "stdout",
     "output_type": "stream",
     "text": [
      "\n",
      "Training on chunk 8 finished\n"
     ]
    },
    {
     "name": "stderr",
     "output_type": "stream",
     "text": [
      "<ipython-input-15-c7c579f16c99>:10: UserWarning: To copy construct from a tensor, it is recommended to use sourceTensor.clone().detach() or sourceTensor.clone().detach().requires_grad_(True), rather than torch.tensor(sourceTensor).\n",
      "  criterion = nn.CrossEntropyLoss(weight=torch.tensor(class_weights, dtype=torch.float).to(config.device))\n"
     ]
    },
    {
     "name": "stdout",
     "output_type": "stream",
     "text": [
      "\n",
      "Training on chunk 9 finished\n"
     ]
    },
    {
     "name": "stderr",
     "output_type": "stream",
     "text": [
      "<ipython-input-15-c7c579f16c99>:10: UserWarning: To copy construct from a tensor, it is recommended to use sourceTensor.clone().detach() or sourceTensor.clone().detach().requires_grad_(True), rather than torch.tensor(sourceTensor).\n",
      "  criterion = nn.CrossEntropyLoss(weight=torch.tensor(class_weights, dtype=torch.float).to(config.device))\n"
     ]
    },
    {
     "name": "stdout",
     "output_type": "stream",
     "text": [
      "\n",
      "Training on chunk 10 finished\n"
     ]
    },
    {
     "name": "stderr",
     "output_type": "stream",
     "text": [
      "<ipython-input-15-c7c579f16c99>:10: UserWarning: To copy construct from a tensor, it is recommended to use sourceTensor.clone().detach() or sourceTensor.clone().detach().requires_grad_(True), rather than torch.tensor(sourceTensor).\n",
      "  criterion = nn.CrossEntropyLoss(weight=torch.tensor(class_weights, dtype=torch.float).to(config.device))\n"
     ]
    },
    {
     "name": "stdout",
     "output_type": "stream",
     "text": [
      "\n",
      "Training on chunk 11 finished\n",
      "Epoch [1/1]\n",
      "Train Loss: 0.0029, Accuracy: 94.40%\n",
      "Val Loss: 0.0062, Accuracy: 86.31%\n",
      "\n",
      "Evaluation on chunk 0 finished\n",
      "\n",
      "Evaluation on chunk 1 finished\n",
      "\n",
      "Evaluation on chunk 2 finished\n",
      "\n",
      "Evaluation on chunk 3 finished\n",
      "\n",
      "Evaluation on chunk 4 finished\n",
      "\n",
      "Evaluation on chunk 5 finished\n",
      "Overall Accuracy: 90.00%\n",
      "Overall F1 Score: 0.8969\n",
      "Overall Recall: 0.9000\n",
      "Overall Precision: 0.9053\n",
      "\n",
      "Final Results:\n",
      "       loss   accuracy        f1    recall  precision  \\\n",
      "0  0.006310  87.623557  0.877305  0.876236   0.880337   \n",
      "1  0.010704  81.696364  0.820795  0.816964   0.829812   \n",
      "2  0.006899  86.224138  0.864801  0.862242   0.878843   \n",
      "3  0.004008  91.815823  0.917957  0.918158   0.918994   \n",
      "4  0.004064  91.447635  0.913707  0.914476   0.914274   \n",
      "5  0.004295  89.995763  0.896931  0.899958   0.905281   \n",
      "\n",
      "   Number of attention heads  \n",
      "0                          1  \n",
      "1                          2  \n",
      "2                          4  \n",
      "3                          8  \n",
      "4                         16  \n",
      "5                         32  \n",
      "Evaluation results saved to: /content/drive/My Drive/benchmark_attention_heads.csv\n"
     ]
    }
   ],
   "source": [
    "# Results time!\n",
    "grid_search_of_attention_heads()"
   ]
  },
  {
   "cell_type": "markdown",
   "metadata": {},
   "source": [
    "It appears that the optimal value of attention heads is 8 !"
   ]
  },
  {
   "cell_type": "markdown",
   "metadata": {},
   "source": [
    "# Batch size"
   ]
  },
  {
   "cell_type": "markdown",
   "metadata": {},
   "source": [
    "The selection of mini-batch size is a critical factor that influences training performance and accuracy. A smaller batch size for instance introduces stochasticity into the optimization path, which can slow down convergence but often leads to improved generalization."
   ]
  },
  {
   "cell_type": "code",
   "execution_count": null,
   "metadata": {},
   "outputs": [],
   "source": [
    "# Function to plot the results of our experiment\n",
    "def plot_results(results_df):\n",
    "    # Ensure numeric columns\n",
    "    results_df['accuracy'] = results_df['accuracy'].astype(float)\n",
    "    results_df['Training Time'] = results_df['Training Time'].astype(float)\n",
    "\n",
    "    # Plot Accuracy vs. Batch Size\n",
    "    plt.figure(figsize=(12, 6))\n",
    "    plt.plot(results_df['Batch size'], results_df['accuracy'], marker='o', label='Accuracy')\n",
    "    plt.title('Accuracy vs. Batch Size')\n",
    "    plt.xlabel('Batch Size')\n",
    "    plt.ylabel('Accuracy')\n",
    "    plt.grid(True)\n",
    "    plt.legend()\n",
    "    plt.show()\n",
    "\n",
    "    # Plot Training Time vs. Batch Size\n",
    "    plt.figure(figsize=(10, 7))\n",
    "    plt.plot(results_df['Batch size'], results_df['Training Time'], marker='o', color='orange', label='Training Time')\n",
    "    plt.title('Training Time vs. Batch Size')\n",
    "    plt.xlabel('Batch Size')\n",
    "    plt.ylabel('Training Time (seconds)')\n",
    "    plt.grid(True)\n",
    "    plt.legend()\n",
    "    plt.show()"
   ]
  },
  {
   "cell_type": "code",
   "execution_count": null,
   "metadata": {},
   "outputs": [],
   "source": [
    "def grid_search_over_batch_sizes():\n",
    "    mini_batch_sizes = [8, 16, 32, 64, 128, 256]\n",
    "    results = []\n",
    "    # We choose a subset of the data to be able to test multiple values\n",
    "    data = combined_data[:500000]\n",
    "\n",
    "    for mini_batch_size in mini_batch_sizes:\n",
    "        print(f\"\\nEvaluating model with batch size: {mini_batch_size}\")\n",
    "\n",
    "        # Generate dataset with the correct horizon\n",
    "        current_data = feature_engineering_and_labels_generation(data, 10)\n",
    "\n",
    "        # Configuration\n",
    "        config = TrainingConfig(current_data)\n",
    "        config.seq_len = 10\n",
    "        config.batch_size = mini_batch_size\n",
    "\n",
    "        # Load and split data\n",
    "        train_data, test_data = split_data(current_data, train_size=0.7)\n",
    "        print(\"The number of data points in the testing set is:\", len(test_data))\n",
    "\n",
    "        # Get class weights\n",
    "        training_labels = train_data['label']\n",
    "        class_weights = compute_class_weight(\n",
    "            class_weight='balanced',\n",
    "            classes=np.unique(training_labels),\n",
    "            y=training_labels\n",
    "        )\n",
    "\n",
    "        # Convert class weights to tensor\n",
    "        class_weights = torch.tensor(class_weights, dtype=torch.float).to(config.device)\n",
    "\n",
    "        # Model Initialization\n",
    "        model = BiTranWrapper(\n",
    "            input_dim=config.input_dim,\n",
    "            seq_len=config.seq_len,\n",
    "            num_classes=config.num_classes,\n",
    "            use_tape=True\n",
    "        ).to(config.device)\n",
    "\n",
    "        # Train Model on chunks\n",
    "        # We use a subset of the testing set as validation\n",
    "        max_start_index = len(test_data) - 100000\n",
    "        start_idx = np.random.randint(0, max_start_index)\n",
    "        test_data_subset = test_data[start_idx:start_idx + 100000]\n",
    "\n",
    "        # Measure training time\n",
    "        start_time = time.time()\n",
    "        model = train_model_in_chunks(\n",
    "            model, class_weights, train_data, test_data_subset, config, chunk_size=100000\n",
    "        )\n",
    "        training_time = time.time() - start_time\n",
    "\n",
    "        # Evaluate the model\n",
    "        final_metrics = evaluate_model_in_chunks(\n",
    "            model, test_data, config, chunk_size=100000\n",
    "        )\n",
    "        final_metrics['Batch size'] = mini_batch_size\n",
    "        final_metrics['Training Time'] = training_time\n",
    "        results.append(final_metrics)\n",
    "\n",
    "    # Convert results to DataFrame\n",
    "    results_df = pd.DataFrame(results)\n",
    "    print(\"\\nFinal Results:\")\n",
    "    print(results_df)\n",
    "\n",
    "    # Generate and save plots\n",
    "    plot_results(results_df)"
   ]
  },
  {
   "cell_type": "code",
   "execution_count": null,
   "metadata": {},
   "outputs": [
    {
     "name": "stdout",
     "output_type": "stream",
     "text": [
      "\n",
      "Evaluating model with batch size: 8\n",
      "The number of data points in the testing set is: 149971\n"
     ]
    },
    {
     "name": "stderr",
     "output_type": "stream",
     "text": [
      "<ipython-input-16-c7c579f16c99>:10: UserWarning: To copy construct from a tensor, it is recommended to use sourceTensor.clone().detach() or sourceTensor.clone().detach().requires_grad_(True), rather than torch.tensor(sourceTensor).\n",
      "  criterion = nn.CrossEntropyLoss(weight=torch.tensor(class_weights, dtype=torch.float).to(config.device))\n"
     ]
    },
    {
     "name": "stdout",
     "output_type": "stream",
     "text": [
      "\n",
      "Training on chunk 0 finished\n"
     ]
    },
    {
     "name": "stderr",
     "output_type": "stream",
     "text": [
      "<ipython-input-16-c7c579f16c99>:10: UserWarning: To copy construct from a tensor, it is recommended to use sourceTensor.clone().detach() or sourceTensor.clone().detach().requires_grad_(True), rather than torch.tensor(sourceTensor).\n",
      "  criterion = nn.CrossEntropyLoss(weight=torch.tensor(class_weights, dtype=torch.float).to(config.device))\n"
     ]
    },
    {
     "name": "stdout",
     "output_type": "stream",
     "text": [
      "\n",
      "Training on chunk 1 finished\n"
     ]
    },
    {
     "name": "stderr",
     "output_type": "stream",
     "text": [
      "<ipython-input-16-c7c579f16c99>:10: UserWarning: To copy construct from a tensor, it is recommended to use sourceTensor.clone().detach() or sourceTensor.clone().detach().requires_grad_(True), rather than torch.tensor(sourceTensor).\n",
      "  criterion = nn.CrossEntropyLoss(weight=torch.tensor(class_weights, dtype=torch.float).to(config.device))\n"
     ]
    },
    {
     "name": "stdout",
     "output_type": "stream",
     "text": [
      "\n",
      "Training on chunk 2 finished\n"
     ]
    },
    {
     "name": "stderr",
     "output_type": "stream",
     "text": [
      "<ipython-input-16-c7c579f16c99>:10: UserWarning: To copy construct from a tensor, it is recommended to use sourceTensor.clone().detach() or sourceTensor.clone().detach().requires_grad_(True), rather than torch.tensor(sourceTensor).\n",
      "  criterion = nn.CrossEntropyLoss(weight=torch.tensor(class_weights, dtype=torch.float).to(config.device))\n"
     ]
    },
    {
     "name": "stdout",
     "output_type": "stream",
     "text": [
      "\n",
      "Training on chunk 3 finished\n",
      "Epoch [1/2]\n",
      "Train Loss: 0.0472, Accuracy: 93.07%\n",
      "Val Loss: 0.0361, Accuracy: 93.56%\n"
     ]
    },
    {
     "name": "stderr",
     "output_type": "stream",
     "text": [
      "<ipython-input-16-c7c579f16c99>:10: UserWarning: To copy construct from a tensor, it is recommended to use sourceTensor.clone().detach() or sourceTensor.clone().detach().requires_grad_(True), rather than torch.tensor(sourceTensor).\n",
      "  criterion = nn.CrossEntropyLoss(weight=torch.tensor(class_weights, dtype=torch.float).to(config.device))\n"
     ]
    },
    {
     "name": "stdout",
     "output_type": "stream",
     "text": [
      "\n",
      "Training on chunk 0 finished\n"
     ]
    },
    {
     "name": "stderr",
     "output_type": "stream",
     "text": [
      "<ipython-input-16-c7c579f16c99>:10: UserWarning: To copy construct from a tensor, it is recommended to use sourceTensor.clone().detach() or sourceTensor.clone().detach().requires_grad_(True), rather than torch.tensor(sourceTensor).\n",
      "  criterion = nn.CrossEntropyLoss(weight=torch.tensor(class_weights, dtype=torch.float).to(config.device))\n"
     ]
    },
    {
     "name": "stdout",
     "output_type": "stream",
     "text": [
      "\n",
      "Training on chunk 1 finished\n"
     ]
    },
    {
     "name": "stderr",
     "output_type": "stream",
     "text": [
      "<ipython-input-16-c7c579f16c99>:10: UserWarning: To copy construct from a tensor, it is recommended to use sourceTensor.clone().detach() or sourceTensor.clone().detach().requires_grad_(True), rather than torch.tensor(sourceTensor).\n",
      "  criterion = nn.CrossEntropyLoss(weight=torch.tensor(class_weights, dtype=torch.float).to(config.device))\n"
     ]
    },
    {
     "name": "stdout",
     "output_type": "stream",
     "text": [
      "\n",
      "Training on chunk 2 finished\n"
     ]
    },
    {
     "name": "stderr",
     "output_type": "stream",
     "text": [
      "<ipython-input-16-c7c579f16c99>:10: UserWarning: To copy construct from a tensor, it is recommended to use sourceTensor.clone().detach() or sourceTensor.clone().detach().requires_grad_(True), rather than torch.tensor(sourceTensor).\n",
      "  criterion = nn.CrossEntropyLoss(weight=torch.tensor(class_weights, dtype=torch.float).to(config.device))\n"
     ]
    },
    {
     "name": "stdout",
     "output_type": "stream",
     "text": [
      "\n",
      "Training on chunk 3 finished\n",
      "Epoch [2/2]\n",
      "Train Loss: 0.0420, Accuracy: 94.59%\n",
      "Val Loss: 0.0374, Accuracy: 93.50%\n",
      "\n",
      "Evaluation on chunk 0 finished\n",
      "\n",
      "Evaluation on chunk 1 finished\n",
      "Overall Accuracy: 91.59%\n",
      "Overall F1 Score: 0.9128\n",
      "Overall Recall: 0.9159\n",
      "Overall Precision: 0.9134\n",
      "\n",
      "Evaluating model with batch size: 16\n",
      "The number of data points in the testing set is: 149971\n"
     ]
    },
    {
     "name": "stderr",
     "output_type": "stream",
     "text": [
      "<ipython-input-16-c7c579f16c99>:10: UserWarning: To copy construct from a tensor, it is recommended to use sourceTensor.clone().detach() or sourceTensor.clone().detach().requires_grad_(True), rather than torch.tensor(sourceTensor).\n",
      "  criterion = nn.CrossEntropyLoss(weight=torch.tensor(class_weights, dtype=torch.float).to(config.device))\n"
     ]
    },
    {
     "name": "stdout",
     "output_type": "stream",
     "text": [
      "\n",
      "Training on chunk 0 finished\n"
     ]
    },
    {
     "name": "stderr",
     "output_type": "stream",
     "text": [
      "<ipython-input-16-c7c579f16c99>:10: UserWarning: To copy construct from a tensor, it is recommended to use sourceTensor.clone().detach() or sourceTensor.clone().detach().requires_grad_(True), rather than torch.tensor(sourceTensor).\n",
      "  criterion = nn.CrossEntropyLoss(weight=torch.tensor(class_weights, dtype=torch.float).to(config.device))\n"
     ]
    },
    {
     "name": "stdout",
     "output_type": "stream",
     "text": [
      "\n",
      "Training on chunk 1 finished\n"
     ]
    },
    {
     "name": "stderr",
     "output_type": "stream",
     "text": [
      "<ipython-input-16-c7c579f16c99>:10: UserWarning: To copy construct from a tensor, it is recommended to use sourceTensor.clone().detach() or sourceTensor.clone().detach().requires_grad_(True), rather than torch.tensor(sourceTensor).\n",
      "  criterion = nn.CrossEntropyLoss(weight=torch.tensor(class_weights, dtype=torch.float).to(config.device))\n"
     ]
    },
    {
     "name": "stdout",
     "output_type": "stream",
     "text": [
      "\n",
      "Training on chunk 2 finished\n"
     ]
    },
    {
     "name": "stderr",
     "output_type": "stream",
     "text": [
      "<ipython-input-16-c7c579f16c99>:10: UserWarning: To copy construct from a tensor, it is recommended to use sourceTensor.clone().detach() or sourceTensor.clone().detach().requires_grad_(True), rather than torch.tensor(sourceTensor).\n",
      "  criterion = nn.CrossEntropyLoss(weight=torch.tensor(class_weights, dtype=torch.float).to(config.device))\n"
     ]
    },
    {
     "name": "stdout",
     "output_type": "stream",
     "text": [
      "\n",
      "Training on chunk 3 finished\n",
      "Epoch [1/2]\n",
      "Train Loss: 0.0239, Accuracy: 92.62%\n",
      "Val Loss: 0.0272, Accuracy: 91.85%\n"
     ]
    },
    {
     "name": "stderr",
     "output_type": "stream",
     "text": [
      "<ipython-input-16-c7c579f16c99>:10: UserWarning: To copy construct from a tensor, it is recommended to use sourceTensor.clone().detach() or sourceTensor.clone().detach().requires_grad_(True), rather than torch.tensor(sourceTensor).\n",
      "  criterion = nn.CrossEntropyLoss(weight=torch.tensor(class_weights, dtype=torch.float).to(config.device))\n"
     ]
    },
    {
     "name": "stdout",
     "output_type": "stream",
     "text": [
      "\n",
      "Training on chunk 0 finished\n"
     ]
    },
    {
     "name": "stderr",
     "output_type": "stream",
     "text": [
      "<ipython-input-16-c7c579f16c99>:10: UserWarning: To copy construct from a tensor, it is recommended to use sourceTensor.clone().detach() or sourceTensor.clone().detach().requires_grad_(True), rather than torch.tensor(sourceTensor).\n",
      "  criterion = nn.CrossEntropyLoss(weight=torch.tensor(class_weights, dtype=torch.float).to(config.device))\n"
     ]
    },
    {
     "name": "stdout",
     "output_type": "stream",
     "text": [
      "\n",
      "Training on chunk 1 finished\n"
     ]
    },
    {
     "name": "stderr",
     "output_type": "stream",
     "text": [
      "<ipython-input-16-c7c579f16c99>:10: UserWarning: To copy construct from a tensor, it is recommended to use sourceTensor.clone().detach() or sourceTensor.clone().detach().requires_grad_(True), rather than torch.tensor(sourceTensor).\n",
      "  criterion = nn.CrossEntropyLoss(weight=torch.tensor(class_weights, dtype=torch.float).to(config.device))\n"
     ]
    },
    {
     "name": "stdout",
     "output_type": "stream",
     "text": [
      "\n",
      "Training on chunk 2 finished\n"
     ]
    },
    {
     "name": "stderr",
     "output_type": "stream",
     "text": [
      "<ipython-input-16-c7c579f16c99>:10: UserWarning: To copy construct from a tensor, it is recommended to use sourceTensor.clone().detach() or sourceTensor.clone().detach().requires_grad_(True), rather than torch.tensor(sourceTensor).\n",
      "  criterion = nn.CrossEntropyLoss(weight=torch.tensor(class_weights, dtype=torch.float).to(config.device))\n"
     ]
    },
    {
     "name": "stdout",
     "output_type": "stream",
     "text": [
      "\n",
      "Training on chunk 3 finished\n",
      "Epoch [2/2]\n",
      "Train Loss: 0.0215, Accuracy: 94.25%\n",
      "Val Loss: 0.0278, Accuracy: 92.26%\n",
      "\n",
      "Evaluation on chunk 0 finished\n",
      "\n",
      "Evaluation on chunk 1 finished\n",
      "Overall Accuracy: 92.05%\n",
      "Overall F1 Score: 0.9179\n",
      "Overall Recall: 0.9205\n",
      "Overall Precision: 0.9180\n",
      "\n",
      "Evaluating model with batch size: 32\n",
      "The number of data points in the testing set is: 149971\n"
     ]
    },
    {
     "name": "stderr",
     "output_type": "stream",
     "text": [
      "<ipython-input-16-c7c579f16c99>:10: UserWarning: To copy construct from a tensor, it is recommended to use sourceTensor.clone().detach() or sourceTensor.clone().detach().requires_grad_(True), rather than torch.tensor(sourceTensor).\n",
      "  criterion = nn.CrossEntropyLoss(weight=torch.tensor(class_weights, dtype=torch.float).to(config.device))\n"
     ]
    },
    {
     "name": "stdout",
     "output_type": "stream",
     "text": [
      "\n",
      "Training on chunk 0 finished\n"
     ]
    },
    {
     "name": "stderr",
     "output_type": "stream",
     "text": [
      "<ipython-input-16-c7c579f16c99>:10: UserWarning: To copy construct from a tensor, it is recommended to use sourceTensor.clone().detach() or sourceTensor.clone().detach().requires_grad_(True), rather than torch.tensor(sourceTensor).\n",
      "  criterion = nn.CrossEntropyLoss(weight=torch.tensor(class_weights, dtype=torch.float).to(config.device))\n"
     ]
    },
    {
     "name": "stdout",
     "output_type": "stream",
     "text": [
      "\n",
      "Training on chunk 1 finished\n"
     ]
    },
    {
     "name": "stderr",
     "output_type": "stream",
     "text": [
      "<ipython-input-16-c7c579f16c99>:10: UserWarning: To copy construct from a tensor, it is recommended to use sourceTensor.clone().detach() or sourceTensor.clone().detach().requires_grad_(True), rather than torch.tensor(sourceTensor).\n",
      "  criterion = nn.CrossEntropyLoss(weight=torch.tensor(class_weights, dtype=torch.float).to(config.device))\n"
     ]
    },
    {
     "name": "stdout",
     "output_type": "stream",
     "text": [
      "\n",
      "Training on chunk 2 finished\n"
     ]
    },
    {
     "name": "stderr",
     "output_type": "stream",
     "text": [
      "<ipython-input-16-c7c579f16c99>:10: UserWarning: To copy construct from a tensor, it is recommended to use sourceTensor.clone().detach() or sourceTensor.clone().detach().requires_grad_(True), rather than torch.tensor(sourceTensor).\n",
      "  criterion = nn.CrossEntropyLoss(weight=torch.tensor(class_weights, dtype=torch.float).to(config.device))\n"
     ]
    },
    {
     "name": "stdout",
     "output_type": "stream",
     "text": [
      "\n",
      "Training on chunk 3 finished\n",
      "Epoch [1/2]\n",
      "Train Loss: 0.0117, Accuracy: 92.43%\n",
      "Val Loss: 0.0169, Accuracy: 90.46%\n"
     ]
    },
    {
     "name": "stderr",
     "output_type": "stream",
     "text": [
      "<ipython-input-16-c7c579f16c99>:10: UserWarning: To copy construct from a tensor, it is recommended to use sourceTensor.clone().detach() or sourceTensor.clone().detach().requires_grad_(True), rather than torch.tensor(sourceTensor).\n",
      "  criterion = nn.CrossEntropyLoss(weight=torch.tensor(class_weights, dtype=torch.float).to(config.device))\n"
     ]
    },
    {
     "name": "stdout",
     "output_type": "stream",
     "text": [
      "\n",
      "Training on chunk 0 finished\n"
     ]
    },
    {
     "name": "stderr",
     "output_type": "stream",
     "text": [
      "<ipython-input-16-c7c579f16c99>:10: UserWarning: To copy construct from a tensor, it is recommended to use sourceTensor.clone().detach() or sourceTensor.clone().detach().requires_grad_(True), rather than torch.tensor(sourceTensor).\n",
      "  criterion = nn.CrossEntropyLoss(weight=torch.tensor(class_weights, dtype=torch.float).to(config.device))\n"
     ]
    },
    {
     "name": "stdout",
     "output_type": "stream",
     "text": [
      "\n",
      "Training on chunk 1 finished\n"
     ]
    },
    {
     "name": "stderr",
     "output_type": "stream",
     "text": [
      "<ipython-input-16-c7c579f16c99>:10: UserWarning: To copy construct from a tensor, it is recommended to use sourceTensor.clone().detach() or sourceTensor.clone().detach().requires_grad_(True), rather than torch.tensor(sourceTensor).\n",
      "  criterion = nn.CrossEntropyLoss(weight=torch.tensor(class_weights, dtype=torch.float).to(config.device))\n"
     ]
    },
    {
     "name": "stdout",
     "output_type": "stream",
     "text": [
      "\n",
      "Training on chunk 2 finished\n"
     ]
    },
    {
     "name": "stderr",
     "output_type": "stream",
     "text": [
      "<ipython-input-16-c7c579f16c99>:10: UserWarning: To copy construct from a tensor, it is recommended to use sourceTensor.clone().detach() or sourceTensor.clone().detach().requires_grad_(True), rather than torch.tensor(sourceTensor).\n",
      "  criterion = nn.CrossEntropyLoss(weight=torch.tensor(class_weights, dtype=torch.float).to(config.device))\n"
     ]
    },
    {
     "name": "stdout",
     "output_type": "stream",
     "text": [
      "\n",
      "Training on chunk 3 finished\n",
      "Epoch [2/2]\n",
      "Train Loss: 0.0106, Accuracy: 94.20%\n",
      "Val Loss: 0.0172, Accuracy: 90.99%\n",
      "\n",
      "Evaluation on chunk 0 finished\n",
      "\n",
      "Evaluation on chunk 1 finished\n",
      "Overall Accuracy: 92.16%\n",
      "Overall F1 Score: 0.9189\n",
      "Overall Recall: 0.9216\n",
      "Overall Precision: 0.9192\n",
      "\n",
      "Evaluating model with batch size: 64\n",
      "The number of data points in the testing set is: 149971\n"
     ]
    },
    {
     "name": "stderr",
     "output_type": "stream",
     "text": [
      "<ipython-input-16-c7c579f16c99>:10: UserWarning: To copy construct from a tensor, it is recommended to use sourceTensor.clone().detach() or sourceTensor.clone().detach().requires_grad_(True), rather than torch.tensor(sourceTensor).\n",
      "  criterion = nn.CrossEntropyLoss(weight=torch.tensor(class_weights, dtype=torch.float).to(config.device))\n"
     ]
    },
    {
     "name": "stdout",
     "output_type": "stream",
     "text": [
      "\n",
      "Training on chunk 0 finished\n"
     ]
    },
    {
     "name": "stderr",
     "output_type": "stream",
     "text": [
      "<ipython-input-16-c7c579f16c99>:10: UserWarning: To copy construct from a tensor, it is recommended to use sourceTensor.clone().detach() or sourceTensor.clone().detach().requires_grad_(True), rather than torch.tensor(sourceTensor).\n",
      "  criterion = nn.CrossEntropyLoss(weight=torch.tensor(class_weights, dtype=torch.float).to(config.device))\n"
     ]
    },
    {
     "name": "stdout",
     "output_type": "stream",
     "text": [
      "\n",
      "Training on chunk 1 finished\n"
     ]
    },
    {
     "name": "stderr",
     "output_type": "stream",
     "text": [
      "<ipython-input-16-c7c579f16c99>:10: UserWarning: To copy construct from a tensor, it is recommended to use sourceTensor.clone().detach() or sourceTensor.clone().detach().requires_grad_(True), rather than torch.tensor(sourceTensor).\n",
      "  criterion = nn.CrossEntropyLoss(weight=torch.tensor(class_weights, dtype=torch.float).to(config.device))\n"
     ]
    },
    {
     "name": "stdout",
     "output_type": "stream",
     "text": [
      "\n",
      "Training on chunk 2 finished\n"
     ]
    },
    {
     "name": "stderr",
     "output_type": "stream",
     "text": [
      "<ipython-input-16-c7c579f16c99>:10: UserWarning: To copy construct from a tensor, it is recommended to use sourceTensor.clone().detach() or sourceTensor.clone().detach().requires_grad_(True), rather than torch.tensor(sourceTensor).\n",
      "  criterion = nn.CrossEntropyLoss(weight=torch.tensor(class_weights, dtype=torch.float).to(config.device))\n"
     ]
    },
    {
     "name": "stdout",
     "output_type": "stream",
     "text": [
      "\n",
      "Training on chunk 3 finished\n",
      "Epoch [1/2]\n",
      "Train Loss: 0.0057, Accuracy: 92.22%\n",
      "Val Loss: 0.0057, Accuracy: 94.16%\n"
     ]
    },
    {
     "name": "stderr",
     "output_type": "stream",
     "text": [
      "<ipython-input-16-c7c579f16c99>:10: UserWarning: To copy construct from a tensor, it is recommended to use sourceTensor.clone().detach() or sourceTensor.clone().detach().requires_grad_(True), rather than torch.tensor(sourceTensor).\n",
      "  criterion = nn.CrossEntropyLoss(weight=torch.tensor(class_weights, dtype=torch.float).to(config.device))\n"
     ]
    },
    {
     "name": "stdout",
     "output_type": "stream",
     "text": [
      "\n",
      "Training on chunk 0 finished\n"
     ]
    },
    {
     "name": "stderr",
     "output_type": "stream",
     "text": [
      "<ipython-input-16-c7c579f16c99>:10: UserWarning: To copy construct from a tensor, it is recommended to use sourceTensor.clone().detach() or sourceTensor.clone().detach().requires_grad_(True), rather than torch.tensor(sourceTensor).\n",
      "  criterion = nn.CrossEntropyLoss(weight=torch.tensor(class_weights, dtype=torch.float).to(config.device))\n"
     ]
    },
    {
     "name": "stdout",
     "output_type": "stream",
     "text": [
      "\n",
      "Training on chunk 1 finished\n"
     ]
    },
    {
     "name": "stderr",
     "output_type": "stream",
     "text": [
      "<ipython-input-16-c7c579f16c99>:10: UserWarning: To copy construct from a tensor, it is recommended to use sourceTensor.clone().detach() or sourceTensor.clone().detach().requires_grad_(True), rather than torch.tensor(sourceTensor).\n",
      "  criterion = nn.CrossEntropyLoss(weight=torch.tensor(class_weights, dtype=torch.float).to(config.device))\n"
     ]
    },
    {
     "name": "stdout",
     "output_type": "stream",
     "text": [
      "\n",
      "Training on chunk 2 finished\n"
     ]
    },
    {
     "name": "stderr",
     "output_type": "stream",
     "text": [
      "<ipython-input-16-c7c579f16c99>:10: UserWarning: To copy construct from a tensor, it is recommended to use sourceTensor.clone().detach() or sourceTensor.clone().detach().requires_grad_(True), rather than torch.tensor(sourceTensor).\n",
      "  criterion = nn.CrossEntropyLoss(weight=torch.tensor(class_weights, dtype=torch.float).to(config.device))\n"
     ]
    },
    {
     "name": "stdout",
     "output_type": "stream",
     "text": [
      "\n",
      "Training on chunk 3 finished\n",
      "Epoch [2/2]\n",
      "Train Loss: 0.0052, Accuracy: 94.05%\n",
      "Val Loss: 0.0051, Accuracy: 94.51%\n",
      "\n",
      "Evaluation on chunk 0 finished\n",
      "\n",
      "Evaluation on chunk 1 finished\n",
      "Overall Accuracy: 92.20%\n",
      "Overall F1 Score: 0.9195\n",
      "Overall Recall: 0.9220\n",
      "Overall Precision: 0.9196\n",
      "\n",
      "Evaluating model with batch size: 128\n",
      "The number of data points in the testing set is: 149971\n"
     ]
    },
    {
     "name": "stderr",
     "output_type": "stream",
     "text": [
      "<ipython-input-16-c7c579f16c99>:10: UserWarning: To copy construct from a tensor, it is recommended to use sourceTensor.clone().detach() or sourceTensor.clone().detach().requires_grad_(True), rather than torch.tensor(sourceTensor).\n",
      "  criterion = nn.CrossEntropyLoss(weight=torch.tensor(class_weights, dtype=torch.float).to(config.device))\n"
     ]
    },
    {
     "name": "stdout",
     "output_type": "stream",
     "text": [
      "\n",
      "Training on chunk 0 finished\n"
     ]
    },
    {
     "name": "stderr",
     "output_type": "stream",
     "text": [
      "<ipython-input-16-c7c579f16c99>:10: UserWarning: To copy construct from a tensor, it is recommended to use sourceTensor.clone().detach() or sourceTensor.clone().detach().requires_grad_(True), rather than torch.tensor(sourceTensor).\n",
      "  criterion = nn.CrossEntropyLoss(weight=torch.tensor(class_weights, dtype=torch.float).to(config.device))\n"
     ]
    },
    {
     "name": "stdout",
     "output_type": "stream",
     "text": [
      "\n",
      "Training on chunk 1 finished\n"
     ]
    },
    {
     "name": "stderr",
     "output_type": "stream",
     "text": [
      "<ipython-input-16-c7c579f16c99>:10: UserWarning: To copy construct from a tensor, it is recommended to use sourceTensor.clone().detach() or sourceTensor.clone().detach().requires_grad_(True), rather than torch.tensor(sourceTensor).\n",
      "  criterion = nn.CrossEntropyLoss(weight=torch.tensor(class_weights, dtype=torch.float).to(config.device))\n"
     ]
    },
    {
     "name": "stdout",
     "output_type": "stream",
     "text": [
      "\n",
      "Training on chunk 2 finished\n"
     ]
    },
    {
     "name": "stderr",
     "output_type": "stream",
     "text": [
      "<ipython-input-16-c7c579f16c99>:10: UserWarning: To copy construct from a tensor, it is recommended to use sourceTensor.clone().detach() or sourceTensor.clone().detach().requires_grad_(True), rather than torch.tensor(sourceTensor).\n",
      "  criterion = nn.CrossEntropyLoss(weight=torch.tensor(class_weights, dtype=torch.float).to(config.device))\n"
     ]
    },
    {
     "name": "stdout",
     "output_type": "stream",
     "text": [
      "\n",
      "Training on chunk 3 finished\n",
      "Epoch [1/2]\n",
      "Train Loss: 0.0029, Accuracy: 92.14%\n",
      "Val Loss: 0.0030, Accuracy: 94.16%\n"
     ]
    },
    {
     "name": "stderr",
     "output_type": "stream",
     "text": [
      "<ipython-input-16-c7c579f16c99>:10: UserWarning: To copy construct from a tensor, it is recommended to use sourceTensor.clone().detach() or sourceTensor.clone().detach().requires_grad_(True), rather than torch.tensor(sourceTensor).\n",
      "  criterion = nn.CrossEntropyLoss(weight=torch.tensor(class_weights, dtype=torch.float).to(config.device))\n"
     ]
    },
    {
     "name": "stdout",
     "output_type": "stream",
     "text": [
      "\n",
      "Training on chunk 0 finished\n"
     ]
    },
    {
     "name": "stderr",
     "output_type": "stream",
     "text": [
      "<ipython-input-16-c7c579f16c99>:10: UserWarning: To copy construct from a tensor, it is recommended to use sourceTensor.clone().detach() or sourceTensor.clone().detach().requires_grad_(True), rather than torch.tensor(sourceTensor).\n",
      "  criterion = nn.CrossEntropyLoss(weight=torch.tensor(class_weights, dtype=torch.float).to(config.device))\n"
     ]
    },
    {
     "name": "stdout",
     "output_type": "stream",
     "text": [
      "\n",
      "Training on chunk 1 finished\n"
     ]
    },
    {
     "name": "stderr",
     "output_type": "stream",
     "text": [
      "<ipython-input-16-c7c579f16c99>:10: UserWarning: To copy construct from a tensor, it is recommended to use sourceTensor.clone().detach() or sourceTensor.clone().detach().requires_grad_(True), rather than torch.tensor(sourceTensor).\n",
      "  criterion = nn.CrossEntropyLoss(weight=torch.tensor(class_weights, dtype=torch.float).to(config.device))\n"
     ]
    },
    {
     "name": "stdout",
     "output_type": "stream",
     "text": [
      "\n",
      "Training on chunk 2 finished\n"
     ]
    },
    {
     "name": "stderr",
     "output_type": "stream",
     "text": [
      "<ipython-input-16-c7c579f16c99>:10: UserWarning: To copy construct from a tensor, it is recommended to use sourceTensor.clone().detach() or sourceTensor.clone().detach().requires_grad_(True), rather than torch.tensor(sourceTensor).\n",
      "  criterion = nn.CrossEntropyLoss(weight=torch.tensor(class_weights, dtype=torch.float).to(config.device))\n"
     ]
    },
    {
     "name": "stdout",
     "output_type": "stream",
     "text": [
      "\n",
      "Training on chunk 3 finished\n",
      "Epoch [2/2]\n",
      "Train Loss: 0.0026, Accuracy: 94.04%\n",
      "Val Loss: 0.0029, Accuracy: 94.33%\n",
      "\n",
      "Evaluation on chunk 0 finished\n",
      "\n",
      "Evaluation on chunk 1 finished\n",
      "Overall Accuracy: 91.94%\n",
      "Overall F1 Score: 0.9166\n",
      "Overall Recall: 0.9194\n",
      "Overall Precision: 0.9171\n",
      "\n",
      "Evaluating model with batch size: 256\n",
      "The number of data points in the testing set is: 149971\n"
     ]
    },
    {
     "name": "stderr",
     "output_type": "stream",
     "text": [
      "<ipython-input-16-c7c579f16c99>:10: UserWarning: To copy construct from a tensor, it is recommended to use sourceTensor.clone().detach() or sourceTensor.clone().detach().requires_grad_(True), rather than torch.tensor(sourceTensor).\n",
      "  criterion = nn.CrossEntropyLoss(weight=torch.tensor(class_weights, dtype=torch.float).to(config.device))\n"
     ]
    },
    {
     "name": "stdout",
     "output_type": "stream",
     "text": [
      "\n",
      "Training on chunk 0 finished\n"
     ]
    },
    {
     "name": "stderr",
     "output_type": "stream",
     "text": [
      "<ipython-input-16-c7c579f16c99>:10: UserWarning: To copy construct from a tensor, it is recommended to use sourceTensor.clone().detach() or sourceTensor.clone().detach().requires_grad_(True), rather than torch.tensor(sourceTensor).\n",
      "  criterion = nn.CrossEntropyLoss(weight=torch.tensor(class_weights, dtype=torch.float).to(config.device))\n"
     ]
    },
    {
     "name": "stdout",
     "output_type": "stream",
     "text": [
      "\n",
      "Training on chunk 1 finished\n"
     ]
    },
    {
     "name": "stderr",
     "output_type": "stream",
     "text": [
      "<ipython-input-16-c7c579f16c99>:10: UserWarning: To copy construct from a tensor, it is recommended to use sourceTensor.clone().detach() or sourceTensor.clone().detach().requires_grad_(True), rather than torch.tensor(sourceTensor).\n",
      "  criterion = nn.CrossEntropyLoss(weight=torch.tensor(class_weights, dtype=torch.float).to(config.device))\n"
     ]
    },
    {
     "name": "stdout",
     "output_type": "stream",
     "text": [
      "\n",
      "Training on chunk 2 finished\n"
     ]
    },
    {
     "name": "stderr",
     "output_type": "stream",
     "text": [
      "<ipython-input-16-c7c579f16c99>:10: UserWarning: To copy construct from a tensor, it is recommended to use sourceTensor.clone().detach() or sourceTensor.clone().detach().requires_grad_(True), rather than torch.tensor(sourceTensor).\n",
      "  criterion = nn.CrossEntropyLoss(weight=torch.tensor(class_weights, dtype=torch.float).to(config.device))\n"
     ]
    },
    {
     "name": "stdout",
     "output_type": "stream",
     "text": [
      "\n",
      "Training on chunk 3 finished\n",
      "Epoch [1/2]\n",
      "Train Loss: 0.0014, Accuracy: 91.27%\n",
      "Val Loss: 0.0023, Accuracy: 92.67%\n"
     ]
    },
    {
     "name": "stderr",
     "output_type": "stream",
     "text": [
      "<ipython-input-16-c7c579f16c99>:10: UserWarning: To copy construct from a tensor, it is recommended to use sourceTensor.clone().detach() or sourceTensor.clone().detach().requires_grad_(True), rather than torch.tensor(sourceTensor).\n",
      "  criterion = nn.CrossEntropyLoss(weight=torch.tensor(class_weights, dtype=torch.float).to(config.device))\n"
     ]
    },
    {
     "name": "stdout",
     "output_type": "stream",
     "text": [
      "\n",
      "Training on chunk 0 finished\n"
     ]
    },
    {
     "name": "stderr",
     "output_type": "stream",
     "text": [
      "<ipython-input-16-c7c579f16c99>:10: UserWarning: To copy construct from a tensor, it is recommended to use sourceTensor.clone().detach() or sourceTensor.clone().detach().requires_grad_(True), rather than torch.tensor(sourceTensor).\n",
      "  criterion = nn.CrossEntropyLoss(weight=torch.tensor(class_weights, dtype=torch.float).to(config.device))\n"
     ]
    },
    {
     "name": "stdout",
     "output_type": "stream",
     "text": [
      "\n",
      "Training on chunk 1 finished\n"
     ]
    },
    {
     "name": "stderr",
     "output_type": "stream",
     "text": [
      "<ipython-input-16-c7c579f16c99>:10: UserWarning: To copy construct from a tensor, it is recommended to use sourceTensor.clone().detach() or sourceTensor.clone().detach().requires_grad_(True), rather than torch.tensor(sourceTensor).\n",
      "  criterion = nn.CrossEntropyLoss(weight=torch.tensor(class_weights, dtype=torch.float).to(config.device))\n"
     ]
    },
    {
     "name": "stdout",
     "output_type": "stream",
     "text": [
      "\n",
      "Training on chunk 2 finished\n"
     ]
    },
    {
     "name": "stderr",
     "output_type": "stream",
     "text": [
      "<ipython-input-16-c7c579f16c99>:10: UserWarning: To copy construct from a tensor, it is recommended to use sourceTensor.clone().detach() or sourceTensor.clone().detach().requires_grad_(True), rather than torch.tensor(sourceTensor).\n",
      "  criterion = nn.CrossEntropyLoss(weight=torch.tensor(class_weights, dtype=torch.float).to(config.device))\n"
     ]
    },
    {
     "name": "stdout",
     "output_type": "stream",
     "text": [
      "\n",
      "Training on chunk 3 finished\n",
      "Epoch [2/2]\n",
      "Train Loss: 0.0013, Accuracy: 94.01%\n",
      "Val Loss: 0.0019, Accuracy: 93.22%\n",
      "\n",
      "Evaluation on chunk 0 finished\n",
      "\n",
      "Evaluation on chunk 1 finished\n",
      "Overall Accuracy: 92.37%\n",
      "Overall F1 Score: 0.9215\n",
      "Overall Recall: 0.9237\n",
      "Overall Precision: 0.9214\n",
      "\n",
      "Final Results:\n",
      "       loss   accuracy        f1    recall  precision  Batch size  \\\n",
      "0  0.039719  91.591196  0.912797  0.915914   0.913441           8   \n",
      "1  0.020039  92.049331  0.917867  0.920495   0.918042          16   \n",
      "2  0.009448  92.157366  0.918906  0.921575   0.919164          32   \n",
      "3  0.004704  92.203381  0.919548  0.922036   0.919561          64   \n",
      "4  0.002342  91.943303  0.916583  0.919435   0.917100         128   \n",
      "5  0.001159  92.370775  0.921464  0.923709   0.921448         256   \n",
      "\n",
      "   Training Time  \n",
      "0     783.715942  \n",
      "1     394.644837  \n",
      "2     203.270399  \n",
      "3     106.313890  \n",
      "4      58.337839  \n",
      "5      32.848469  \n",
      "Evaluation results saved to: /content/drive/My Drive/batch_sizes.csv\n"
     ]
    },
    {
     "data": {
      "image/png": "[encoded data removed]",
      "text/plain": [
       "<Figure size 1200x600 with 1 Axes>"
      ]
     },
     "metadata": {},
     "output_type": "display_data"
    },
    {
     "data": {
      "image/png": "[encoded data removed]",
      "text/plain": [
       "<Figure size 1000x700 with 1 Axes>"
      ]
     },
     "metadata": {},
     "output_type": "display_data"
    }
   ],
   "source": [
    "# Results!\n",
    "grid_search_over_batch_sizes()"
   ]
  },
  {
   "cell_type": "markdown",
   "metadata": {},
   "source": [
    "The plots validate the expected trade-off between training time and testing accuracy. Based on our results, a mini-batch size of 64 emerged as the optimal choice, balancing both efficiency and performance effectively."
   ]
  },
  {
   "cell_type": "markdown",
   "metadata": {},
   "source": [
    "# Final Predictions - BiTran"
   ]
  },
  {
   "cell_type": "markdown",
   "metadata": {},
   "source": [
    "Now that we tried to fine tune our model to the fullest, let's perform our experiment of interest on Limited Order Book Data (7 days train + 3 days test on multiple horizons k={10,20,50,100})"
   ]
  },
  {
   "cell_type": "code",
   "execution_count": null,
   "metadata": {},
   "outputs": [
    {
     "name": "stdout",
     "output_type": "stream",
     "text": [
      "\n",
      "Evaluating model with horizon: 10\n",
      "The number of data points in the testing set is: 2563905\n"
     ]
    },
    {
     "name": "stderr",
     "output_type": "stream",
     "text": [
      "<ipython-input-16-c7c579f16c99>:10: UserWarning: To copy construct from a tensor, it is recommended to use sourceTensor.clone().detach() or sourceTensor.clone().detach().requires_grad_(True), rather than torch.tensor(sourceTensor).\n",
      "  criterion = nn.CrossEntropyLoss(weight=torch.tensor(class_weights, dtype=torch.float).to(config.device))\n"
     ]
    },
    {
     "name": "stdout",
     "output_type": "stream",
     "text": [
      "\n",
      "Training on chunk 0 finished\n"
     ]
    },
    {
     "name": "stderr",
     "output_type": "stream",
     "text": [
      "<ipython-input-16-c7c579f16c99>:10: UserWarning: To copy construct from a tensor, it is recommended to use sourceTensor.clone().detach() or sourceTensor.clone().detach().requires_grad_(True), rather than torch.tensor(sourceTensor).\n",
      "  criterion = nn.CrossEntropyLoss(weight=torch.tensor(class_weights, dtype=torch.float).to(config.device))\n"
     ]
    },
    {
     "name": "stdout",
     "output_type": "stream",
     "text": [
      "\n",
      "Training on chunk 1 finished\n"
     ]
    },
    {
     "name": "stderr",
     "output_type": "stream",
     "text": [
      "<ipython-input-16-c7c579f16c99>:10: UserWarning: To copy construct from a tensor, it is recommended to use sourceTensor.clone().detach() or sourceTensor.clone().detach().requires_grad_(True), rather than torch.tensor(sourceTensor).\n",
      "  criterion = nn.CrossEntropyLoss(weight=torch.tensor(class_weights, dtype=torch.float).to(config.device))\n"
     ]
    },
    {
     "name": "stdout",
     "output_type": "stream",
     "text": [
      "\n",
      "Training on chunk 2 finished\n"
     ]
    },
    {
     "name": "stderr",
     "output_type": "stream",
     "text": [
      "<ipython-input-16-c7c579f16c99>:10: UserWarning: To copy construct from a tensor, it is recommended to use sourceTensor.clone().detach() or sourceTensor.clone().detach().requires_grad_(True), rather than torch.tensor(sourceTensor).\n",
      "  criterion = nn.CrossEntropyLoss(weight=torch.tensor(class_weights, dtype=torch.float).to(config.device))\n"
     ]
    },
    {
     "name": "stdout",
     "output_type": "stream",
     "text": [
      "\n",
      "Training on chunk 3 finished\n"
     ]
    },
    {
     "name": "stderr",
     "output_type": "stream",
     "text": [
      "<ipython-input-16-c7c579f16c99>:10: UserWarning: To copy construct from a tensor, it is recommended to use sourceTensor.clone().detach() or sourceTensor.clone().detach().requires_grad_(True), rather than torch.tensor(sourceTensor).\n",
      "  criterion = nn.CrossEntropyLoss(weight=torch.tensor(class_weights, dtype=torch.float).to(config.device))\n"
     ]
    },
    {
     "name": "stdout",
     "output_type": "stream",
     "text": [
      "\n",
      "Training on chunk 4 finished\n"
     ]
    },
    {
     "name": "stderr",
     "output_type": "stream",
     "text": [
      "<ipython-input-16-c7c579f16c99>:10: UserWarning: To copy construct from a tensor, it is recommended to use sourceTensor.clone().detach() or sourceTensor.clone().detach().requires_grad_(True), rather than torch.tensor(sourceTensor).\n",
      "  criterion = nn.CrossEntropyLoss(weight=torch.tensor(class_weights, dtype=torch.float).to(config.device))\n"
     ]
    },
    {
     "name": "stdout",
     "output_type": "stream",
     "text": [
      "\n",
      "Training on chunk 5 finished\n"
     ]
    },
    {
     "name": "stderr",
     "output_type": "stream",
     "text": [
      "<ipython-input-16-c7c579f16c99>:10: UserWarning: To copy construct from a tensor, it is recommended to use sourceTensor.clone().detach() or sourceTensor.clone().detach().requires_grad_(True), rather than torch.tensor(sourceTensor).\n",
      "  criterion = nn.CrossEntropyLoss(weight=torch.tensor(class_weights, dtype=torch.float).to(config.device))\n"
     ]
    },
    {
     "name": "stdout",
     "output_type": "stream",
     "text": [
      "\n",
      "Training on chunk 6 finished\n"
     ]
    },
    {
     "name": "stderr",
     "output_type": "stream",
     "text": [
      "<ipython-input-16-c7c579f16c99>:10: UserWarning: To copy construct from a tensor, it is recommended to use sourceTensor.clone().detach() or sourceTensor.clone().detach().requires_grad_(True), rather than torch.tensor(sourceTensor).\n",
      "  criterion = nn.CrossEntropyLoss(weight=torch.tensor(class_weights, dtype=torch.float).to(config.device))\n"
     ]
    },
    {
     "name": "stdout",
     "output_type": "stream",
     "text": [
      "\n",
      "Training on chunk 7 finished\n"
     ]
    },
    {
     "name": "stderr",
     "output_type": "stream",
     "text": [
      "<ipython-input-16-c7c579f16c99>:10: UserWarning: To copy construct from a tensor, it is recommended to use sourceTensor.clone().detach() or sourceTensor.clone().detach().requires_grad_(True), rather than torch.tensor(sourceTensor).\n",
      "  criterion = nn.CrossEntropyLoss(weight=torch.tensor(class_weights, dtype=torch.float).to(config.device))\n"
     ]
    },
    {
     "name": "stdout",
     "output_type": "stream",
     "text": [
      "\n",
      "Training on chunk 8 finished\n"
     ]
    },
    {
     "name": "stderr",
     "output_type": "stream",
     "text": [
      "<ipython-input-16-c7c579f16c99>:10: UserWarning: To copy construct from a tensor, it is recommended to use sourceTensor.clone().detach() or sourceTensor.clone().detach().requires_grad_(True), rather than torch.tensor(sourceTensor).\n",
      "  criterion = nn.CrossEntropyLoss(weight=torch.tensor(class_weights, dtype=torch.float).to(config.device))\n"
     ]
    },
    {
     "name": "stdout",
     "output_type": "stream",
     "text": [
      "\n",
      "Training on chunk 9 finished\n"
     ]
    },
    {
     "name": "stderr",
     "output_type": "stream",
     "text": [
      "<ipython-input-16-c7c579f16c99>:10: UserWarning: To copy construct from a tensor, it is recommended to use sourceTensor.clone().detach() or sourceTensor.clone().detach().requires_grad_(True), rather than torch.tensor(sourceTensor).\n",
      "  criterion = nn.CrossEntropyLoss(weight=torch.tensor(class_weights, dtype=torch.float).to(config.device))\n"
     ]
    },
    {
     "name": "stdout",
     "output_type": "stream",
     "text": [
      "\n",
      "Training on chunk 10 finished\n"
     ]
    },
    {
     "name": "stderr",
     "output_type": "stream",
     "text": [
      "<ipython-input-16-c7c579f16c99>:10: UserWarning: To copy construct from a tensor, it is recommended to use sourceTensor.clone().detach() or sourceTensor.clone().detach().requires_grad_(True), rather than torch.tensor(sourceTensor).\n",
      "  criterion = nn.CrossEntropyLoss(weight=torch.tensor(class_weights, dtype=torch.float).to(config.device))\n"
     ]
    },
    {
     "name": "stdout",
     "output_type": "stream",
     "text": [
      "\n",
      "Training on chunk 11 finished\n",
      "Epoch [1/2]\n",
      "Train Loss: 0.0048, Accuracy: 94.10%\n",
      "Val Loss: 0.0047, Accuracy: 95.73%\n"
     ]
    },
    {
     "name": "stderr",
     "output_type": "stream",
     "text": [
      "<ipython-input-16-c7c579f16c99>:10: UserWarning: To copy construct from a tensor, it is recommended to use sourceTensor.clone().detach() or sourceTensor.clone().detach().requires_grad_(True), rather than torch.tensor(sourceTensor).\n",
      "  criterion = nn.CrossEntropyLoss(weight=torch.tensor(class_weights, dtype=torch.float).to(config.device))\n"
     ]
    },
    {
     "name": "stdout",
     "output_type": "stream",
     "text": [
      "\n",
      "Training on chunk 0 finished\n"
     ]
    },
    {
     "name": "stderr",
     "output_type": "stream",
     "text": [
      "<ipython-input-16-c7c579f16c99>:10: UserWarning: To copy construct from a tensor, it is recommended to use sourceTensor.clone().detach() or sourceTensor.clone().detach().requires_grad_(True), rather than torch.tensor(sourceTensor).\n",
      "  criterion = nn.CrossEntropyLoss(weight=torch.tensor(class_weights, dtype=torch.float).to(config.device))\n"
     ]
    },
    {
     "name": "stdout",
     "output_type": "stream",
     "text": [
      "\n",
      "Training on chunk 1 finished\n"
     ]
    },
    {
     "name": "stderr",
     "output_type": "stream",
     "text": [
      "<ipython-input-16-c7c579f16c99>:10: UserWarning: To copy construct from a tensor, it is recommended to use sourceTensor.clone().detach() or sourceTensor.clone().detach().requires_grad_(True), rather than torch.tensor(sourceTensor).\n",
      "  criterion = nn.CrossEntropyLoss(weight=torch.tensor(class_weights, dtype=torch.float).to(config.device))\n"
     ]
    },
    {
     "name": "stdout",
     "output_type": "stream",
     "text": [
      "\n",
      "Training on chunk 2 finished\n"
     ]
    },
    {
     "name": "stderr",
     "output_type": "stream",
     "text": [
      "<ipython-input-16-c7c579f16c99>:10: UserWarning: To copy construct from a tensor, it is recommended to use sourceTensor.clone().detach() or sourceTensor.clone().detach().requires_grad_(True), rather than torch.tensor(sourceTensor).\n",
      "  criterion = nn.CrossEntropyLoss(weight=torch.tensor(class_weights, dtype=torch.float).to(config.device))\n"
     ]
    },
    {
     "name": "stdout",
     "output_type": "stream",
     "text": [
      "\n",
      "Training on chunk 3 finished\n"
     ]
    },
    {
     "name": "stderr",
     "output_type": "stream",
     "text": [
      "<ipython-input-16-c7c579f16c99>:10: UserWarning: To copy construct from a tensor, it is recommended to use sourceTensor.clone().detach() or sourceTensor.clone().detach().requires_grad_(True), rather than torch.tensor(sourceTensor).\n",
      "  criterion = nn.CrossEntropyLoss(weight=torch.tensor(class_weights, dtype=torch.float).to(config.device))\n"
     ]
    },
    {
     "name": "stdout",
     "output_type": "stream",
     "text": [
      "\n",
      "Training on chunk 4 finished\n"
     ]
    },
    {
     "name": "stderr",
     "output_type": "stream",
     "text": [
      "<ipython-input-16-c7c579f16c99>:10: UserWarning: To copy construct from a tensor, it is recommended to use sourceTensor.clone().detach() or sourceTensor.clone().detach().requires_grad_(True), rather than torch.tensor(sourceTensor).\n",
      "  criterion = nn.CrossEntropyLoss(weight=torch.tensor(class_weights, dtype=torch.float).to(config.device))\n"
     ]
    },
    {
     "name": "stdout",
     "output_type": "stream",
     "text": [
      "\n",
      "Training on chunk 5 finished\n"
     ]
    },
    {
     "name": "stderr",
     "output_type": "stream",
     "text": [
      "<ipython-input-16-c7c579f16c99>:10: UserWarning: To copy construct from a tensor, it is recommended to use sourceTensor.clone().detach() or sourceTensor.clone().detach().requires_grad_(True), rather than torch.tensor(sourceTensor).\n",
      "  criterion = nn.CrossEntropyLoss(weight=torch.tensor(class_weights, dtype=torch.float).to(config.device))\n"
     ]
    },
    {
     "name": "stdout",
     "output_type": "stream",
     "text": [
      "\n",
      "Training on chunk 6 finished\n"
     ]
    },
    {
     "name": "stderr",
     "output_type": "stream",
     "text": [
      "<ipython-input-16-c7c579f16c99>:10: UserWarning: To copy construct from a tensor, it is recommended to use sourceTensor.clone().detach() or sourceTensor.clone().detach().requires_grad_(True), rather than torch.tensor(sourceTensor).\n",
      "  criterion = nn.CrossEntropyLoss(weight=torch.tensor(class_weights, dtype=torch.float).to(config.device))\n"
     ]
    },
    {
     "name": "stdout",
     "output_type": "stream",
     "text": [
      "\n",
      "Training on chunk 7 finished\n"
     ]
    },
    {
     "name": "stderr",
     "output_type": "stream",
     "text": [
      "<ipython-input-16-c7c579f16c99>:10: UserWarning: To copy construct from a tensor, it is recommended to use sourceTensor.clone().detach() or sourceTensor.clone().detach().requires_grad_(True), rather than torch.tensor(sourceTensor).\n",
      "  criterion = nn.CrossEntropyLoss(weight=torch.tensor(class_weights, dtype=torch.float).to(config.device))\n"
     ]
    },
    {
     "name": "stdout",
     "output_type": "stream",
     "text": [
      "\n",
      "Training on chunk 8 finished\n"
     ]
    },
    {
     "name": "stderr",
     "output_type": "stream",
     "text": [
      "<ipython-input-16-c7c579f16c99>:10: UserWarning: To copy construct from a tensor, it is recommended to use sourceTensor.clone().detach() or sourceTensor.clone().detach().requires_grad_(True), rather than torch.tensor(sourceTensor).\n",
      "  criterion = nn.CrossEntropyLoss(weight=torch.tensor(class_weights, dtype=torch.float).to(config.device))\n"
     ]
    },
    {
     "name": "stdout",
     "output_type": "stream",
     "text": [
      "\n",
      "Training on chunk 9 finished\n"
     ]
    },
    {
     "name": "stderr",
     "output_type": "stream",
     "text": [
      "<ipython-input-16-c7c579f16c99>:10: UserWarning: To copy construct from a tensor, it is recommended to use sourceTensor.clone().detach() or sourceTensor.clone().detach().requires_grad_(True), rather than torch.tensor(sourceTensor).\n",
      "  criterion = nn.CrossEntropyLoss(weight=torch.tensor(class_weights, dtype=torch.float).to(config.device))\n"
     ]
    },
    {
     "name": "stdout",
     "output_type": "stream",
     "text": [
      "\n",
      "Training on chunk 10 finished\n"
     ]
    },
    {
     "name": "stderr",
     "output_type": "stream",
     "text": [
      "<ipython-input-16-c7c579f16c99>:10: UserWarning: To copy construct from a tensor, it is recommended to use sourceTensor.clone().detach() or sourceTensor.clone().detach().requires_grad_(True), rather than torch.tensor(sourceTensor).\n",
      "  criterion = nn.CrossEntropyLoss(weight=torch.tensor(class_weights, dtype=torch.float).to(config.device))\n"
     ]
    },
    {
     "name": "stdout",
     "output_type": "stream",
     "text": [
      "\n",
      "Training on chunk 11 finished\n",
      "Epoch [2/2]\n",
      "Train Loss: 0.0047, Accuracy: 94.39%\n",
      "Val Loss: 0.0051, Accuracy: 94.26%\n",
      "Model trained for horizon 10 saved to: /content/drive/My Drive/BiTran_10.pt\n",
      "\n",
      "Evaluation on chunk 0 finished\n",
      "\n",
      "Evaluation on chunk 1 finished\n",
      "\n",
      "Evaluation on chunk 2 finished\n",
      "\n",
      "Evaluation on chunk 3 finished\n",
      "\n",
      "Evaluation on chunk 4 finished\n",
      "\n",
      "Evaluation on chunk 5 finished\n",
      "Overall Accuracy: 94.86%\n",
      "Overall F1 Score: 0.9490\n",
      "Overall Recall: 0.9486\n",
      "Overall Precision: 0.9496\n",
      "\n",
      "Evaluating model with horizon: 20\n",
      "The number of data points in the testing set is: 2563905\n"
     ]
    },
    {
     "name": "stderr",
     "output_type": "stream",
     "text": [
      "<ipython-input-16-c7c579f16c99>:10: UserWarning: To copy construct from a tensor, it is recommended to use sourceTensor.clone().detach() or sourceTensor.clone().detach().requires_grad_(True), rather than torch.tensor(sourceTensor).\n",
      "  criterion = nn.CrossEntropyLoss(weight=torch.tensor(class_weights, dtype=torch.float).to(config.device))\n"
     ]
    },
    {
     "name": "stdout",
     "output_type": "stream",
     "text": [
      "\n",
      "Training on chunk 0 finished\n"
     ]
    },
    {
     "name": "stderr",
     "output_type": "stream",
     "text": [
      "<ipython-input-16-c7c579f16c99>:10: UserWarning: To copy construct from a tensor, it is recommended to use sourceTensor.clone().detach() or sourceTensor.clone().detach().requires_grad_(True), rather than torch.tensor(sourceTensor).\n",
      "  criterion = nn.CrossEntropyLoss(weight=torch.tensor(class_weights, dtype=torch.float).to(config.device))\n"
     ]
    },
    {
     "name": "stdout",
     "output_type": "stream",
     "text": [
      "\n",
      "Training on chunk 1 finished\n"
     ]
    },
    {
     "name": "stderr",
     "output_type": "stream",
     "text": [
      "<ipython-input-16-c7c579f16c99>:10: UserWarning: To copy construct from a tensor, it is recommended to use sourceTensor.clone().detach() or sourceTensor.clone().detach().requires_grad_(True), rather than torch.tensor(sourceTensor).\n",
      "  criterion = nn.CrossEntropyLoss(weight=torch.tensor(class_weights, dtype=torch.float).to(config.device))\n"
     ]
    },
    {
     "name": "stdout",
     "output_type": "stream",
     "text": [
      "\n",
      "Training on chunk 2 finished\n"
     ]
    },
    {
     "name": "stderr",
     "output_type": "stream",
     "text": [
      "<ipython-input-16-c7c579f16c99>:10: UserWarning: To copy construct from a tensor, it is recommended to use sourceTensor.clone().detach() or sourceTensor.clone().detach().requires_grad_(True), rather than torch.tensor(sourceTensor).\n",
      "  criterion = nn.CrossEntropyLoss(weight=torch.tensor(class_weights, dtype=torch.float).to(config.device))\n"
     ]
    },
    {
     "name": "stdout",
     "output_type": "stream",
     "text": [
      "\n",
      "Training on chunk 3 finished\n"
     ]
    },
    {
     "name": "stderr",
     "output_type": "stream",
     "text": [
      "<ipython-input-16-c7c579f16c99>:10: UserWarning: To copy construct from a tensor, it is recommended to use sourceTensor.clone().detach() or sourceTensor.clone().detach().requires_grad_(True), rather than torch.tensor(sourceTensor).\n",
      "  criterion = nn.CrossEntropyLoss(weight=torch.tensor(class_weights, dtype=torch.float).to(config.device))\n"
     ]
    },
    {
     "name": "stdout",
     "output_type": "stream",
     "text": [
      "\n",
      "Training on chunk 4 finished\n"
     ]
    },
    {
     "name": "stderr",
     "output_type": "stream",
     "text": [
      "<ipython-input-16-c7c579f16c99>:10: UserWarning: To copy construct from a tensor, it is recommended to use sourceTensor.clone().detach() or sourceTensor.clone().detach().requires_grad_(True), rather than torch.tensor(sourceTensor).\n",
      "  criterion = nn.CrossEntropyLoss(weight=torch.tensor(class_weights, dtype=torch.float).to(config.device))\n"
     ]
    },
    {
     "name": "stdout",
     "output_type": "stream",
     "text": [
      "\n",
      "Training on chunk 5 finished\n"
     ]
    },
    {
     "name": "stderr",
     "output_type": "stream",
     "text": [
      "<ipython-input-16-c7c579f16c99>:10: UserWarning: To copy construct from a tensor, it is recommended to use sourceTensor.clone().detach() or sourceTensor.clone().detach().requires_grad_(True), rather than torch.tensor(sourceTensor).\n",
      "  criterion = nn.CrossEntropyLoss(weight=torch.tensor(class_weights, dtype=torch.float).to(config.device))\n"
     ]
    },
    {
     "name": "stdout",
     "output_type": "stream",
     "text": [
      "\n",
      "Training on chunk 6 finished\n"
     ]
    },
    {
     "name": "stderr",
     "output_type": "stream",
     "text": [
      "<ipython-input-16-c7c579f16c99>:10: UserWarning: To copy construct from a tensor, it is recommended to use sourceTensor.clone().detach() or sourceTensor.clone().detach().requires_grad_(True), rather than torch.tensor(sourceTensor).\n",
      "  criterion = nn.CrossEntropyLoss(weight=torch.tensor(class_weights, dtype=torch.float).to(config.device))\n"
     ]
    },
    {
     "name": "stdout",
     "output_type": "stream",
     "text": [
      "\n",
      "Training on chunk 7 finished\n"
     ]
    },
    {
     "name": "stderr",
     "output_type": "stream",
     "text": [
      "<ipython-input-16-c7c579f16c99>:10: UserWarning: To copy construct from a tensor, it is recommended to use sourceTensor.clone().detach() or sourceTensor.clone().detach().requires_grad_(True), rather than torch.tensor(sourceTensor).\n",
      "  criterion = nn.CrossEntropyLoss(weight=torch.tensor(class_weights, dtype=torch.float).to(config.device))\n"
     ]
    },
    {
     "name": "stdout",
     "output_type": "stream",
     "text": [
      "\n",
      "Training on chunk 8 finished\n"
     ]
    },
    {
     "name": "stderr",
     "output_type": "stream",
     "text": [
      "<ipython-input-16-c7c579f16c99>:10: UserWarning: To copy construct from a tensor, it is recommended to use sourceTensor.clone().detach() or sourceTensor.clone().detach().requires_grad_(True), rather than torch.tensor(sourceTensor).\n",
      "  criterion = nn.CrossEntropyLoss(weight=torch.tensor(class_weights, dtype=torch.float).to(config.device))\n"
     ]
    },
    {
     "name": "stdout",
     "output_type": "stream",
     "text": [
      "\n",
      "Training on chunk 9 finished\n"
     ]
    },
    {
     "name": "stderr",
     "output_type": "stream",
     "text": [
      "<ipython-input-16-c7c579f16c99>:10: UserWarning: To copy construct from a tensor, it is recommended to use sourceTensor.clone().detach() or sourceTensor.clone().detach().requires_grad_(True), rather than torch.tensor(sourceTensor).\n",
      "  criterion = nn.CrossEntropyLoss(weight=torch.tensor(class_weights, dtype=torch.float).to(config.device))\n"
     ]
    },
    {
     "name": "stdout",
     "output_type": "stream",
     "text": [
      "\n",
      "Training on chunk 10 finished\n"
     ]
    },
    {
     "name": "stderr",
     "output_type": "stream",
     "text": [
      "<ipython-input-16-c7c579f16c99>:10: UserWarning: To copy construct from a tensor, it is recommended to use sourceTensor.clone().detach() or sourceTensor.clone().detach().requires_grad_(True), rather than torch.tensor(sourceTensor).\n",
      "  criterion = nn.CrossEntropyLoss(weight=torch.tensor(class_weights, dtype=torch.float).to(config.device))\n"
     ]
    },
    {
     "name": "stdout",
     "output_type": "stream",
     "text": [
      "\n",
      "Training on chunk 11 finished\n",
      "Epoch [1/2]\n",
      "Train Loss: 0.0038, Accuracy: 94.32%\n",
      "Val Loss: 0.0035, Accuracy: 94.69%\n"
     ]
    },
    {
     "name": "stderr",
     "output_type": "stream",
     "text": [
      "<ipython-input-16-c7c579f16c99>:10: UserWarning: To copy construct from a tensor, it is recommended to use sourceTensor.clone().detach() or sourceTensor.clone().detach().requires_grad_(True), rather than torch.tensor(sourceTensor).\n",
      "  criterion = nn.CrossEntropyLoss(weight=torch.tensor(class_weights, dtype=torch.float).to(config.device))\n"
     ]
    },
    {
     "name": "stdout",
     "output_type": "stream",
     "text": [
      "\n",
      "Training on chunk 0 finished\n"
     ]
    },
    {
     "name": "stderr",
     "output_type": "stream",
     "text": [
      "<ipython-input-16-c7c579f16c99>:10: UserWarning: To copy construct from a tensor, it is recommended to use sourceTensor.clone().detach() or sourceTensor.clone().detach().requires_grad_(True), rather than torch.tensor(sourceTensor).\n",
      "  criterion = nn.CrossEntropyLoss(weight=torch.tensor(class_weights, dtype=torch.float).to(config.device))\n"
     ]
    },
    {
     "name": "stdout",
     "output_type": "stream",
     "text": [
      "\n",
      "Training on chunk 1 finished\n"
     ]
    },
    {
     "name": "stderr",
     "output_type": "stream",
     "text": [
      "<ipython-input-16-c7c579f16c99>:10: UserWarning: To copy construct from a tensor, it is recommended to use sourceTensor.clone().detach() or sourceTensor.clone().detach().requires_grad_(True), rather than torch.tensor(sourceTensor).\n",
      "  criterion = nn.CrossEntropyLoss(weight=torch.tensor(class_weights, dtype=torch.float).to(config.device))\n"
     ]
    },
    {
     "name": "stdout",
     "output_type": "stream",
     "text": [
      "\n",
      "Training on chunk 2 finished\n"
     ]
    },
    {
     "name": "stderr",
     "output_type": "stream",
     "text": [
      "<ipython-input-16-c7c579f16c99>:10: UserWarning: To copy construct from a tensor, it is recommended to use sourceTensor.clone().detach() or sourceTensor.clone().detach().requires_grad_(True), rather than torch.tensor(sourceTensor).\n",
      "  criterion = nn.CrossEntropyLoss(weight=torch.tensor(class_weights, dtype=torch.float).to(config.device))\n"
     ]
    },
    {
     "name": "stdout",
     "output_type": "stream",
     "text": [
      "\n",
      "Training on chunk 3 finished\n"
     ]
    },
    {
     "name": "stderr",
     "output_type": "stream",
     "text": [
      "<ipython-input-16-c7c579f16c99>:10: UserWarning: To copy construct from a tensor, it is recommended to use sourceTensor.clone().detach() or sourceTensor.clone().detach().requires_grad_(True), rather than torch.tensor(sourceTensor).\n",
      "  criterion = nn.CrossEntropyLoss(weight=torch.tensor(class_weights, dtype=torch.float).to(config.device))\n"
     ]
    },
    {
     "name": "stdout",
     "output_type": "stream",
     "text": [
      "\n",
      "Training on chunk 4 finished\n"
     ]
    },
    {
     "name": "stderr",
     "output_type": "stream",
     "text": [
      "<ipython-input-16-c7c579f16c99>:10: UserWarning: To copy construct from a tensor, it is recommended to use sourceTensor.clone().detach() or sourceTensor.clone().detach().requires_grad_(True), rather than torch.tensor(sourceTensor).\n",
      "  criterion = nn.CrossEntropyLoss(weight=torch.tensor(class_weights, dtype=torch.float).to(config.device))\n"
     ]
    },
    {
     "name": "stdout",
     "output_type": "stream",
     "text": [
      "\n",
      "Training on chunk 5 finished\n"
     ]
    },
    {
     "name": "stderr",
     "output_type": "stream",
     "text": [
      "<ipython-input-16-c7c579f16c99>:10: UserWarning: To copy construct from a tensor, it is recommended to use sourceTensor.clone().detach() or sourceTensor.clone().detach().requires_grad_(True), rather than torch.tensor(sourceTensor).\n",
      "  criterion = nn.CrossEntropyLoss(weight=torch.tensor(class_weights, dtype=torch.float).to(config.device))\n"
     ]
    },
    {
     "name": "stdout",
     "output_type": "stream",
     "text": [
      "\n",
      "Training on chunk 6 finished\n"
     ]
    },
    {
     "name": "stderr",
     "output_type": "stream",
     "text": [
      "<ipython-input-16-c7c579f16c99>:10: UserWarning: To copy construct from a tensor, it is recommended to use sourceTensor.clone().detach() or sourceTensor.clone().detach().requires_grad_(True), rather than torch.tensor(sourceTensor).\n",
      "  criterion = nn.CrossEntropyLoss(weight=torch.tensor(class_weights, dtype=torch.float).to(config.device))\n"
     ]
    },
    {
     "name": "stdout",
     "output_type": "stream",
     "text": [
      "\n",
      "Training on chunk 7 finished\n"
     ]
    },
    {
     "name": "stderr",
     "output_type": "stream",
     "text": [
      "<ipython-input-16-c7c579f16c99>:10: UserWarning: To copy construct from a tensor, it is recommended to use sourceTensor.clone().detach() or sourceTensor.clone().detach().requires_grad_(True), rather than torch.tensor(sourceTensor).\n",
      "  criterion = nn.CrossEntropyLoss(weight=torch.tensor(class_weights, dtype=torch.float).to(config.device))\n"
     ]
    },
    {
     "name": "stdout",
     "output_type": "stream",
     "text": [
      "\n",
      "Training on chunk 8 finished\n"
     ]
    },
    {
     "name": "stderr",
     "output_type": "stream",
     "text": [
      "<ipython-input-16-c7c579f16c99>:10: UserWarning: To copy construct from a tensor, it is recommended to use sourceTensor.clone().detach() or sourceTensor.clone().detach().requires_grad_(True), rather than torch.tensor(sourceTensor).\n",
      "  criterion = nn.CrossEntropyLoss(weight=torch.tensor(class_weights, dtype=torch.float).to(config.device))\n"
     ]
    },
    {
     "name": "stdout",
     "output_type": "stream",
     "text": [
      "\n",
      "Training on chunk 9 finished\n"
     ]
    },
    {
     "name": "stderr",
     "output_type": "stream",
     "text": [
      "<ipython-input-16-c7c579f16c99>:10: UserWarning: To copy construct from a tensor, it is recommended to use sourceTensor.clone().detach() or sourceTensor.clone().detach().requires_grad_(True), rather than torch.tensor(sourceTensor).\n",
      "  criterion = nn.CrossEntropyLoss(weight=torch.tensor(class_weights, dtype=torch.float).to(config.device))\n"
     ]
    },
    {
     "name": "stdout",
     "output_type": "stream",
     "text": [
      "\n",
      "Training on chunk 10 finished\n"
     ]
    },
    {
     "name": "stderr",
     "output_type": "stream",
     "text": [
      "<ipython-input-16-c7c579f16c99>:10: UserWarning: To copy construct from a tensor, it is recommended to use sourceTensor.clone().detach() or sourceTensor.clone().detach().requires_grad_(True), rather than torch.tensor(sourceTensor).\n",
      "  criterion = nn.CrossEntropyLoss(weight=torch.tensor(class_weights, dtype=torch.float).to(config.device))\n"
     ]
    },
    {
     "name": "stdout",
     "output_type": "stream",
     "text": [
      "\n",
      "Training on chunk 11 finished\n",
      "Epoch [2/2]\n",
      "Train Loss: 0.0032, Accuracy: 95.56%\n",
      "Val Loss: 0.0032, Accuracy: 95.23%\n",
      "Model trained for horizon 20 saved to: /content/drive/My Drive/BiTran_20.pt\n",
      "\n",
      "Evaluation on chunk 0 finished\n",
      "\n",
      "Evaluation on chunk 1 finished\n",
      "\n",
      "Evaluation on chunk 2 finished\n",
      "\n",
      "Evaluation on chunk 3 finished\n",
      "\n",
      "Evaluation on chunk 4 finished\n",
      "\n",
      "Evaluation on chunk 5 finished\n",
      "Overall Accuracy: 93.52%\n",
      "Overall F1 Score: 0.9343\n",
      "Overall Recall: 0.9352\n",
      "Overall Precision: 0.9348\n",
      "\n",
      "Evaluating model with horizon: 50\n",
      "The number of data points in the testing set is: 2563905\n"
     ]
    },
    {
     "name": "stderr",
     "output_type": "stream",
     "text": [
      "<ipython-input-16-c7c579f16c99>:10: UserWarning: To copy construct from a tensor, it is recommended to use sourceTensor.clone().detach() or sourceTensor.clone().detach().requires_grad_(True), rather than torch.tensor(sourceTensor).\n",
      "  criterion = nn.CrossEntropyLoss(weight=torch.tensor(class_weights, dtype=torch.float).to(config.device))\n"
     ]
    },
    {
     "name": "stdout",
     "output_type": "stream",
     "text": [
      "\n",
      "Training on chunk 0 finished\n"
     ]
    },
    {
     "name": "stderr",
     "output_type": "stream",
     "text": [
      "<ipython-input-16-c7c579f16c99>:10: UserWarning: To copy construct from a tensor, it is recommended to use sourceTensor.clone().detach() or sourceTensor.clone().detach().requires_grad_(True), rather than torch.tensor(sourceTensor).\n",
      "  criterion = nn.CrossEntropyLoss(weight=torch.tensor(class_weights, dtype=torch.float).to(config.device))\n"
     ]
    },
    {
     "name": "stdout",
     "output_type": "stream",
     "text": [
      "\n",
      "Training on chunk 1 finished\n"
     ]
    },
    {
     "name": "stderr",
     "output_type": "stream",
     "text": [
      "<ipython-input-16-c7c579f16c99>:10: UserWarning: To copy construct from a tensor, it is recommended to use sourceTensor.clone().detach() or sourceTensor.clone().detach().requires_grad_(True), rather than torch.tensor(sourceTensor).\n",
      "  criterion = nn.CrossEntropyLoss(weight=torch.tensor(class_weights, dtype=torch.float).to(config.device))\n"
     ]
    },
    {
     "name": "stdout",
     "output_type": "stream",
     "text": [
      "\n",
      "Training on chunk 2 finished\n"
     ]
    },
    {
     "name": "stderr",
     "output_type": "stream",
     "text": [
      "<ipython-input-16-c7c579f16c99>:10: UserWarning: To copy construct from a tensor, it is recommended to use sourceTensor.clone().detach() or sourceTensor.clone().detach().requires_grad_(True), rather than torch.tensor(sourceTensor).\n",
      "  criterion = nn.CrossEntropyLoss(weight=torch.tensor(class_weights, dtype=torch.float).to(config.device))\n"
     ]
    },
    {
     "name": "stdout",
     "output_type": "stream",
     "text": [
      "\n",
      "Training on chunk 3 finished\n"
     ]
    },
    {
     "name": "stderr",
     "output_type": "stream",
     "text": [
      "<ipython-input-16-c7c579f16c99>:10: UserWarning: To copy construct from a tensor, it is recommended to use sourceTensor.clone().detach() or sourceTensor.clone().detach().requires_grad_(True), rather than torch.tensor(sourceTensor).\n",
      "  criterion = nn.CrossEntropyLoss(weight=torch.tensor(class_weights, dtype=torch.float).to(config.device))\n"
     ]
    },
    {
     "name": "stdout",
     "output_type": "stream",
     "text": [
      "\n",
      "Training on chunk 4 finished\n"
     ]
    },
    {
     "name": "stderr",
     "output_type": "stream",
     "text": [
      "<ipython-input-16-c7c579f16c99>:10: UserWarning: To copy construct from a tensor, it is recommended to use sourceTensor.clone().detach() or sourceTensor.clone().detach().requires_grad_(True), rather than torch.tensor(sourceTensor).\n",
      "  criterion = nn.CrossEntropyLoss(weight=torch.tensor(class_weights, dtype=torch.float).to(config.device))\n"
     ]
    },
    {
     "name": "stdout",
     "output_type": "stream",
     "text": [
      "\n",
      "Training on chunk 5 finished\n"
     ]
    },
    {
     "name": "stderr",
     "output_type": "stream",
     "text": [
      "<ipython-input-16-c7c579f16c99>:10: UserWarning: To copy construct from a tensor, it is recommended to use sourceTensor.clone().detach() or sourceTensor.clone().detach().requires_grad_(True), rather than torch.tensor(sourceTensor).\n",
      "  criterion = nn.CrossEntropyLoss(weight=torch.tensor(class_weights, dtype=torch.float).to(config.device))\n"
     ]
    },
    {
     "name": "stdout",
     "output_type": "stream",
     "text": [
      "\n",
      "Training on chunk 6 finished\n"
     ]
    },
    {
     "name": "stderr",
     "output_type": "stream",
     "text": [
      "<ipython-input-16-c7c579f16c99>:10: UserWarning: To copy construct from a tensor, it is recommended to use sourceTensor.clone().detach() or sourceTensor.clone().detach().requires_grad_(True), rather than torch.tensor(sourceTensor).\n",
      "  criterion = nn.CrossEntropyLoss(weight=torch.tensor(class_weights, dtype=torch.float).to(config.device))\n"
     ]
    },
    {
     "name": "stdout",
     "output_type": "stream",
     "text": [
      "\n",
      "Training on chunk 7 finished\n"
     ]
    },
    {
     "name": "stderr",
     "output_type": "stream",
     "text": [
      "<ipython-input-16-c7c579f16c99>:10: UserWarning: To copy construct from a tensor, it is recommended to use sourceTensor.clone().detach() or sourceTensor.clone().detach().requires_grad_(True), rather than torch.tensor(sourceTensor).\n",
      "  criterion = nn.CrossEntropyLoss(weight=torch.tensor(class_weights, dtype=torch.float).to(config.device))\n"
     ]
    },
    {
     "name": "stdout",
     "output_type": "stream",
     "text": [
      "\n",
      "Training on chunk 8 finished\n"
     ]
    },
    {
     "name": "stderr",
     "output_type": "stream",
     "text": [
      "<ipython-input-16-c7c579f16c99>:10: UserWarning: To copy construct from a tensor, it is recommended to use sourceTensor.clone().detach() or sourceTensor.clone().detach().requires_grad_(True), rather than torch.tensor(sourceTensor).\n",
      "  criterion = nn.CrossEntropyLoss(weight=torch.tensor(class_weights, dtype=torch.float).to(config.device))\n"
     ]
    },
    {
     "name": "stdout",
     "output_type": "stream",
     "text": [
      "\n",
      "Training on chunk 9 finished\n"
     ]
    },
    {
     "name": "stderr",
     "output_type": "stream",
     "text": [
      "<ipython-input-16-c7c579f16c99>:10: UserWarning: To copy construct from a tensor, it is recommended to use sourceTensor.clone().detach() or sourceTensor.clone().detach().requires_grad_(True), rather than torch.tensor(sourceTensor).\n",
      "  criterion = nn.CrossEntropyLoss(weight=torch.tensor(class_weights, dtype=torch.float).to(config.device))\n"
     ]
    },
    {
     "name": "stdout",
     "output_type": "stream",
     "text": [
      "\n",
      "Training on chunk 10 finished\n"
     ]
    },
    {
     "name": "stderr",
     "output_type": "stream",
     "text": [
      "<ipython-input-16-c7c579f16c99>:10: UserWarning: To copy construct from a tensor, it is recommended to use sourceTensor.clone().detach() or sourceTensor.clone().detach().requires_grad_(True), rather than torch.tensor(sourceTensor).\n",
      "  criterion = nn.CrossEntropyLoss(weight=torch.tensor(class_weights, dtype=torch.float).to(config.device))\n"
     ]
    },
    {
     "name": "stdout",
     "output_type": "stream",
     "text": [
      "\n",
      "Training on chunk 11 finished\n",
      "Epoch [1/2]\n",
      "Train Loss: 0.0030, Accuracy: 94.16%\n",
      "Val Loss: 0.0048, Accuracy: 90.52%\n"
     ]
    },
    {
     "name": "stderr",
     "output_type": "stream",
     "text": [
      "<ipython-input-16-c7c579f16c99>:10: UserWarning: To copy construct from a tensor, it is recommended to use sourceTensor.clone().detach() or sourceTensor.clone().detach().requires_grad_(True), rather than torch.tensor(sourceTensor).\n",
      "  criterion = nn.CrossEntropyLoss(weight=torch.tensor(class_weights, dtype=torch.float).to(config.device))\n"
     ]
    },
    {
     "name": "stdout",
     "output_type": "stream",
     "text": [
      "\n",
      "Training on chunk 0 finished\n"
     ]
    },
    {
     "name": "stderr",
     "output_type": "stream",
     "text": [
      "<ipython-input-16-c7c579f16c99>:10: UserWarning: To copy construct from a tensor, it is recommended to use sourceTensor.clone().detach() or sourceTensor.clone().detach().requires_grad_(True), rather than torch.tensor(sourceTensor).\n",
      "  criterion = nn.CrossEntropyLoss(weight=torch.tensor(class_weights, dtype=torch.float).to(config.device))\n"
     ]
    },
    {
     "name": "stdout",
     "output_type": "stream",
     "text": [
      "\n",
      "Training on chunk 1 finished\n"
     ]
    },
    {
     "name": "stderr",
     "output_type": "stream",
     "text": [
      "<ipython-input-16-c7c579f16c99>:10: UserWarning: To copy construct from a tensor, it is recommended to use sourceTensor.clone().detach() or sourceTensor.clone().detach().requires_grad_(True), rather than torch.tensor(sourceTensor).\n",
      "  criterion = nn.CrossEntropyLoss(weight=torch.tensor(class_weights, dtype=torch.float).to(config.device))\n"
     ]
    },
    {
     "name": "stdout",
     "output_type": "stream",
     "text": [
      "\n",
      "Training on chunk 2 finished\n"
     ]
    },
    {
     "name": "stderr",
     "output_type": "stream",
     "text": [
      "<ipython-input-16-c7c579f16c99>:10: UserWarning: To copy construct from a tensor, it is recommended to use sourceTensor.clone().detach() or sourceTensor.clone().detach().requires_grad_(True), rather than torch.tensor(sourceTensor).\n",
      "  criterion = nn.CrossEntropyLoss(weight=torch.tensor(class_weights, dtype=torch.float).to(config.device))\n"
     ]
    },
    {
     "name": "stdout",
     "output_type": "stream",
     "text": [
      "\n",
      "Training on chunk 3 finished\n"
     ]
    },
    {
     "name": "stderr",
     "output_type": "stream",
     "text": [
      "<ipython-input-16-c7c579f16c99>:10: UserWarning: To copy construct from a tensor, it is recommended to use sourceTensor.clone().detach() or sourceTensor.clone().detach().requires_grad_(True), rather than torch.tensor(sourceTensor).\n",
      "  criterion = nn.CrossEntropyLoss(weight=torch.tensor(class_weights, dtype=torch.float).to(config.device))\n"
     ]
    },
    {
     "name": "stdout",
     "output_type": "stream",
     "text": [
      "\n",
      "Training on chunk 4 finished\n"
     ]
    },
    {
     "name": "stderr",
     "output_type": "stream",
     "text": [
      "<ipython-input-16-c7c579f16c99>:10: UserWarning: To copy construct from a tensor, it is recommended to use sourceTensor.clone().detach() or sourceTensor.clone().detach().requires_grad_(True), rather than torch.tensor(sourceTensor).\n",
      "  criterion = nn.CrossEntropyLoss(weight=torch.tensor(class_weights, dtype=torch.float).to(config.device))\n"
     ]
    },
    {
     "name": "stdout",
     "output_type": "stream",
     "text": [
      "\n",
      "Training on chunk 5 finished\n"
     ]
    },
    {
     "name": "stderr",
     "output_type": "stream",
     "text": [
      "<ipython-input-16-c7c579f16c99>:10: UserWarning: To copy construct from a tensor, it is recommended to use sourceTensor.clone().detach() or sourceTensor.clone().detach().requires_grad_(True), rather than torch.tensor(sourceTensor).\n",
      "  criterion = nn.CrossEntropyLoss(weight=torch.tensor(class_weights, dtype=torch.float).to(config.device))\n"
     ]
    },
    {
     "name": "stdout",
     "output_type": "stream",
     "text": [
      "\n",
      "Training on chunk 6 finished\n"
     ]
    },
    {
     "name": "stderr",
     "output_type": "stream",
     "text": [
      "<ipython-input-16-c7c579f16c99>:10: UserWarning: To copy construct from a tensor, it is recommended to use sourceTensor.clone().detach() or sourceTensor.clone().detach().requires_grad_(True), rather than torch.tensor(sourceTensor).\n",
      "  criterion = nn.CrossEntropyLoss(weight=torch.tensor(class_weights, dtype=torch.float).to(config.device))\n"
     ]
    },
    {
     "name": "stdout",
     "output_type": "stream",
     "text": [
      "\n",
      "Training on chunk 7 finished\n"
     ]
    },
    {
     "name": "stderr",
     "output_type": "stream",
     "text": [
      "<ipython-input-16-c7c579f16c99>:10: UserWarning: To copy construct from a tensor, it is recommended to use sourceTensor.clone().detach() or sourceTensor.clone().detach().requires_grad_(True), rather than torch.tensor(sourceTensor).\n",
      "  criterion = nn.CrossEntropyLoss(weight=torch.tensor(class_weights, dtype=torch.float).to(config.device))\n"
     ]
    },
    {
     "name": "stdout",
     "output_type": "stream",
     "text": [
      "\n",
      "Training on chunk 8 finished\n"
     ]
    },
    {
     "name": "stderr",
     "output_type": "stream",
     "text": [
      "<ipython-input-16-c7c579f16c99>:10: UserWarning: To copy construct from a tensor, it is recommended to use sourceTensor.clone().detach() or sourceTensor.clone().detach().requires_grad_(True), rather than torch.tensor(sourceTensor).\n",
      "  criterion = nn.CrossEntropyLoss(weight=torch.tensor(class_weights, dtype=torch.float).to(config.device))\n"
     ]
    },
    {
     "name": "stdout",
     "output_type": "stream",
     "text": [
      "\n",
      "Training on chunk 9 finished\n"
     ]
    },
    {
     "name": "stderr",
     "output_type": "stream",
     "text": [
      "<ipython-input-16-c7c579f16c99>:10: UserWarning: To copy construct from a tensor, it is recommended to use sourceTensor.clone().detach() or sourceTensor.clone().detach().requires_grad_(True), rather than torch.tensor(sourceTensor).\n",
      "  criterion = nn.CrossEntropyLoss(weight=torch.tensor(class_weights, dtype=torch.float).to(config.device))\n"
     ]
    },
    {
     "name": "stdout",
     "output_type": "stream",
     "text": [
      "\n",
      "Training on chunk 10 finished\n"
     ]
    },
    {
     "name": "stderr",
     "output_type": "stream",
     "text": [
      "<ipython-input-16-c7c579f16c99>:10: UserWarning: To copy construct from a tensor, it is recommended to use sourceTensor.clone().detach() or sourceTensor.clone().detach().requires_grad_(True), rather than torch.tensor(sourceTensor).\n",
      "  criterion = nn.CrossEntropyLoss(weight=torch.tensor(class_weights, dtype=torch.float).to(config.device))\n"
     ]
    },
    {
     "name": "stdout",
     "output_type": "stream",
     "text": [
      "\n",
      "Training on chunk 11 finished\n",
      "Epoch [2/2]\n",
      "Train Loss: 0.0021, Accuracy: 96.13%\n",
      "Val Loss: 0.0048, Accuracy: 89.75%\n",
      "Model trained for horizon 50 saved to: /content/drive/My Drive/BiTran_50.pt\n",
      "\n",
      "Evaluation on chunk 0 finished\n",
      "\n",
      "Evaluation on chunk 1 finished\n",
      "\n",
      "Evaluation on chunk 2 finished\n",
      "\n",
      "Evaluation on chunk 3 finished\n",
      "\n",
      "Evaluation on chunk 4 finished\n",
      "\n",
      "Evaluation on chunk 5 finished\n",
      "Overall Accuracy: 88.89%\n",
      "Overall F1 Score: 0.8863\n",
      "Overall Recall: 0.8889\n",
      "Overall Precision: 0.8906\n",
      "\n",
      "Evaluating model with horizon: 100\n",
      "The number of data points in the testing set is: 2563905\n"
     ]
    },
    {
     "name": "stderr",
     "output_type": "stream",
     "text": [
      "<ipython-input-16-c7c579f16c99>:10: UserWarning: To copy construct from a tensor, it is recommended to use sourceTensor.clone().detach() or sourceTensor.clone().detach().requires_grad_(True), rather than torch.tensor(sourceTensor).\n",
      "  criterion = nn.CrossEntropyLoss(weight=torch.tensor(class_weights, dtype=torch.float).to(config.device))\n"
     ]
    },
    {
     "name": "stdout",
     "output_type": "stream",
     "text": [
      "\n",
      "Training on chunk 0 finished\n"
     ]
    },
    {
     "name": "stderr",
     "output_type": "stream",
     "text": [
      "<ipython-input-16-c7c579f16c99>:10: UserWarning: To copy construct from a tensor, it is recommended to use sourceTensor.clone().detach() or sourceTensor.clone().detach().requires_grad_(True), rather than torch.tensor(sourceTensor).\n",
      "  criterion = nn.CrossEntropyLoss(weight=torch.tensor(class_weights, dtype=torch.float).to(config.device))\n"
     ]
    },
    {
     "name": "stdout",
     "output_type": "stream",
     "text": [
      "\n",
      "Training on chunk 1 finished\n"
     ]
    },
    {
     "name": "stderr",
     "output_type": "stream",
     "text": [
      "<ipython-input-16-c7c579f16c99>:10: UserWarning: To copy construct from a tensor, it is recommended to use sourceTensor.clone().detach() or sourceTensor.clone().detach().requires_grad_(True), rather than torch.tensor(sourceTensor).\n",
      "  criterion = nn.CrossEntropyLoss(weight=torch.tensor(class_weights, dtype=torch.float).to(config.device))\n"
     ]
    },
    {
     "name": "stdout",
     "output_type": "stream",
     "text": [
      "\n",
      "Training on chunk 2 finished\n"
     ]
    },
    {
     "name": "stderr",
     "output_type": "stream",
     "text": [
      "<ipython-input-16-c7c579f16c99>:10: UserWarning: To copy construct from a tensor, it is recommended to use sourceTensor.clone().detach() or sourceTensor.clone().detach().requires_grad_(True), rather than torch.tensor(sourceTensor).\n",
      "  criterion = nn.CrossEntropyLoss(weight=torch.tensor(class_weights, dtype=torch.float).to(config.device))\n"
     ]
    },
    {
     "name": "stdout",
     "output_type": "stream",
     "text": [
      "\n",
      "Training on chunk 3 finished\n"
     ]
    },
    {
     "name": "stderr",
     "output_type": "stream",
     "text": [
      "<ipython-input-16-c7c579f16c99>:10: UserWarning: To copy construct from a tensor, it is recommended to use sourceTensor.clone().detach() or sourceTensor.clone().detach().requires_grad_(True), rather than torch.tensor(sourceTensor).\n",
      "  criterion = nn.CrossEntropyLoss(weight=torch.tensor(class_weights, dtype=torch.float).to(config.device))\n"
     ]
    },
    {
     "name": "stdout",
     "output_type": "stream",
     "text": [
      "\n",
      "Training on chunk 4 finished\n"
     ]
    },
    {
     "name": "stderr",
     "output_type": "stream",
     "text": [
      "<ipython-input-16-c7c579f16c99>:10: UserWarning: To copy construct from a tensor, it is recommended to use sourceTensor.clone().detach() or sourceTensor.clone().detach().requires_grad_(True), rather than torch.tensor(sourceTensor).\n",
      "  criterion = nn.CrossEntropyLoss(weight=torch.tensor(class_weights, dtype=torch.float).to(config.device))\n"
     ]
    },
    {
     "name": "stdout",
     "output_type": "stream",
     "text": [
      "\n",
      "Training on chunk 5 finished\n"
     ]
    },
    {
     "name": "stderr",
     "output_type": "stream",
     "text": [
      "<ipython-input-16-c7c579f16c99>:10: UserWarning: To copy construct from a tensor, it is recommended to use sourceTensor.clone().detach() or sourceTensor.clone().detach().requires_grad_(True), rather than torch.tensor(sourceTensor).\n",
      "  criterion = nn.CrossEntropyLoss(weight=torch.tensor(class_weights, dtype=torch.float).to(config.device))\n"
     ]
    },
    {
     "name": "stdout",
     "output_type": "stream",
     "text": [
      "\n",
      "Training on chunk 6 finished\n"
     ]
    },
    {
     "name": "stderr",
     "output_type": "stream",
     "text": [
      "<ipython-input-16-c7c579f16c99>:10: UserWarning: To copy construct from a tensor, it is recommended to use sourceTensor.clone().detach() or sourceTensor.clone().detach().requires_grad_(True), rather than torch.tensor(sourceTensor).\n",
      "  criterion = nn.CrossEntropyLoss(weight=torch.tensor(class_weights, dtype=torch.float).to(config.device))\n"
     ]
    },
    {
     "name": "stdout",
     "output_type": "stream",
     "text": [
      "\n",
      "Training on chunk 7 finished\n"
     ]
    },
    {
     "name": "stderr",
     "output_type": "stream",
     "text": [
      "<ipython-input-16-c7c579f16c99>:10: UserWarning: To copy construct from a tensor, it is recommended to use sourceTensor.clone().detach() or sourceTensor.clone().detach().requires_grad_(True), rather than torch.tensor(sourceTensor).\n",
      "  criterion = nn.CrossEntropyLoss(weight=torch.tensor(class_weights, dtype=torch.float).to(config.device))\n"
     ]
    },
    {
     "name": "stdout",
     "output_type": "stream",
     "text": [
      "\n",
      "Training on chunk 8 finished\n"
     ]
    },
    {
     "name": "stderr",
     "output_type": "stream",
     "text": [
      "<ipython-input-16-c7c579f16c99>:10: UserWarning: To copy construct from a tensor, it is recommended to use sourceTensor.clone().detach() or sourceTensor.clone().detach().requires_grad_(True), rather than torch.tensor(sourceTensor).\n",
      "  criterion = nn.CrossEntropyLoss(weight=torch.tensor(class_weights, dtype=torch.float).to(config.device))\n"
     ]
    },
    {
     "name": "stdout",
     "output_type": "stream",
     "text": [
      "\n",
      "Training on chunk 9 finished\n"
     ]
    },
    {
     "name": "stderr",
     "output_type": "stream",
     "text": [
      "<ipython-input-16-c7c579f16c99>:10: UserWarning: To copy construct from a tensor, it is recommended to use sourceTensor.clone().detach() or sourceTensor.clone().detach().requires_grad_(True), rather than torch.tensor(sourceTensor).\n",
      "  criterion = nn.CrossEntropyLoss(weight=torch.tensor(class_weights, dtype=torch.float).to(config.device))\n"
     ]
    },
    {
     "name": "stdout",
     "output_type": "stream",
     "text": [
      "\n",
      "Training on chunk 10 finished\n"
     ]
    },
    {
     "name": "stderr",
     "output_type": "stream",
     "text": [
      "<ipython-input-16-c7c579f16c99>:10: UserWarning: To copy construct from a tensor, it is recommended to use sourceTensor.clone().detach() or sourceTensor.clone().detach().requires_grad_(True), rather than torch.tensor(sourceTensor).\n",
      "  criterion = nn.CrossEntropyLoss(weight=torch.tensor(class_weights, dtype=torch.float).to(config.device))\n"
     ]
    },
    {
     "name": "stdout",
     "output_type": "stream",
     "text": [
      "\n",
      "Training on chunk 11 finished\n",
      "Epoch [1/2]\n",
      "Train Loss: 0.0027, Accuracy: 93.23%\n",
      "Val Loss: 0.0046, Accuracy: 91.38%\n"
     ]
    },
    {
     "name": "stderr",
     "output_type": "stream",
     "text": [
      "<ipython-input-16-c7c579f16c99>:10: UserWarning: To copy construct from a tensor, it is recommended to use sourceTensor.clone().detach() or sourceTensor.clone().detach().requires_grad_(True), rather than torch.tensor(sourceTensor).\n",
      "  criterion = nn.CrossEntropyLoss(weight=torch.tensor(class_weights, dtype=torch.float).to(config.device))\n"
     ]
    },
    {
     "name": "stdout",
     "output_type": "stream",
     "text": [
      "\n",
      "Training on chunk 0 finished\n"
     ]
    },
    {
     "name": "stderr",
     "output_type": "stream",
     "text": [
      "<ipython-input-16-c7c579f16c99>:10: UserWarning: To copy construct from a tensor, it is recommended to use sourceTensor.clone().detach() or sourceTensor.clone().detach().requires_grad_(True), rather than torch.tensor(sourceTensor).\n",
      "  criterion = nn.CrossEntropyLoss(weight=torch.tensor(class_weights, dtype=torch.float).to(config.device))\n"
     ]
    },
    {
     "name": "stdout",
     "output_type": "stream",
     "text": [
      "\n",
      "Training on chunk 1 finished\n"
     ]
    },
    {
     "name": "stderr",
     "output_type": "stream",
     "text": [
      "<ipython-input-16-c7c579f16c99>:10: UserWarning: To copy construct from a tensor, it is recommended to use sourceTensor.clone().detach() or sourceTensor.clone().detach().requires_grad_(True), rather than torch.tensor(sourceTensor).\n",
      "  criterion = nn.CrossEntropyLoss(weight=torch.tensor(class_weights, dtype=torch.float).to(config.device))\n"
     ]
    },
    {
     "name": "stdout",
     "output_type": "stream",
     "text": [
      "\n",
      "Training on chunk 2 finished\n"
     ]
    },
    {
     "name": "stderr",
     "output_type": "stream",
     "text": [
      "<ipython-input-16-c7c579f16c99>:10: UserWarning: To copy construct from a tensor, it is recommended to use sourceTensor.clone().detach() or sourceTensor.clone().detach().requires_grad_(True), rather than torch.tensor(sourceTensor).\n",
      "  criterion = nn.CrossEntropyLoss(weight=torch.tensor(class_weights, dtype=torch.float).to(config.device))\n"
     ]
    },
    {
     "name": "stdout",
     "output_type": "stream",
     "text": [
      "\n",
      "Training on chunk 3 finished\n"
     ]
    },
    {
     "name": "stderr",
     "output_type": "stream",
     "text": [
      "<ipython-input-16-c7c579f16c99>:10: UserWarning: To copy construct from a tensor, it is recommended to use sourceTensor.clone().detach() or sourceTensor.clone().detach().requires_grad_(True), rather than torch.tensor(sourceTensor).\n",
      "  criterion = nn.CrossEntropyLoss(weight=torch.tensor(class_weights, dtype=torch.float).to(config.device))\n"
     ]
    },
    {
     "name": "stdout",
     "output_type": "stream",
     "text": [
      "\n",
      "Training on chunk 4 finished\n"
     ]
    },
    {
     "name": "stderr",
     "output_type": "stream",
     "text": [
      "<ipython-input-16-c7c579f16c99>:10: UserWarning: To copy construct from a tensor, it is recommended to use sourceTensor.clone().detach() or sourceTensor.clone().detach().requires_grad_(True), rather than torch.tensor(sourceTensor).\n",
      "  criterion = nn.CrossEntropyLoss(weight=torch.tensor(class_weights, dtype=torch.float).to(config.device))\n"
     ]
    },
    {
     "name": "stdout",
     "output_type": "stream",
     "text": [
      "\n",
      "Training on chunk 5 finished\n"
     ]
    },
    {
     "name": "stderr",
     "output_type": "stream",
     "text": [
      "<ipython-input-16-c7c579f16c99>:10: UserWarning: To copy construct from a tensor, it is recommended to use sourceTensor.clone().detach() or sourceTensor.clone().detach().requires_grad_(True), rather than torch.tensor(sourceTensor).\n",
      "  criterion = nn.CrossEntropyLoss(weight=torch.tensor(class_weights, dtype=torch.float).to(config.device))\n"
     ]
    },
    {
     "name": "stdout",
     "output_type": "stream",
     "text": [
      "\n",
      "Training on chunk 6 finished\n"
     ]
    },
    {
     "name": "stderr",
     "output_type": "stream",
     "text": [
      "<ipython-input-16-c7c579f16c99>:10: UserWarning: To copy construct from a tensor, it is recommended to use sourceTensor.clone().detach() or sourceTensor.clone().detach().requires_grad_(True), rather than torch.tensor(sourceTensor).\n",
      "  criterion = nn.CrossEntropyLoss(weight=torch.tensor(class_weights, dtype=torch.float).to(config.device))\n"
     ]
    },
    {
     "name": "stdout",
     "output_type": "stream",
     "text": [
      "\n",
      "Training on chunk 7 finished\n"
     ]
    },
    {
     "name": "stderr",
     "output_type": "stream",
     "text": [
      "<ipython-input-16-c7c579f16c99>:10: UserWarning: To copy construct from a tensor, it is recommended to use sourceTensor.clone().detach() or sourceTensor.clone().detach().requires_grad_(True), rather than torch.tensor(sourceTensor).\n",
      "  criterion = nn.CrossEntropyLoss(weight=torch.tensor(class_weights, dtype=torch.float).to(config.device))\n"
     ]
    },
    {
     "name": "stdout",
     "output_type": "stream",
     "text": [
      "\n",
      "Training on chunk 8 finished\n"
     ]
    },
    {
     "name": "stderr",
     "output_type": "stream",
     "text": [
      "<ipython-input-16-c7c579f16c99>:10: UserWarning: To copy construct from a tensor, it is recommended to use sourceTensor.clone().detach() or sourceTensor.clone().detach().requires_grad_(True), rather than torch.tensor(sourceTensor).\n",
      "  criterion = nn.CrossEntropyLoss(weight=torch.tensor(class_weights, dtype=torch.float).to(config.device))\n"
     ]
    },
    {
     "name": "stdout",
     "output_type": "stream",
     "text": [
      "\n",
      "Training on chunk 9 finished\n"
     ]
    },
    {
     "name": "stderr",
     "output_type": "stream",
     "text": [
      "<ipython-input-16-c7c579f16c99>:10: UserWarning: To copy construct from a tensor, it is recommended to use sourceTensor.clone().detach() or sourceTensor.clone().detach().requires_grad_(True), rather than torch.tensor(sourceTensor).\n",
      "  criterion = nn.CrossEntropyLoss(weight=torch.tensor(class_weights, dtype=torch.float).to(config.device))\n"
     ]
    },
    {
     "name": "stdout",
     "output_type": "stream",
     "text": [
      "\n",
      "Training on chunk 10 finished\n"
     ]
    },
    {
     "name": "stderr",
     "output_type": "stream",
     "text": [
      "<ipython-input-16-c7c579f16c99>:10: UserWarning: To copy construct from a tensor, it is recommended to use sourceTensor.clone().detach() or sourceTensor.clone().detach().requires_grad_(True), rather than torch.tensor(sourceTensor).\n",
      "  criterion = nn.CrossEntropyLoss(weight=torch.tensor(class_weights, dtype=torch.float).to(config.device))\n"
     ]
    },
    {
     "name": "stdout",
     "output_type": "stream",
     "text": [
      "\n",
      "Training on chunk 11 finished\n",
      "Epoch [2/2]\n",
      "Train Loss: 0.0016, Accuracy: 96.00%\n",
      "Val Loss: 0.0044, Accuracy: 92.55%\n",
      "Model trained for horizon 100 saved to: /content/drive/My Drive/BiTran_100.pt\n",
      "\n",
      "Evaluation on chunk 0 finished\n",
      "\n",
      "Evaluation on chunk 1 finished\n",
      "\n",
      "Evaluation on chunk 2 finished\n",
      "\n",
      "Evaluation on chunk 3 finished\n",
      "\n",
      "Evaluation on chunk 4 finished\n",
      "\n",
      "Evaluation on chunk 5 finished\n",
      "Overall Accuracy: 91.87%\n",
      "Overall F1 Score: 0.9187\n",
      "Overall Recall: 0.9187\n",
      "Overall Precision: 0.9194\n",
      "\n",
      "Final Results:\n",
      "       loss   accuracy        f1    recall  precision  Horizon\n",
      "0  0.004401  94.856251  0.948976  0.948563   0.949577       10\n",
      "1  0.004133  93.522586  0.934300  0.935226   0.934796       20\n",
      "2  0.004946  88.894612  0.886334  0.888946   0.890648       50\n",
      "3  0.004653  91.866735  0.918713  0.918667   0.919380      100\n",
      "Evaluation results saved to: /content/drive/My Drive/benchmark_bitran.csv\n"
     ]
    }
   ],
   "source": [
    "# Data Retrieval\n",
    "combined_data = import_data()\n",
    "\n",
    "# Configuration\n",
    "config = TrainingConfig(combined_data)\n",
    "\n",
    "# We set the sequence length at 10 (common choice in LOB data experiences)\n",
    "config.seq_len = 10\n",
    "# Optimal batch size of 64\n",
    "config.batch_size = 64\n",
    "\n",
    "# Definition of the transformer model : We set the use_tape parameter to True\n",
    "model = BiTranWrapper(\n",
    "            input_dim=config.input_dim,\n",
    "            seq_len=config.seq_len,\n",
    "            num_classes=config.num_classes,\n",
    "            use_tape=True,\n",
    "            n_heads=8 # 8 heads\n",
    "        ).to(config.device)\n",
    "\n",
    "# Results time!\n",
    "benchmark(combined_data, model, config,'BiTran')"
   ]
  }
 ],
 "metadata": {
  "kernelspec": {
   "display_name": "base",
   "language": "python",
   "name": "python3"
  },
  "language_info": {
   "codemirror_mode": {
    "name": "ipython",
    "version": 3
   },
   "file_extension": ".py",
   "mimetype": "text/x-python",
   "name": "python",
   "nbconvert_exporter": "python",
   "pygments_lexer": "ipython3",
   "version": "3.12.4"
  }
 },
 "nbformat": 4,
 "nbformat_minor": 2
}
