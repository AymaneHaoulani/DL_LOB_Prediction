{
 "cells": [
  {
   "cell_type": "code",
   "execution_count": 1,
   "id": "d64914d4-40cf-46d7-9c1b-e33faab97533",
   "metadata": {},
   "outputs": [],
   "source": [
    "import pandas as pd\n",
    "import os\n",
    "import sys\n",
    "import numpy as np\n",
    "\n",
    "current_dir = os.getcwd()\n",
    "parent_dir = os.path.abspath(os.path.join(current_dir, '../..'))\n",
    "sys.path.append(parent_dir)\n",
    "from src.Evaluation.Others.testing import *"
   ]
  },
  {
   "cell_type": "markdown",
   "id": "2d68d585-e32c-4857-ab98-99a2ed5f1acb",
   "metadata": {},
   "source": [
    "## LSTM Architecture\n",
    " \n",
    "LSTMs (Long Short-Term Memory) are well-suited for time-series data as they address the vanishing gradient problem in RNNs. They effectively capture long-term dependencies, making them ideal for mid-price trend prediction. In general, RNNs (Recurrent Neural Networks) are the perfect candidates for sequential data, as they are designed to process data where current inputs depend on previous ones, enabling them to model temporal dynamics effectively.\n",
    "\n",
    "**Architecture:**  \n",
    "\n",
    "![Image description](../images/LSTM_Architecture.png)\n",
    "\n",
    "1. **Input**: Sequence of vectors from time $t-T-1$ to $t$ (with T the sequence length).  \n",
    "2. **LSTM Layers**: Two stacked LSTM layers for learning complex temporal dependencies.\n",
    "3. **Layer Normalizaton**: Used to stabilize the training process\n",
    "4. **Dropout**: Helps prevent overfitting while training on noisy financial data.  \n",
    "5. **Fully Connected Layer**: Maps the last hidden state to output class logits.\n",
    "6. **Softmax function**: for multi-class classification\n",
    "7. **Output**: Down (D), Stable (S), or Up (U) predictions.\n",
    "   \n",
    "**Optimization**:\n",
    "Cross-Entropy Loss & Adam Optimizer\n",
    "\n",
    "**General Hyperparameters:**  \n",
    "- `sequence_length`: $10$\n",
    "- `batch_size`: $64$  \n",
    "\n",
    "**Specific Hyperparameters:**  \n",
    "- `num_layers`: $2$ LSTM layers  \n",
    "- `hidden_size`: $50$  layers size\n",
    "- `dropout`: $0.2$\n",
    "- `learning_rate`: $0.001$\n",
    "- `epochs`: $2$\n",
    "\n",
    "We decided to select relevant handcrafted hyperparameters to reduce training time and save time for the implementation of more advanced architectures like Transformers. \n",
    "\n",
    "The number of layers is set to 2 to create a complex anough architecture while keeping time complexity reasonable, in practice LSTM architectures rarely have more than 3 or 4 layers. \n",
    "\n",
    "The size of the layers (hidden_size) is set to 50, as larger sizes did not improve performance and only increased computational cost. Additionally, we included a dropout layer to prevent overfitting, given the high level of noise typically present in financial data. \n",
    "\n",
    "Since we are using the Adam optimizer, the selection of the learning rate may have less impact on the final performance because the optimizer adjusts the learning rate automatically, that's why we chose the default learning rate of 0.001. \n",
    "\n",
    "The number of epochs selected is sufficient to learn the pattern while being low enough to maintain a manageable time complexity."
   ]
  },
  {
   "cell_type": "code",
   "execution_count": 2,
   "id": "eceb3261-bb27-4ab1-9ced-7594b79168f3",
   "metadata": {},
   "outputs": [
    {
     "name": "stdout",
     "output_type": "stream",
     "text": [
      "Starting tests for LSTM model.\n",
      "\n",
      "=== Predictions for LSTM Model | Horizon = 10 ===\n",
      "Scaler loaded from ../trained_models/model\\LSTM\\scaler_lstm_horizon_10.pkl\n",
      "LSTM model loaded from ../trained_models/model\\LSTM\\lstm_horizon_10.pth\n"
     ]
    },
    {
     "name": "stderr",
     "output_type": "stream",
     "text": [
      "Making Predictions LSTM Horizon 10: 39818it [01:21, 490.54it/s]\n"
     ]
    },
    {
     "name": "stdout",
     "output_type": "stream",
     "text": [
      "--- LSTM Model | Horizon = 10 ---\n",
      "Accuracy: 0.972170\n",
      "Weighted F1 Score: 0.971935\n",
      "\n",
      "Classification Report:\n",
      "              precision    recall  f1-score   support\n",
      "\n",
      "           D       0.94      0.90      0.92    251726\n",
      "           S       0.98      0.99      0.99   2053299\n",
      "           U       0.92      0.90      0.91    242633\n",
      "\n",
      "    accuracy                           0.97   2547658\n",
      "   macro avg       0.95      0.93      0.94   2547658\n",
      "weighted avg       0.97      0.97      0.97   2547658\n",
      "\n",
      "\n",
      "--------------------------------------------------\n",
      "\n",
      "=== Predictions for LSTM Model | Horizon = 20 ===\n",
      "Scaler loaded from ../trained_models/model\\LSTM\\scaler_lstm_horizon_20.pkl\n",
      "LSTM model loaded from ../trained_models/model\\LSTM\\lstm_horizon_20.pth\n"
     ]
    },
    {
     "name": "stderr",
     "output_type": "stream",
     "text": [
      "Making Predictions LSTM Horizon 20: 39817it [01:20, 495.72it/s]\n"
     ]
    },
    {
     "name": "stdout",
     "output_type": "stream",
     "text": [
      "--- LSTM Model | Horizon = 20 ---\n",
      "Accuracy: 0.975886\n",
      "Weighted F1 Score: 0.975657\n",
      "\n",
      "Classification Report:\n",
      "              precision    recall  f1-score   support\n",
      "\n",
      "           D       0.96      0.93      0.95    409499\n",
      "           S       0.98      1.00      0.99   1745124\n",
      "           U       0.96      0.93      0.94    393025\n",
      "\n",
      "    accuracy                           0.98   2547648\n",
      "   macro avg       0.97      0.95      0.96   2547648\n",
      "weighted avg       0.98      0.98      0.98   2547648\n",
      "\n",
      "\n",
      "--------------------------------------------------\n",
      "\n",
      "=== Predictions for LSTM Model | Horizon = 50 ===\n",
      "Scaler loaded from ../trained_models/model\\LSTM\\scaler_lstm_horizon_50.pkl\n",
      "LSTM model loaded from ../trained_models/model\\LSTM\\lstm_horizon_50.pth\n"
     ]
    },
    {
     "name": "stderr",
     "output_type": "stream",
     "text": [
      "Making Predictions LSTM Horizon 50: 39817it [01:21, 491.15it/s]\n"
     ]
    },
    {
     "name": "stdout",
     "output_type": "stream",
     "text": [
      "--- LSTM Model | Horizon = 50 ---\n",
      "Accuracy: 0.908761\n",
      "Weighted F1 Score: 0.907280\n",
      "\n",
      "Classification Report:\n",
      "              precision    recall  f1-score   support\n",
      "\n",
      "           D       0.80      0.93      0.86    686217\n",
      "           S       0.97      0.99      0.98   1200712\n",
      "           U       0.94      0.74      0.83    660689\n",
      "\n",
      "    accuracy                           0.91   2547618\n",
      "   macro avg       0.90      0.89      0.89   2547618\n",
      "weighted avg       0.91      0.91      0.91   2547618\n",
      "\n",
      "\n",
      "--------------------------------------------------\n",
      "\n",
      "=== Predictions for LSTM Model | Horizon = 100 ===\n",
      "Scaler loaded from ../trained_models/model\\LSTM\\scaler_lstm_horizon_100.pkl\n",
      "LSTM model loaded from ../trained_models/model\\LSTM\\lstm_horizon_100.pth\n"
     ]
    },
    {
     "name": "stderr",
     "output_type": "stream",
     "text": [
      "Making Predictions LSTM Horizon 100: 39816it [01:21, 491.33it/s]\n"
     ]
    },
    {
     "name": "stdout",
     "output_type": "stream",
     "text": [
      "--- LSTM Model | Horizon = 100 ---\n",
      "Accuracy: 0.822822\n",
      "Weighted F1 Score: 0.816769\n",
      "\n",
      "Classification Report:\n",
      "              precision    recall  f1-score   support\n",
      "\n",
      "           D       0.70      0.89      0.78    819038\n",
      "           S       0.91      0.97      0.94    930007\n",
      "           U       0.90      0.59      0.71    798523\n",
      "\n",
      "    accuracy                           0.82   2547568\n",
      "   macro avg       0.84      0.81      0.81   2547568\n",
      "weighted avg       0.84      0.82      0.82   2547568\n",
      "\n",
      "\n",
      "--------------------------------------------------\n",
      "\n",
      "=== Metrics Summary - LSTM ===\n",
      "Model_Type Horizon  Accuracy  Weighted_F1\n",
      "      LSTM      10  0.972170     0.971935\n",
      "      LSTM      20  0.975886     0.975657\n",
      "      LSTM      50  0.908761     0.907280\n",
      "      LSTM     100  0.822822     0.816769\n",
      "\n",
      "==================================================\n",
      "\n",
      "LSTM metrics summary saved at: ../trained_models/model\\lstm_summary_metrics.csv\n",
      "\n"
     ]
    }
   ],
   "source": [
    "test_lstm_model()"
   ]
  }
 ],
 "metadata": {
  "kernelspec": {
   "display_name": "Python 3 (ipykernel)",
   "language": "python",
   "name": "python3"
  },
  "language_info": {
   "codemirror_mode": {
    "name": "ipython",
    "version": 3
   },
   "file_extension": ".py",
   "mimetype": "text/x-python",
   "name": "python",
   "nbconvert_exporter": "python",
   "pygments_lexer": "ipython3",
   "version": "3.12.7"
  }
 },
 "nbformat": 4,
 "nbformat_minor": 5
}
