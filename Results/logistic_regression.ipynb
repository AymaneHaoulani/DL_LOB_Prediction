{
 "cells": [
  {
   "cell_type": "code",
   "execution_count": 1,
   "id": "d86b4e3e-83ae-4d4c-a949-c5513bab1b5a",
   "metadata": {},
   "outputs": [],
   "source": [
    "import pandas as pd\n",
    "import os\n",
    "import sys\n",
    "import numpy as np\n",
    "\n",
    "current_dir = os.getcwd()\n",
    "parent_dir = os.path.abspath(os.path.join(current_dir, '..'))\n",
    "sys.path.append(parent_dir)\n",
    "from src.Evaluation.Others.testing import *\n"
   ]
  },
  {
   "cell_type": "markdown",
   "id": "f2b54925-2ffa-4d20-9e74-146f239393ad",
   "metadata": {},
   "source": [
    "## Logistic Regression Architecture\n",
    "\n",
    "Logistic Regression is a simple baseline model used to compare the performance of more advanced architectures.\n",
    "\n",
    "**Architecture**:  \n",
    "\n",
    "1. **Input**: Flattened vector of lagged features from $t-1$ to $t-T-1$, where $T$ is the sequence length.\n",
    "2. **One linear Layer**: simple logistic regression architecture\n",
    "3. **Softmax function**: for multi-class classification\n",
    "4. **Output**: Down (D), Stable (S), or Up (U) predictions.\n",
    "\n",
    "**Optimization**: Cross-Entropy Loss & Adam Optimizer\n",
    "\n",
    "**Hyperparameters:**  \n",
    "- `sequence_length`: $10$\n",
    "- `batch_size`: $64$  \n",
    "- `learning_rate`: $0.001$\n",
    "- `epochs`: $2$\n"
   ]
  },
  {
   "cell_type": "code",
   "execution_count": 2,
   "id": "e4109f12-ad80-44c9-a117-38e07725d7a6",
   "metadata": {},
   "outputs": [
    {
     "name": "stdout",
     "output_type": "stream",
     "text": [
      "Starting tests for logreg model.\n",
      "\n",
      "=== Predictions for logreg Model | Horizon = 10 ===\n",
      "Scaler loaded from ../trained_models/model\\LogReg\\scaler_logreg_horizon_10.pkl\n",
      "logreg model loaded from ../trained_models/model\\LogReg\\logreg_horizon_10.pth\n"
     ]
    },
    {
     "name": "stderr",
     "output_type": "stream",
     "text": [
      "Making Predictions logreg Horizon 10: 39818it [00:37, 1058.45it/s]\n"
     ]
    },
    {
     "name": "stdout",
     "output_type": "stream",
     "text": [
      "--- logreg Model | Horizon = 10 ---\n",
      "Accuracy: 0.862087\n",
      "Weighted F1 Score: 0.876575\n",
      "\n",
      "Classification Report:\n",
      "              precision    recall  f1-score   support\n",
      "\n",
      "           D       0.81      0.70      0.75    251726\n",
      "           S       0.98      0.88      0.93   2053299\n",
      "           U       0.44      0.88      0.59    242633\n",
      "\n",
      "    accuracy                           0.86   2547658\n",
      "   macro avg       0.74      0.82      0.76   2547658\n",
      "weighted avg       0.91      0.86      0.88   2547658\n",
      "\n",
      "\n",
      "--------------------------------------------------\n",
      "\n",
      "=== Predictions for logreg Model | Horizon = 20 ===\n",
      "Scaler loaded from ../trained_models/model\\LogReg\\scaler_logreg_horizon_20.pkl\n",
      "logreg model loaded from ../trained_models/model\\LogReg\\logreg_horizon_20.pth\n"
     ]
    },
    {
     "name": "stderr",
     "output_type": "stream",
     "text": [
      "Making Predictions logreg Horizon 20: 39817it [00:36, 1081.18it/s]\n"
     ]
    },
    {
     "name": "stdout",
     "output_type": "stream",
     "text": [
      "--- logreg Model | Horizon = 20 ---\n",
      "Accuracy: 0.943881\n",
      "Weighted F1 Score: 0.942295\n",
      "\n",
      "Classification Report:\n",
      "              precision    recall  f1-score   support\n",
      "\n",
      "           D       0.94      0.81      0.87    409499\n",
      "           S       0.95      1.00      0.97   1745124\n",
      "           U       0.93      0.85      0.89    393025\n",
      "\n",
      "    accuracy                           0.94   2547648\n",
      "   macro avg       0.94      0.89      0.91   2547648\n",
      "weighted avg       0.94      0.94      0.94   2547648\n",
      "\n",
      "\n",
      "--------------------------------------------------\n",
      "\n",
      "=== Predictions for logreg Model | Horizon = 50 ===\n",
      "Scaler loaded from ../trained_models/model\\LogReg\\scaler_logreg_horizon_50.pkl\n",
      "logreg model loaded from ../trained_models/model\\LogReg\\logreg_horizon_50.pth\n"
     ]
    },
    {
     "name": "stderr",
     "output_type": "stream",
     "text": [
      "Making Predictions logreg Horizon 50: 39817it [00:37, 1048.92it/s]\n"
     ]
    },
    {
     "name": "stdout",
     "output_type": "stream",
     "text": [
      "--- logreg Model | Horizon = 50 ---\n",
      "Accuracy: 0.841540\n",
      "Weighted F1 Score: 0.833997\n",
      "\n",
      "Classification Report:\n",
      "              precision    recall  f1-score   support\n",
      "\n",
      "           D       0.80      0.80      0.80    686217\n",
      "           S       0.83      0.99      0.91   1200712\n",
      "           U       0.94      0.61      0.74    660689\n",
      "\n",
      "    accuracy                           0.84   2547618\n",
      "   macro avg       0.86      0.80      0.81   2547618\n",
      "weighted avg       0.85      0.84      0.83   2547618\n",
      "\n",
      "\n",
      "--------------------------------------------------\n",
      "\n",
      "=== Predictions for logreg Model | Horizon = 100 ===\n",
      "Scaler loaded from ../trained_models/model\\LogReg\\scaler_logreg_horizon_100.pkl\n",
      "logreg model loaded from ../trained_models/model\\LogReg\\logreg_horizon_100.pth\n"
     ]
    },
    {
     "name": "stderr",
     "output_type": "stream",
     "text": [
      "Making Predictions logreg Horizon 100: 39816it [00:38, 1028.59it/s]\n"
     ]
    },
    {
     "name": "stdout",
     "output_type": "stream",
     "text": [
      "--- logreg Model | Horizon = 100 ---\n",
      "Accuracy: 0.740200\n",
      "Weighted F1 Score: 0.727241\n",
      "\n",
      "Classification Report:\n",
      "              precision    recall  f1-score   support\n",
      "\n",
      "           D       0.72      0.71      0.71    819038\n",
      "           S       0.71      0.98      0.82    930007\n",
      "           U       0.87      0.50      0.63    798523\n",
      "\n",
      "    accuracy                           0.74   2547568\n",
      "   macro avg       0.77      0.73      0.72   2547568\n",
      "weighted avg       0.76      0.74      0.73   2547568\n",
      "\n",
      "\n",
      "--------------------------------------------------\n",
      "\n",
      "=== Metrics Summary - logreg ===\n",
      "Model_Type Horizon  Accuracy  Weighted_F1\n",
      "    logreg      10  0.862087     0.876575\n",
      "    logreg      20  0.943881     0.942295\n",
      "    logreg      50  0.841540     0.833997\n",
      "    logreg     100  0.740200     0.727241\n",
      "\n",
      "==================================================\n",
      "\n",
      "Logreg metrics summary saved at: ../trained_models/model\\logreg_summary_metrics.csv\n",
      "\n"
     ]
    }
   ],
   "source": [
    "test_logistic_regression_model()"
   ]
  }
 ],
 "metadata": {
  "kernelspec": {
   "display_name": "Python 3 (ipykernel)",
   "language": "python",
   "name": "python3"
  },
  "language_info": {
   "codemirror_mode": {
    "name": "ipython",
    "version": 3
   },
   "file_extension": ".py",
   "mimetype": "text/x-python",
   "name": "python",
   "nbconvert_exporter": "python",
   "pygments_lexer": "ipython3",
   "version": "3.12.7"
  }
 },
 "nbformat": 4,
 "nbformat_minor": 5
}
